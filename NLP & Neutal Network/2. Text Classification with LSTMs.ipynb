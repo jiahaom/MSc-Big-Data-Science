{
 "cells": [
  {
   "cell_type": "markdown",
   "metadata": {
    "id": "t_yvQBKrD8Se"
   },
   "source": [
    "# 2: LSTM for Text Classification\n",
    "\n",
    "<br>\n",
    "\n",
    "**February 2nd and 3rd**\n",
    "\n",
    "We will build an LSTM model to classify movie reviews as either positive or negative. After training, we will extract the word embeddings learned by the model."
   ]
  },
  {
   "cell_type": "markdown",
   "metadata": {
    "id": "w6Pi5uvTLRCo"
   },
   "source": [
    "### **1. Getting the Dataset**\n",
    "\n",
    "We will be using the imdb dataset. This is a dataset of 25,000 movie reviews from IMDB, labeled by sentiment - positive (1) or negative (0). \n",
    "<br>\n",
    "\n",
    "The reviews have been preprocessed, and each review is encoded as a list of word indices. In this preprocessed corpus, the words are indexed by overall frequency in the dataset, such that a word with index 3 occurs more frequently than a word with index 10.\n",
    "<br>\n",
    "\n",
    "In the following blocks of code in this section, we will load and visualize the data.\n"
   ]
  },
  {
   "cell_type": "code",
   "execution_count": 1,
   "metadata": {
    "id": "xn7sWMG-KoBV"
   },
   "outputs": [],
   "source": [
    "from tensorflow.keras import datasets\n",
    "imdb = datasets.imdb"
   ]
  },
  {
   "cell_type": "code",
   "execution_count": 2,
   "metadata": {
    "id": "yCH0PmPcL83f"
   },
   "outputs": [],
   "source": [
    "%%capture\n",
    "\n",
    "# we'll use the most frequent 10000 words in the vocabulary\n",
    "VOCAB_SIZE = 10000\n",
    "\n",
    "# 0 is reserved for ‘<PAD>’, 1 for ‘<START>’ and 2 for ‘<UNK>’ i.e. words not in vocabulary\n",
    "# the documentation says index_from = 3 but actually uses the value as an offset. The words\n",
    "# in the dictionary are indexed from 1 by default so, saying index_from=3 means any actual\n",
    "# words would start from 4 (1+3) and index 3 will be left unused. We use index_from=offset=2 to avoid this\n",
    "OFFSET = 2\n",
    "\n",
    "# for more information on the load_data method, type(help(load_data))\n",
    "(train_data,train_labels),(test_data,test_labels) = imdb.load_data(num_words=VOCAB_SIZE, \n",
    "                                                                   index_from=OFFSET)"
   ]
  },
  {
   "cell_type": "code",
   "execution_count": 3,
   "metadata": {
    "colab": {
     "base_uri": "https://localhost:8080/"
    },
    "id": "APFWiEejv9i5",
    "outputId": "ec33130f-0119-4120-d663-804e0daa8a1f"
   },
   "outputs": [
    {
     "name": "stdout",
     "output_type": "stream",
     "text": [
      "Sample review: [1, 13, 21, 15, 42, 529, 972, 1621, 1384, 64, 457, 4467, 65, 3940, 3, 172, 35, 255, 4, 24, 99, 42, 837, 111, 49, 669, 2, 8, 34, 479, 283, 4, 149, 3, 171, 111, 166, 2, 335, 384, 38, 3, 171, 4535, 1110, 16, 545, 37, 12, 446, 3, 191, 49, 15, 5, 146, 2024, 18, 13, 21, 3, 1919, 4612, 468, 3, 21, 70, 86, 11, 15, 42, 529, 37, 75, 14, 12, 1246, 3, 21, 16, 514, 16, 11, 15, 625, 17, 2, 4, 61, 385, 11, 7, 315, 7, 105, 4, 3, 2222, 5243, 15, 479, 65, 3784, 32, 3, 129, 11, 15, 37, 618, 4, 24, 123, 50, 35, 134, 47, 24, 1414, 32, 5, 21, 11, 214, 27, 76, 51, 4, 13, 406, 15, 81, 2, 7, 3, 106, 116, 5951, 14, 255, 3, 2, 6, 3765, 4, 722, 35, 70, 42, 529, 475, 25, 399, 316, 45, 6, 3, 2, 1028, 12, 103, 87, 3, 380, 14, 296, 97, 31, 2070, 55, 25, 140, 5, 193, 7485, 17, 3, 225, 21, 20, 133, 475, 25, 479, 4, 143, 29, 5534, 17, 50, 35, 27, 223, 91, 24, 103, 3, 225, 64, 15, 37, 1333, 87, 11, 15, 282, 4, 15, 4471, 112, 102, 31, 14, 15, 5344, 18, 177, 31]\n"
     ]
    }
   ],
   "source": [
    "print('Sample review:', train_data[0])"
   ]
  },
  {
   "cell_type": "code",
   "execution_count": 4,
   "metadata": {
    "colab": {
     "base_uri": "https://localhost:8080/"
    },
    "id": "CwgeiaF7n_lX",
    "outputId": "a480134e-c253-4c56-b057-7e18db3a83be"
   },
   "outputs": [
    {
     "name": "stdout",
     "output_type": "stream",
     "text": [
      "\n",
      " Sample label: 1\n"
     ]
    }
   ],
   "source": [
    "print('\\n Sample label:', train_labels[0])"
   ]
  },
  {
   "cell_type": "markdown",
   "metadata": {
    "id": "4c14vElNvMGX"
   },
   "source": [
    "### **2. Readying the Inputs for the LSTM**\n",
    "\n",
    "The movie reviews are of different lengths. The standard way of dealing with varying length inputs is to ***pad*** or ***truncate*** each sentence to a fixed length (which we choose heuristically). \n",
    "\n",
    "Keras provides a way to do this.  In this section, we will use the keras.preprocessing.sequence method <pad_sequences> handle padding and truncating.\n",
    "\n"
   ]
  },
  {
   "cell_type": "code",
   "execution_count": 5,
   "metadata": {
    "id": "7XPwN_COagT9"
   },
   "outputs": [],
   "source": [
    "from keras.preprocessing.sequence import pad_sequences\n",
    "\n",
    "\n",
    "MAX_LENGHT = 500\n",
    "\n",
    "padded_train_data = pad_sequences(train_data, maxlen = MAX_LENGHT)\n",
    "padded_test_data = pad_sequences(test_data, maxlen = MAX_LENGHT)"
   ]
  },
  {
   "cell_type": "code",
   "execution_count": 6,
   "metadata": {
    "colab": {
     "base_uri": "https://localhost:8080/"
    },
    "id": "DZb7keBfdKc_",
    "outputId": "d3d65c70-f18a-43d5-c681-0e87861f3b80"
   },
   "outputs": [
    {
     "name": "stdout",
     "output_type": "stream",
     "text": [
      "Length of sample train_data before preprocessing: 218\n",
      "Length of sample train_data after preprocessing: 500\n",
      "Sample train data: [   0    0    0    0    0    0    0    0    0    0    0    0    0    0\n",
      "    0    0    0    0    0    0    0    0    0    0    0    0    0    0\n",
      "    0    0    0    0    0    0    0    0    0    0    0    0    0    0\n",
      "    0    0    0    0    0    0    0    0    0    0    0    0    0    0\n",
      "    0    0    0    0    0    0    0    0    0    0    0    0    0    0\n",
      "    0    0    0    0    0    0    0    0    0    0    0    0    0    0\n",
      "    0    0    0    0    0    0    0    0    0    0    0    0    0    0\n",
      "    0    0    0    0    0    0    0    0    0    0    0    0    0    0\n",
      "    0    0    0    0    0    0    0    0    0    0    0    0    0    0\n",
      "    0    0    0    0    0    0    0    0    0    0    0    0    0    0\n",
      "    0    0    0    0    0    0    0    0    0    0    0    0    0    0\n",
      "    0    0    0    0    0    0    0    0    0    0    0    0    0    0\n",
      "    0    0    0    0    0    0    0    0    0    0    0    0    0    0\n",
      "    0    0    0    0    0    0    0    0    0    0    0    0    0    0\n",
      "    0    0    0    0    0    0    0    0    0    0    0    0    0    0\n",
      "    0    0    0    0    0    0    0    0    0    0    0    0    0    0\n",
      "    0    0    0    0    0    0    0    0    0    0    0    0    0    0\n",
      "    0    0    0    0    0    0    0    0    0    0    0    0    0    0\n",
      "    0    0    0    0    0    0    0    0    0    0    0    0    0    0\n",
      "    0    0    0    0    0    0    0    0    0    0    0    0    0    0\n",
      "    0    0    1   13   21   15   42  529  972 1621 1384   64  457 4467\n",
      "   65 3940    3  172   35  255    4   24   99   42  837  111   49  669\n",
      "    2    8   34  479  283    4  149    3  171  111  166    2  335  384\n",
      "   38    3  171 4535 1110   16  545   37   12  446    3  191   49   15\n",
      "    5  146 2024   18   13   21    3 1919 4612  468    3   21   70   86\n",
      "   11   15   42  529   37   75   14   12 1246    3   21   16  514   16\n",
      "   11   15  625   17    2    4   61  385   11    7  315    7  105    4\n",
      "    3 2222 5243   15  479   65 3784   32    3  129   11   15   37  618\n",
      "    4   24  123   50   35  134   47   24 1414   32    5   21   11  214\n",
      "   27   76   51    4   13  406   15   81    2    7    3  106  116 5951\n",
      "   14  255    3    2    6 3765    4  722   35   70   42  529  475   25\n",
      "  399  316   45    6    3    2 1028   12  103   87    3  380   14  296\n",
      "   97   31 2070   55   25  140    5  193 7485   17    3  225   21   20\n",
      "  133  475   25  479    4  143   29 5534   17   50   35   27  223   91\n",
      "   24  103    3  225   64   15   37 1333   87   11   15  282    4   15\n",
      " 4471  112  102   31   14   15 5344   18  177   31]\n"
     ]
    }
   ],
   "source": [
    "print('Length of sample train_data before preprocessing:', len(train_data[0]))\n",
    "print('Length of sample train_data after preprocessing:', len(padded_train_data[0]))\n",
    "print('Sample train data:', padded_train_data[0])"
   ]
  },
  {
   "cell_type": "markdown",
   "metadata": {
    "id": "rghchHA66d-V"
   },
   "source": [
    "### **3. Building the Model**\n",
    "\n",
    "In this section, we will use the keras Model API to build a classification model.\n",
    "\n",
    "*   The first step is to tell the model what sort of input to expect using the keras \\<Input\\> layer \n",
    "*   The second step is to add an embedding layer like we did last week. This embedding layer creates a lookup table of the form {word:embedding} for each of the unique words in our corpus. Use EMBED_SIZE = 100 (i.e each word is represented by a 100D vector such that each movie review is 500 X 100 in dimension.  Don't forget to set mask_zero=True since we are using 0 index as out padding.\n",
    "*  The third step is to add an LSTM with 100 units. By leaving 'return_sequences' as False, the output of this model will be the output of the final time step of the LSTM. https://keras.io/api/layers/recurrent_layers/lstm/ \n",
    "*  The final layer of the model is a fully connected (Dense) layer.\n",
    "*  The model should be compiled with a 'binary_crossentropy' loss function, an 'adam' optimizer. We also want to visualize the model accuracy during training so the 'metrics' parameter of the compile method should be set to ['accuracy']."
   ]
  },
  {
   "cell_type": "code",
   "execution_count": null,
   "metadata": {
    "id": "L1EHilHl1l2m"
   },
   "outputs": [],
   "source": [
    "from keras.layers import Input, Embedding, Dense, LSTM\n",
    "from keras.models import Model\n",
    "\n",
    "EMBED_SIZE = 100\n",
    "\n",
    "# 1. tell the model what sort of input to expect using the keras <Input> layer\n",
    "input_layer = Input((MAX_LENGHT, ), dtype='int32')\n",
    "\n",
    "# 2. add an embedding layer to creates a lookup table\n",
    "embedding_layer = Embedding(input_dim = VOCAB_SIZE, \n",
    "                            input_length = MAX_LENGHT,\n",
    "                            output_dim = EMBED_SIZE,\n",
    "                            name='embedding',\n",
    "                            mask_zero=True)(input_layer)\n",
    "\n",
    "\n",
    "# 3. add an LSTM with 100 units\n",
    "lstm_layer = LSTM(100, return_sequences = False)(embedding_layer)\n",
    "\n",
    "# 4. add a final layer\n",
    "label = Dense(1, activation = 'sigmoid')(lstm_layer)\n",
    "\n",
    "# 5. compile the model with a 'binary_crossentropy' loss function, an 'adam' optimizer, \n",
    "# and 'accuracy' for 'metrics' parameter\n",
    "model = Model(inputs = input_layer, outputs = label) \n",
    "\n",
    "model.compile(optimizer='adam',\n",
    "              loss='binary_crossentropy',\n",
    "              metrics = ['accuracy'])"
   ]
  },
  {
   "cell_type": "code",
   "execution_count": null,
   "metadata": {
    "colab": {
     "base_uri": "https://localhost:8080/"
    },
    "id": "PB7Gv4V6raWd",
    "outputId": "e0c71920-29a9-496d-b0e8-23fd807b48f6"
   },
   "outputs": [
    {
     "name": "stdout",
     "output_type": "stream",
     "text": [
      "Model: \"model\"\n",
      "_________________________________________________________________\n",
      " Layer (type)                Output Shape              Param #   \n",
      "=================================================================\n",
      " input_1 (InputLayer)        [(None, 500)]             0         \n",
      "                                                                 \n",
      " embedding (Embedding)       (None, 500, 100)          1000000   \n",
      "                                                                 \n",
      " lstm (LSTM)                 (None, 100)               80400     \n",
      "                                                                 \n",
      " dense (Dense)               (None, 1)                 101       \n",
      "                                                                 \n",
      "=================================================================\n",
      "Total params: 1,080,501\n",
      "Trainable params: 1,080,501\n",
      "Non-trainable params: 0\n",
      "_________________________________________________________________\n"
     ]
    }
   ],
   "source": [
    "model.summary()"
   ]
  },
  {
   "cell_type": "code",
   "execution_count": null,
   "metadata": {
    "colab": {
     "base_uri": "https://localhost:8080/",
     "height": 358
    },
    "id": "ZTq8GsWgsqCe",
    "outputId": "11955c98-f805-4bc4-95f1-fe3e6f5fa1ac"
   },
   "outputs": [
    {
     "data": {
      "image/svg+xml": [
       "<svg height=\"253pt\" viewBox=\"0.00 0.00 354.00 304.00\" width=\"295pt\" xmlns=\"http://www.w3.org/2000/svg\" xmlns:xlink=\"http://www.w3.org/1999/xlink\">\n",
       "<g class=\"graph\" id=\"graph0\" transform=\"scale(.8333 .8333) rotate(0) translate(4 300)\">\n",
       "<title>G</title>\n",
       "<polygon fill=\"#ffffff\" points=\"-4,4 -4,-300 350,-300 350,4 -4,4\" stroke=\"transparent\"/>\n",
       "<!-- 139762209185040 -->\n",
       "<g class=\"node\" id=\"node1\">\n",
       "<title>139762209185040</title>\n",
       "<polygon fill=\"none\" points=\"8,-249.5 8,-295.5 338,-295.5 338,-249.5 8,-249.5\" stroke=\"#000000\"/>\n",
       "<text fill=\"#000000\" font-family=\"Times,serif\" font-size=\"14.00\" text-anchor=\"middle\" x=\"48\" y=\"-280.3\">input_1</text>\n",
       "<polyline fill=\"none\" points=\"8,-272.5 88,-272.5 \" stroke=\"#000000\"/>\n",
       "<text fill=\"#000000\" font-family=\"Times,serif\" font-size=\"14.00\" text-anchor=\"middle\" x=\"48\" y=\"-257.3\">InputLayer</text>\n",
       "<polyline fill=\"none\" points=\"88,-249.5 88,-295.5 \" stroke=\"#000000\"/>\n",
       "<text fill=\"#000000\" font-family=\"Times,serif\" font-size=\"14.00\" text-anchor=\"middle\" x=\"117\" y=\"-280.3\">input:</text>\n",
       "<polyline fill=\"none\" points=\"88,-272.5 146,-272.5 \" stroke=\"#000000\"/>\n",
       "<text fill=\"#000000\" font-family=\"Times,serif\" font-size=\"14.00\" text-anchor=\"middle\" x=\"117\" y=\"-257.3\">output:</text>\n",
       "<polyline fill=\"none\" points=\"146,-249.5 146,-295.5 \" stroke=\"#000000\"/>\n",
       "<text fill=\"#000000\" font-family=\"Times,serif\" font-size=\"14.00\" text-anchor=\"middle\" x=\"194\" y=\"-268.8\">[(None, 500)]</text>\n",
       "<polyline fill=\"none\" points=\"242,-249.5 242,-295.5 \" stroke=\"#000000\"/>\n",
       "<text fill=\"#000000\" font-family=\"Times,serif\" font-size=\"14.00\" text-anchor=\"middle\" x=\"290\" y=\"-268.8\">[(None, 500)]</text>\n",
       "</g>\n",
       "<!-- 139762279987088 -->\n",
       "<g class=\"node\" id=\"node2\">\n",
       "<title>139762279987088</title>\n",
       "<polygon fill=\"none\" points=\"0,-166.5 0,-212.5 346,-212.5 346,-166.5 0,-166.5\" stroke=\"#000000\"/>\n",
       "<text fill=\"#000000\" font-family=\"Times,serif\" font-size=\"14.00\" text-anchor=\"middle\" x=\"42\" y=\"-197.3\">embedding</text>\n",
       "<polyline fill=\"none\" points=\"0,-189.5 84,-189.5 \" stroke=\"#000000\"/>\n",
       "<text fill=\"#000000\" font-family=\"Times,serif\" font-size=\"14.00\" text-anchor=\"middle\" x=\"42\" y=\"-174.3\">Embedding</text>\n",
       "<polyline fill=\"none\" points=\"84,-166.5 84,-212.5 \" stroke=\"#000000\"/>\n",
       "<text fill=\"#000000\" font-family=\"Times,serif\" font-size=\"14.00\" text-anchor=\"middle\" x=\"113\" y=\"-197.3\">input:</text>\n",
       "<polyline fill=\"none\" points=\"84,-189.5 142,-189.5 \" stroke=\"#000000\"/>\n",
       "<text fill=\"#000000\" font-family=\"Times,serif\" font-size=\"14.00\" text-anchor=\"middle\" x=\"113\" y=\"-174.3\">output:</text>\n",
       "<polyline fill=\"none\" points=\"142,-166.5 142,-212.5 \" stroke=\"#000000\"/>\n",
       "<text fill=\"#000000\" font-family=\"Times,serif\" font-size=\"14.00\" text-anchor=\"middle\" x=\"185.5\" y=\"-185.8\">(None, 500)</text>\n",
       "<polyline fill=\"none\" points=\"229,-166.5 229,-212.5 \" stroke=\"#000000\"/>\n",
       "<text fill=\"#000000\" font-family=\"Times,serif\" font-size=\"14.00\" text-anchor=\"middle\" x=\"287.5\" y=\"-185.8\">(None, 500, 100)</text>\n",
       "</g>\n",
       "<!-- 139762209185040&#45;&gt;139762279987088 -->\n",
       "<g class=\"edge\" id=\"edge1\">\n",
       "<title>139762209185040-&gt;139762279987088</title>\n",
       "<path d=\"M173,-249.3799C173,-241.1745 173,-231.7679 173,-222.8786\" fill=\"none\" stroke=\"#000000\"/>\n",
       "<polygon fill=\"#000000\" points=\"176.5001,-222.784 173,-212.784 169.5001,-222.784 176.5001,-222.784\" stroke=\"#000000\"/>\n",
       "</g>\n",
       "<!-- 139762051619792 -->\n",
       "<g class=\"node\" id=\"node3\">\n",
       "<title>139762051619792</title>\n",
       "<polygon fill=\"none\" points=\"14,-83.5 14,-129.5 332,-129.5 332,-83.5 14,-83.5\" stroke=\"#000000\"/>\n",
       "<text fill=\"#000000\" font-family=\"Times,serif\" font-size=\"14.00\" text-anchor=\"middle\" x=\"42\" y=\"-114.3\">lstm</text>\n",
       "<polyline fill=\"none\" points=\"14,-106.5 70,-106.5 \" stroke=\"#000000\"/>\n",
       "<text fill=\"#000000\" font-family=\"Times,serif\" font-size=\"14.00\" text-anchor=\"middle\" x=\"42\" y=\"-91.3\">LSTM</text>\n",
       "<polyline fill=\"none\" points=\"70,-83.5 70,-129.5 \" stroke=\"#000000\"/>\n",
       "<text fill=\"#000000\" font-family=\"Times,serif\" font-size=\"14.00\" text-anchor=\"middle\" x=\"99\" y=\"-114.3\">input:</text>\n",
       "<polyline fill=\"none\" points=\"70,-106.5 128,-106.5 \" stroke=\"#000000\"/>\n",
       "<text fill=\"#000000\" font-family=\"Times,serif\" font-size=\"14.00\" text-anchor=\"middle\" x=\"99\" y=\"-91.3\">output:</text>\n",
       "<polyline fill=\"none\" points=\"128,-83.5 128,-129.5 \" stroke=\"#000000\"/>\n",
       "<text fill=\"#000000\" font-family=\"Times,serif\" font-size=\"14.00\" text-anchor=\"middle\" x=\"186.5\" y=\"-102.8\">(None, 500, 100)</text>\n",
       "<polyline fill=\"none\" points=\"245,-83.5 245,-129.5 \" stroke=\"#000000\"/>\n",
       "<text fill=\"#000000\" font-family=\"Times,serif\" font-size=\"14.00\" text-anchor=\"middle\" x=\"288.5\" y=\"-102.8\">(None, 100)</text>\n",
       "</g>\n",
       "<!-- 139762279987088&#45;&gt;139762051619792 -->\n",
       "<g class=\"edge\" id=\"edge2\">\n",
       "<title>139762279987088-&gt;139762051619792</title>\n",
       "<path d=\"M173,-166.3799C173,-158.1745 173,-148.7679 173,-139.8786\" fill=\"none\" stroke=\"#000000\"/>\n",
       "<polygon fill=\"#000000\" points=\"176.5001,-139.784 173,-129.784 169.5001,-139.784 176.5001,-139.784\" stroke=\"#000000\"/>\n",
       "</g>\n",
       "<!-- 139762224320656 -->\n",
       "<g class=\"node\" id=\"node4\">\n",
       "<title>139762224320656</title>\n",
       "<polygon fill=\"none\" points=\"38.5,-.5 38.5,-46.5 307.5,-46.5 307.5,-.5 38.5,-.5\" stroke=\"#000000\"/>\n",
       "<text fill=\"#000000\" font-family=\"Times,serif\" font-size=\"14.00\" text-anchor=\"middle\" x=\"64.5\" y=\"-31.3\">dense</text>\n",
       "<polyline fill=\"none\" points=\"38.5,-23.5 90.5,-23.5 \" stroke=\"#000000\"/>\n",
       "<text fill=\"#000000\" font-family=\"Times,serif\" font-size=\"14.00\" text-anchor=\"middle\" x=\"64.5\" y=\"-8.3\">Dense</text>\n",
       "<polyline fill=\"none\" points=\"90.5,-.5 90.5,-46.5 \" stroke=\"#000000\"/>\n",
       "<text fill=\"#000000\" font-family=\"Times,serif\" font-size=\"14.00\" text-anchor=\"middle\" x=\"119.5\" y=\"-31.3\">input:</text>\n",
       "<polyline fill=\"none\" points=\"90.5,-23.5 148.5,-23.5 \" stroke=\"#000000\"/>\n",
       "<text fill=\"#000000\" font-family=\"Times,serif\" font-size=\"14.00\" text-anchor=\"middle\" x=\"119.5\" y=\"-8.3\">output:</text>\n",
       "<polyline fill=\"none\" points=\"148.5,-.5 148.5,-46.5 \" stroke=\"#000000\"/>\n",
       "<text fill=\"#000000\" font-family=\"Times,serif\" font-size=\"14.00\" text-anchor=\"middle\" x=\"192\" y=\"-19.8\">(None, 100)</text>\n",
       "<polyline fill=\"none\" points=\"235.5,-.5 235.5,-46.5 \" stroke=\"#000000\"/>\n",
       "<text fill=\"#000000\" font-family=\"Times,serif\" font-size=\"14.00\" text-anchor=\"middle\" x=\"271.5\" y=\"-19.8\">(None, 1)</text>\n",
       "</g>\n",
       "<!-- 139762051619792&#45;&gt;139762224320656 -->\n",
       "<g class=\"edge\" id=\"edge3\">\n",
       "<title>139762051619792-&gt;139762224320656</title>\n",
       "<path d=\"M173,-83.3799C173,-75.1745 173,-65.7679 173,-56.8786\" fill=\"none\" stroke=\"#000000\"/>\n",
       "<polygon fill=\"#000000\" points=\"176.5001,-56.784 173,-46.784 169.5001,-56.784 176.5001,-56.784\" stroke=\"#000000\"/>\n",
       "</g>\n",
       "</g>\n",
       "</svg>"
      ],
      "text/plain": [
       "<IPython.core.display.SVG object>"
      ]
     },
     "execution_count": 10,
     "metadata": {},
     "output_type": "execute_result"
    }
   ],
   "source": [
    "from IPython.display import SVG\n",
    "from keras.utils import vis_utils\n",
    "SVG(vis_utils.model_to_dot(model, show_shapes=True, \n",
    "                           show_layer_names=True, dpi=60).create(prog='dot', format='svg'))  \n"
   ]
  },
  {
   "cell_type": "markdown",
   "metadata": {
    "id": "WXhJNdf9TIed"
   },
   "source": [
    "### **4. Training the Model**\n",
    "\n",
    "A model can memorize the training data (this is called 'overfitting' and when it does so, it's training accuracy can continue to go up but it's accuracy on previously unseen (i.e. non-training) examples can be very poor. To ensure that this doesn't happen, researchers often intermittently check the performance of a model being trained on a held back dataset called the ***validation dataset***. This way, 'early stopping' or 'random search' can be used to select the model that will generalize best to unseen data. \n",
    "<br>\n",
    "\n",
    "\n",
    "In this lab, we will just plot training accuracy against validation accuracy to monitor the progress of our model. And, using the plot, we will theorize about what the optimal stopping point for our model should have been.\n"
   ]
  },
  {
   "cell_type": "markdown",
   "metadata": {
    "id": "LFJtD1EgvPND"
   },
   "source": [
    "**Step 1: Getting a validation dataset**\n",
    "\n",
    "Before we begin training, we will split the padded training data into training and validation data. To avoid losing too much training data, use 2000 samples (i.e 8%) for validation and the other 23000 for training.\n",
    "\n",
    "We will do this using the sklearn train_test_split function. "
   ]
  },
  {
   "cell_type": "code",
   "execution_count": 7,
   "metadata": {
    "id": "zqHSAlOev6kB"
   },
   "outputs": [],
   "source": [
    "from sklearn.model_selection import train_test_split\n",
    "\n",
    "train_x, validation_x, train_y, validation_y = train_test_split(padded_train_data, train_labels, test_size=0.08) "
   ]
  },
  {
   "cell_type": "markdown",
   "metadata": {
    "id": "xArEfNkX0DnN"
   },
   "source": [
    "Alternatively, we could have chosen to set validation_size=0.08 in our model.fit() function below instead of passing in a separate validation dataset."
   ]
  },
  {
   "cell_type": "markdown",
   "metadata": {
    "id": "3oXtkSBuyiWt"
   },
   "source": [
    "**Step 2: Training the model**\n",
    "\n",
    "We will use model.fit() to train the model. We will set our batch_size to 1000, which means the model will train int(23000/1000) batches each epoch. In other words, at each epoch the model will train 23 batches, each one consisting of 1000 movie reviews."
   ]
  },
  {
   "cell_type": "code",
   "execution_count": null,
   "metadata": {
    "colab": {
     "base_uri": "https://localhost:8080/"
    },
    "id": "mRyi0pWxaNui",
    "outputId": "c46bb1e2-8482-47d8-8333-585fa0ef42f1",
    "scrolled": true
   },
   "outputs": [
    {
     "name": "stdout",
     "output_type": "stream",
     "text": [
      "Epoch 1/6\n",
      "23/23 [==============================] - 253s 11s/step - loss: 0.6428 - accuracy: 0.6202 - val_loss: 0.5070 - val_accuracy: 0.8025\n",
      "Epoch 2/6\n",
      "23/23 [==============================] - 242s 11s/step - loss: 0.4010 - accuracy: 0.8448 - val_loss: 0.3253 - val_accuracy: 0.8780\n",
      "Epoch 3/6\n",
      "23/23 [==============================] - 240s 10s/step - loss: 0.2565 - accuracy: 0.9041 - val_loss: 0.2715 - val_accuracy: 0.8950\n",
      "Epoch 4/6\n",
      "23/23 [==============================] - 257s 11s/step - loss: 0.1968 - accuracy: 0.9314 - val_loss: 0.2808 - val_accuracy: 0.8925\n",
      "Epoch 5/6\n",
      "23/23 [==============================] - 249s 11s/step - loss: 0.1636 - accuracy: 0.9454 - val_loss: 0.2788 - val_accuracy: 0.8845\n",
      "Epoch 6/6\n",
      "23/23 [==============================] - 287s 13s/step - loss: 0.1593 - accuracy: 0.9469 - val_loss: 0.2869 - val_accuracy: 0.8865\n"
     ]
    }
   ],
   "source": [
    "history = model.fit(train_x, train_y, epochs=6, batch_size=1000, validation_data=(validation_x, validation_y))"
   ]
  },
  {
   "cell_type": "markdown",
   "metadata": {
    "id": "2OaWng6v835A"
   },
   "source": [
    "**Step 3: Visualize the model plot**"
   ]
  },
  {
   "cell_type": "code",
   "execution_count": 8,
   "metadata": {
    "colab": {
     "base_uri": "https://localhost:8080/"
    },
    "id": "0-Qq9lwGDHVl",
    "outputId": "fd4ef738-9aed-4976-c29b-ebd2520e8f16"
   },
   "outputs": [
    {
     "name": "stdout",
     "output_type": "stream",
     "text": [
      "Collecting plot_keras_history\n",
      "  Downloading plot_keras_history-1.1.30.tar.gz (8.6 kB)\n",
      "Requirement already satisfied: matplotlib in /usr/local/lib/python3.7/dist-packages (from plot_keras_history) (3.2.2)\n",
      "Requirement already satisfied: pandas in /usr/local/lib/python3.7/dist-packages (from plot_keras_history) (1.3.5)\n",
      "Requirement already satisfied: scipy in /usr/local/lib/python3.7/dist-packages (from plot_keras_history) (1.4.1)\n",
      "Collecting sanitize_ml_labels>=1.0.28\n",
      "  Downloading sanitize_ml_labels-1.0.29.tar.gz (7.4 kB)\n",
      "Collecting compress_json\n",
      "  Downloading compress_json-1.0.4.tar.gz (4.7 kB)\n",
      "Requirement already satisfied: pyparsing!=2.0.4,!=2.1.2,!=2.1.6,>=2.0.1 in /usr/local/lib/python3.7/dist-packages (from matplotlib->plot_keras_history) (3.0.7)\n",
      "Requirement already satisfied: python-dateutil>=2.1 in /usr/local/lib/python3.7/dist-packages (from matplotlib->plot_keras_history) (2.8.2)\n",
      "Requirement already satisfied: numpy>=1.11 in /usr/local/lib/python3.7/dist-packages (from matplotlib->plot_keras_history) (1.21.5)\n",
      "Requirement already satisfied: cycler>=0.10 in /usr/local/lib/python3.7/dist-packages (from matplotlib->plot_keras_history) (0.11.0)\n",
      "Requirement already satisfied: kiwisolver>=1.0.1 in /usr/local/lib/python3.7/dist-packages (from matplotlib->plot_keras_history) (1.3.2)\n",
      "Requirement already satisfied: six>=1.5 in /usr/local/lib/python3.7/dist-packages (from python-dateutil>=2.1->matplotlib->plot_keras_history) (1.15.0)\n",
      "Requirement already satisfied: pytz>=2017.3 in /usr/local/lib/python3.7/dist-packages (from pandas->plot_keras_history) (2018.9)\n",
      "Building wheels for collected packages: plot-keras-history, sanitize-ml-labels, compress-json\n",
      "  Building wheel for plot-keras-history (setup.py) ... \u001b[?25l\u001b[?25hdone\n",
      "  Created wheel for plot-keras-history: filename=plot_keras_history-1.1.30-py3-none-any.whl size=8794 sha256=63af64cb8fbc477f00262db189e122f0fd756698e6727babe76554cc8f725c6f\n",
      "  Stored in directory: /root/.cache/pip/wheels/b0/60/47/8c5aa37c06be5e97879ec467bc2e6a30b315d95f662c63a503\n",
      "  Building wheel for sanitize-ml-labels (setup.py) ... \u001b[?25l\u001b[?25hdone\n",
      "  Created wheel for sanitize-ml-labels: filename=sanitize_ml_labels-1.0.29-py3-none-any.whl size=7878 sha256=1a37e73e176ecf86aafc4ca447c48aa29c236a29d2a37cc58405071890731daa\n",
      "  Stored in directory: /root/.cache/pip/wheels/c2/f5/71/d1c459da10abec864a1979b449edbf37d4a82ab3e38a3625a8\n",
      "  Building wheel for compress-json (setup.py) ... \u001b[?25l\u001b[?25hdone\n",
      "  Created wheel for compress-json: filename=compress_json-1.0.4-py3-none-any.whl size=4588 sha256=f34d1c96cd48fe898538f4f5cc16db87bdc1ce4fd8a2255188cfd81b7a9617e9\n",
      "  Stored in directory: /root/.cache/pip/wheels/1e/ef/1e/5d403c5632b0462471a8d26049d0c138134d0255ec60ce4c14\n",
      "Successfully built plot-keras-history sanitize-ml-labels compress-json\n",
      "Installing collected packages: compress-json, sanitize-ml-labels, plot-keras-history\n",
      "Successfully installed compress-json-1.0.4 plot-keras-history-1.1.30 sanitize-ml-labels-1.0.29\n"
     ]
    }
   ],
   "source": [
    "!pip install plot_keras_history\n",
    "from plot_keras_history import plot_history\n",
    "import matplotlib.pyplot as plt"
   ]
  },
  {
   "cell_type": "code",
   "execution_count": null,
   "metadata": {
    "colab": {
     "base_uri": "https://localhost:8080/",
     "height": 385
    },
    "id": "0u5IjOxjaNuj",
    "outputId": "76774264-0d80-427d-d9c7-b3aff35e8fa2"
   },
   "outputs": [
    {
     "data": {
      "image/png": "[encoded data removed]",
      "text/plain": [
       "<Figure size 720x360 with 2 Axes>"
      ]
     },
     "metadata": {},
     "output_type": "display_data"
    }
   ],
   "source": [
    "plot_history(history.history, path=\"standard.png\")\n",
    "plt.show()"
   ]
  },
  {
   "cell_type": "markdown",
   "metadata": {
    "id": "uMQJAolZWVLx"
   },
   "source": [
    "### **5. Evaluating the Model on the Test Data**\n",
    "\n",
    "Evaluate the model on the padded test data using the code in the following cell block."
   ]
  },
  {
   "cell_type": "code",
   "execution_count": null,
   "metadata": {
    "colab": {
     "base_uri": "https://localhost:8080/"
    },
    "id": "T7y2gQM6aNuj",
    "outputId": "ca3e497a-f8a8-45d9-f0a7-430b7165db45"
   },
   "outputs": [
    {
     "name": "stdout",
     "output_type": "stream",
     "text": [
      "782/782 [==============================] - 136s 171ms/step - loss: 0.3242 - accuracy: 0.8670\n",
      "test_loss: 0.3241529166698456 test_accuracy: 0.8669999837875366\n"
     ]
    }
   ],
   "source": [
    "results = model.evaluate(x = padded_test_data, \n",
    "                         y = test_labels)\n",
    "print('test_loss:', results[0], 'test_accuracy:', results[1])"
   ]
  },
  {
   "cell_type": "markdown",
   "metadata": {
    "id": "zbOcZD6igpxy"
   },
   "source": [
    "### **6. Extracting the Word Embeddings**\n",
    "\n",
    "Extract the word embeddings from the embedding layer model like we did in the last lab. "
   ]
  },
  {
   "cell_type": "code",
   "execution_count": null,
   "metadata": {
    "id": "dVG1le_LWBtq"
   },
   "outputs": [],
   "source": [
    "word_embeddings = model.get_layer('embedding').get_weights()[0] "
   ]
  },
  {
   "cell_type": "code",
   "execution_count": null,
   "metadata": {
    "colab": {
     "base_uri": "https://localhost:8080/"
    },
    "id": "swJFPaX_E4f0",
    "outputId": "0b177c8b-fffe-4485-ac4e-b4f53ff9713c"
   },
   "outputs": [
    {
     "name": "stdout",
     "output_type": "stream",
     "text": [
      "Shape of word_embeddings: (10000, 100)\n"
     ]
    }
   ],
   "source": [
    "print('Shape of word_embeddings:', word_embeddings.shape)"
   ]
  },
  {
   "cell_type": "markdown",
   "metadata": {
    "id": "Bwz_8kTZ6UVF"
   },
   "source": [
    "### **7. Visualizing the Reviews**\n",
    "\n",
    "In this section, we will view the effects of padding the dataset. \n",
    "\n",
    "As mentioned before, Keras already preprocessed the corpus. In this preprocessed corpus, all the words have already been mapped to indices and were assigned these numbers in order of their frequency such that index 2 is the 2nd most frequent word in the dataset, and so on. However, when we loaded our training dataset, we reserved the first 3 indices - 0, 1, 2 - for \\<PAD\\>, \\<START\\> and \\<UNK\\>. Additionally, we limited our vocabulary to only the top 10000 most frequent words (9997 if we exclude the padding). We will now visualize what a movie review will look like with these changes\n",
    "\n"
   ]
  },
  {
   "cell_type": "markdown",
   "metadata": {
    "id": "lOmorAwXGZS9"
   },
   "source": [
    "\n",
    "**Step 1: Create a word2idx dictionary**\n",
    "\n",
    "Create the word2idx dictionary using the following lines of code."
   ]
  },
  {
   "cell_type": "code",
   "execution_count": null,
   "metadata": {
    "id": "AtU7lOD6GYtB"
   },
   "outputs": [],
   "source": [
    "# in this dictionary, the words start from 1, 0 is reserved for padding but \n",
    "# <start> and <unknown> are not accounted for.\n",
    "word_indices = imdb.get_word_index()\n",
    "\n",
    "# so we shift each original word two places to make room for the two new tokens\n",
    "offset = 2\n",
    "word2idx = {k:(v+offset) for k,v in word_indices.items() if v < 9998}\n",
    "word2idx[\"<PAD>\"] = 0\n",
    "word2idx[\"<START>\"] = 1\n",
    "word2idx[\"<UNK>\"] = 2"
   ]
  },
  {
   "cell_type": "markdown",
   "metadata": {
    "id": "H3oZeE74HCvL"
   },
   "source": [
    "\n",
    "**Step 2: Create a the idx2word dictionary**"
   ]
  },
  {
   "cell_type": "code",
   "execution_count": null,
   "metadata": {
    "id": "F0sWRDRIHIzp"
   },
   "outputs": [],
   "source": [
    "idx2word = {i: j for j, i in word2idx.items()}"
   ]
  },
  {
   "cell_type": "markdown",
   "metadata": {
    "id": "p7aGrCU1HTN0"
   },
   "source": [
    "\n",
    "**Step 3: Visualize sample review**\n",
    "\n",
    "View a sample review text using the lines of code below:"
   ]
  },
  {
   "cell_type": "code",
   "execution_count": null,
   "metadata": {
    "colab": {
     "base_uri": "https://localhost:8080/"
    },
    "id": "0ewdOe2waNuk",
    "outputId": "b8dabf19-9280-41e2-b70e-fc61d4c5d3ef"
   },
   "outputs": [
    {
     "name": "stdout",
     "output_type": "stream",
     "text": [
      "<START> this film was just brilliant casting location scenery story direction everyone's really suited the part they played and you could just imagine being there robert <UNK> is an amazing actor and now the same being director <UNK> father came from the same scottish island as myself so i loved the fact there was a real connection with this film the witty remarks throughout the film were great it was just brilliant so much that i bought the film as soon as it was released for <UNK> and would recommend it to everyone to watch and the fly fishing was amazing really cried at the end it was so sad and you know what they say if you cry at a film it must have been good and this definitely was also <UNK> to the two little boy's that played the <UNK> of norman and paul they were just brilliant children are often left out of the <UNK> list i think because the stars that play them all grown up are such a big profile for the whole film but these children are amazing and should be praised for what they have done don't you think the whole story was so lovely because it was true and was someone's life after all that was shared with us all\n"
     ]
    }
   ],
   "source": [
    "print(' '.join(idx2word[idx] for idx in train_data[0]))"
   ]
  },
  {
   "cell_type": "markdown",
   "metadata": {
    "id": "TFs4QSdFJrWL"
   },
   "source": [
    "### **8. Visualizing the Word_Embeddings**\n",
    "\n",
    "Visualize the word embeddings for 10 of the words using pandas DataFrame like we did in lab 3"
   ]
  },
  {
   "cell_type": "code",
   "execution_count": null,
   "metadata": {
    "colab": {
     "base_uri": "https://localhost:8080/"
    },
    "id": "2IBvttx-J9re",
    "outputId": "4ed402bf-f0b1-40e6-9c9e-d6daa1a779b1"
   },
   "outputs": [
    {
     "name": "stdout",
     "output_type": "stream",
     "text": [
      "                 0         1         2         3         4         5   \\\n",
      "woods     -0.004368 -0.048093  0.009366 -0.031701 -0.009465  0.003021   \n",
      "hanging   -0.032570  0.034611  0.003373  0.036411 -0.033047  0.015757   \n",
      "woody     -0.006985  0.045837  0.023310  0.004662 -0.012292 -0.006264   \n",
      "arranged   0.003316 -0.009876  0.026397 -0.022256 -0.015373  0.045273   \n",
      "bringing   0.034442 -0.040274 -0.009401 -0.048930  0.024369  0.028175   \n",
      "wooden    -0.023558  0.023463 -0.015473  0.045108  0.008345  0.030677   \n",
      "errors     0.043437 -0.041581 -0.029348  0.041709  0.008266 -0.037032   \n",
      "dialogs   -0.028467 -0.013447 -0.012087  0.004836  0.020826 -0.030690   \n",
      "kids       0.014200  0.041071  0.020423 -0.006575 -0.019336  0.056086   \n",
      "uplifting  0.044608  0.030197  0.037298 -0.017023 -0.008218 -0.048065   \n",
      "\n",
      "                 6         7         8         9   ...        90        91  \\\n",
      "woods     -0.022618  0.048549  0.000845 -0.037577  ...  0.013311  0.032521   \n",
      "hanging    0.018704 -0.003657  0.033856 -0.032738  ... -0.013923  0.054200   \n",
      "woody     -0.001272 -0.047929 -0.031361  0.017165  ...  0.043498 -0.005647   \n",
      "arranged   0.018905  0.045167  0.016943 -0.018604  ... -0.025563  0.019151   \n",
      "bringing  -0.041981  0.039148 -0.009318 -0.010274  ...  0.037066 -0.021821   \n",
      "wooden    -0.026975 -0.002638  0.002994 -0.044047  ... -0.028505  0.026013   \n",
      "errors    -0.020600  0.009356  0.022860  0.027235  ... -0.043052 -0.022374   \n",
      "dialogs   -0.044489 -0.034287  0.046543  0.015559  ...  0.033449  0.045668   \n",
      "kids       0.030962  0.047880  0.051399  0.042190  ...  0.044986 -0.035423   \n",
      "uplifting -0.021568 -0.031982 -0.024426 -0.005519  ...  0.016471  0.016306   \n",
      "\n",
      "                 92        93        94        95        96        97  \\\n",
      "woods      0.044106  0.007088  0.031614 -0.029201  0.012689  0.000736   \n",
      "hanging   -0.045135  0.037467 -0.016103 -0.039932  0.024987 -0.000881   \n",
      "woody     -0.019310  0.048429 -0.020939 -0.032472 -0.011833  0.011306   \n",
      "arranged   0.016210  0.023351 -0.028141 -0.024415 -0.000647  0.001238   \n",
      "bringing   0.044411 -0.003858  0.021888  0.038907  0.017139 -0.018343   \n",
      "wooden     0.002527 -0.014556 -0.029901 -0.028874 -0.023430  0.026834   \n",
      "errors    -0.013219  0.016293  0.013172  0.025085 -0.009210 -0.029144   \n",
      "dialogs   -0.013102 -0.042098  0.004949  0.028086 -0.015923 -0.003741   \n",
      "kids       0.036265  0.016484 -0.032294 -0.012707 -0.044925  0.031685   \n",
      "uplifting -0.039209  0.011759  0.012019  0.031026  0.017004 -0.046668   \n",
      "\n",
      "                 98        99  \n",
      "woods      0.013715 -0.040546  \n",
      "hanging   -0.054054  0.020365  \n",
      "woody     -0.026599  0.031049  \n",
      "arranged   0.033339  0.040137  \n",
      "bringing  -0.003402  0.035335  \n",
      "wooden    -0.047588 -0.027419  \n",
      "errors     0.003423  0.044254  \n",
      "dialogs    0.047275 -0.017365  \n",
      "kids       0.013640  0.015404  \n",
      "uplifting  0.036129  0.000217  \n",
      "\n",
      "[10 rows x 100 columns]\n"
     ]
    }
   ],
   "source": [
    "from pandas import DataFrame\n",
    "print(DataFrame(word_embeddings, index=idx2word.values()).head(10))"
   ]
  },
  {
   "cell_type": "markdown",
   "metadata": {
    "id": "k0fyfgvB90G5"
   },
   "source": [
    "### **9. Plot our Word Embeddings using t-SNE**\n"
   ]
  },
  {
   "cell_type": "code",
   "execution_count": null,
   "metadata": {
    "colab": {
     "base_uri": "https://localhost:8080/",
     "height": 571
    },
    "id": "pcJMa1i5aNul",
    "outputId": "4dc8eb25-9a6c-48b9-a1c3-e7611526343a",
    "scrolled": false
   },
   "outputs": [
    {
     "name": "stderr",
     "output_type": "stream",
     "text": [
      "/usr/local/lib/python3.7/dist-packages/sklearn/manifold/_t_sne.py:793: FutureWarning: The default learning rate in TSNE will change from 200.0 to 'auto' in 1.2.\n",
      "  FutureWarning,\n",
      "/usr/local/lib/python3.7/dist-packages/sklearn/manifold/_t_sne.py:986: FutureWarning: The PCA initialization in TSNE will change to have the standard deviation of PC1 equal to 1e-4 in 1.2. This will ensure better convergence.\n",
      "  FutureWarning,\n"
     ]
    },
    {
     "data": {
      "image/png": "[encoded data removed]",
      "text/plain": [
       "<Figure size 1008x576 with 1 Axes>"
      ]
     },
     "metadata": {},
     "output_type": "display_data"
    }
   ],
   "source": [
    "from sklearn.manifold import TSNE\n",
    "import matplotlib.pyplot as plt\n",
    "import numpy as np\n",
    "\n",
    "tsne = TSNE(perplexity=3, n_components=2, init='pca', n_iter=5000, method='exact')\n",
    "np.set_printoptions(suppress=True)\n",
    "plot_only = 50\n",
    "\n",
    "# don't plot the special tokens\n",
    "start = 3\n",
    "T = tsne.fit_transform(word_embeddings[start:plot_only, :])\n",
    "labels = [idx2word[i] for i in range(start, plot_only)]\n",
    "plt.figure(figsize=(14, 8))\n",
    "plt.scatter(T[:, 0], T[:, 1])\n",
    "for label, x, y in zip(labels, T[:, 0], T[:, 1]):\n",
    "    plt.annotate(label, xy=(x+1, y+1), xytext=(0, 0), textcoords='offset points', ha='right', va='bottom')                      \t                        \n",
    "\n"
   ]
  },
  {
   "cell_type": "code",
   "execution_count": null,
   "metadata": {
    "id": "473-2_e1tcid"
   },
   "outputs": [],
   "source": []
  }
 ],
 "metadata": {
  "accelerator": "TPU",
  "colab": {
   "collapsed_sections": [],
   "name": "lab2_TextClassificationWithLSTMs_without_answers.ipynb",
   "provenance": []
  },
  "kernelspec": {
   "display_name": "Python 3 (ipykernel)",
   "language": "python",
   "name": "python3"
  },
  "language_info": {
   "codemirror_mode": {
    "name": "ipython",
    "version": 3
   },
   "file_extension": ".py",
   "mimetype": "text/x-python",
   "name": "python",
   "nbconvert_exporter": "python",
   "pygments_lexer": "ipython3",
   "version": "3.8.12"
  }
 },
 "nbformat": 4,
 "nbformat_minor": 1
}
