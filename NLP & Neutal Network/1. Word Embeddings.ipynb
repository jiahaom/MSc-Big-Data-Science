{
 "cells": [
  {
   "cell_type": "markdown",
   "metadata": {
    "id": "t_yvQBKrD8Se"
   },
   "source": [
    "# 1: Skip-gram Model for Word2Vec**\n",
    "\n",
    "<br>\n",
    "\n",
    "**26th and 27th January**\n",
    "\n",
    "There are two Word2Vec architectures for creating word embeddings: the Continuous Bag of Words (CBOW) architecture and the Skip Gram architecture . In this project, we will obtain our own word embeddings by training a skip-gram neural network model. \n",
    "\n",
    "\n",
    "The skip gram model is essentially a feedforward neural network with one hidden layer, trained to predict the context word given a target word. There are two ways to train this model: \n",
    "\n",
    "(1) using a hierarchical softmax function and/or \n",
    "\n",
    "(2) by negative sampling. In this project, we will be training using\n",
    "negative sampling. To train with negative sampling, the model is cast as a binary classification problem. The dataset would consist of positive and negative examples of the form:\n",
    "\n",
    "Input | label\n",
    "--| --\n",
    "(target_word, word_in_its_context)       |  1 \n",
    "(target_word, word_not_in_its_context)   |  0\n",
    "\n",
    "created from the sentences in a corpus. The exact number of positive and negative examples will depend on the window size, and the balance ratio of positive:negative examples.  \n",
    "\n",
    "As an example, consider the sentence: “ **The quick brown\n",
    "fox jumped over the lazy dog** ”. For the target word ' **fox** ' and a window size of 2, all the positive and negative examples drawn from this sentence would be:\n",
    "\n",
    "Input | label\n",
    "--| --\n",
    "(fox, the) | 0\n",
    "(fox, quick) | 1\n",
    "(fox, brown) | 1\n",
    "(fox, jumped) | 1\n",
    "(fox, over) |1\n",
    "(fox, lazy) | 0\n",
    "(fox, dog) | 0\n",
    "\n",
    "The model is trained to learn to predict 1 when a word is in the context of the target word (i.e.in the window of the target word) and 0 otherwise. The model thus learns the statistics of the given corpus: the frequency with two words appear together would determine how similar they are (similarity is usually measured using cosine distance). After training, the trained hidden layer weights are the word embeddings.\n",
    "\n"
   ]
  },
  {
   "cell_type": "markdown",
   "metadata": {
    "id": "w6Pi5uvTLRCo"
   },
   "source": [
    "### **1. Downloading the Corpus**\n",
    "\n",
    "Our training data will be comprised of 3 documents from the Gutenberg corpus. We can find this and other corpora in nltk https://www.nltk.org/book/ch02.html"
   ]
  },
  {
   "cell_type": "code",
   "execution_count": 19,
   "metadata": {
    "colab": {
     "base_uri": "https://localhost:8080/"
    },
    "id": "xn7sWMG-KoBV",
    "outputId": "4d15ef91-db5f-48ef-d10a-92bd6ac262f1"
   },
   "outputs": [
    {
     "name": "stderr",
     "output_type": "stream",
     "text": [
      "[nltk_data] Downloading package punkt to /Users/jiahao/nltk_data...\n",
      "[nltk_data]   Package punkt is already up-to-date!\n",
      "[nltk_data] Downloading package gutenberg to\n",
      "[nltk_data]     /Users/jiahao/nltk_data...\n",
      "[nltk_data]   Package gutenberg is already up-to-date!\n"
     ]
    }
   ],
   "source": [
    "import nltk\n",
    "\n",
    "nltk.download('punkt')\n",
    "nltk.download('gutenberg')\n",
    "from nltk.corpus import gutenberg\n",
    "austen = gutenberg.sents('austen-sense.txt') + gutenberg.sents('austen-emma.txt') + gutenberg.sents('austen-persuasion.txt')"
   ]
  },
  {
   "cell_type": "code",
   "execution_count": 20,
   "metadata": {
    "colab": {
     "base_uri": "https://localhost:8080/"
    },
    "id": "yCH0PmPcL83f",
    "outputId": "27015f7a-5751-43e4-876f-d93fe6a847ad"
   },
   "outputs": [
    {
     "name": "stdout",
     "output_type": "stream",
     "text": [
      "16463\n"
     ]
    }
   ],
   "source": [
    "print(len(austen))"
   ]
  },
  {
   "cell_type": "code",
   "execution_count": 21,
   "metadata": {
    "colab": {
     "base_uri": "https://localhost:8080/"
    },
    "id": "APFWiEejv9i5",
    "outputId": "b4a0ebf4-2f8f-4d35-c064-e78749d61a13"
   },
   "outputs": [
    {
     "data": {
      "text/plain": [
       "['[', 'Sense', 'and', 'Sensibility', 'by', 'Jane', 'Austen', '1811', ']']"
      ]
     },
     "execution_count": 21,
     "metadata": {},
     "output_type": "execute_result"
    }
   ],
   "source": [
    "austen[0]"
   ]
  },
  {
   "cell_type": "markdown",
   "metadata": {
    "id": "4c14vElNvMGX"
   },
   "source": [
    "### **2. Preprocessing the Training Corpus**\n",
    "\n",
    "In this section, we will write code to remove special characters, empty strings, digits and\n",
    "stopwords from the sentences and put all the words into lower cases. We might also consider removing sentences with fewer than 3 words or at least empty sentences."
   ]
  },
  {
   "cell_type": "code",
   "execution_count": 22,
   "metadata": {},
   "outputs": [],
   "source": [
    "from nltk.corpus import stopwords\n",
    "def remove_stopwords(text):\n",
    "    \n",
    "    for word in text:\n",
    "        if word in stopwords.words('english'):\n",
    "            text.remove(word)\n",
    "    return text\n",
    "\n",
    "def keep_char (text):\n",
    "    \n",
    "    for word in text:\n",
    "        if not word.isalpha():\n",
    "            text.remove(word)\n",
    "    \n",
    "    return text"
   ]
  },
  {
   "cell_type": "code",
   "execution_count": 23,
   "metadata": {},
   "outputs": [],
   "source": [
    "def preprocess_corpus (corpus):\n",
    "    temp = []\n",
    "    #remove special characters and digits \n",
    "    tokens = [keep_char(x) for x in corpus]\n",
    "    \n",
    "    #remove stopwords\n",
    "    tokens = [remove_stopwords(x) for x in tokens]\n",
    "        \n",
    "    #remove special characters and digits \n",
    "    tokens = [keep_char(x) for x in tokens]\n",
    "    \n",
    "    for i in tokens:\n",
    "        #put all the words into lower cases.\n",
    "        token = [x.lower() for x in i]\n",
    "        if len(token) > 3:\n",
    "            temp.append(token)\n",
    "    \n",
    "    return temp"
   ]
  },
  {
   "cell_type": "code",
   "execution_count": 24,
   "metadata": {
    "scrolled": true
   },
   "outputs": [
    {
     "name": "stdout",
     "output_type": "stream",
     "text": [
      "The new length of the preprocessed output is 14528\n"
     ]
    }
   ],
   "source": [
    "normalized_corpus = preprocess_corpus(austen)\n",
    "print('The new length of the preprocessed output is', len(normalized_corpus))"
   ]
  },
  {
   "cell_type": "code",
   "execution_count": 25,
   "metadata": {
    "id": "tJ1qxoq-8Kob"
   },
   "outputs": [
    {
     "name": "stdout",
     "output_type": "stream",
     "text": [
      "4 [['Sense', 'Sensibility', 'Jane', 'Austen'], ['CHAPTER'], ['But', 'if', 'Mrs', 'Dashwood', 'live', 'fifteen', 'years', 'shall', 'completely', 'taken'], ['Fifteen', 'years']]\n",
      "\n",
      "2 [['sense', 'sensibility', 'jane', 'austen'], ['but', 'if', 'mrs', 'dashwood', 'live', 'fifteen', 'years', 'shall', 'completely', 'taken']]\n"
     ]
    }
   ],
   "source": [
    "sample = austen[:2] + austen[100:102]\n",
    "preprocessed_sample = preprocess_corpus(sample)\n",
    "\n",
    "\n",
    "print(len(sample), sample)\n",
    "print()\n",
    "print(len(preprocessed_sample), preprocessed_sample)"
   ]
  },
  {
   "cell_type": "markdown",
   "metadata": {
    "id": "rghchHA66d-V"
   },
   "source": [
    "### **3. Creating the Corpus Vocabulary and Preparing the Data**\n",
    "\n",
    "\n",
    "To prepare the data for machine learning, we will write code to prepare 3 variables:\n",
    "\n",
    "1. \\<word2idx>: a lookup table, a dictionary of (word index: word) pairs where **word index** is a unique integer assigned to every **unique word** in the corpus.\n",
    "2. \\<idx2word>: a dictionary of (token: token index), a reversal of \\<word2idx>. \n",
    "3. \\<sents_as_ids>: The input to the model cannot be text, rather, each word needs to be represented by a unique integer and each sentence an array of integers.\n",
    "\n",
    "\n",
    "The incomplete code provided below is just a guide. "
   ]
  },
  {
   "cell_type": "code",
   "execution_count": 8,
   "metadata": {
    "id": "gmqUdSuU8PyK"
   },
   "outputs": [],
   "source": [
    "def prepareData(normalized_corpus):\n",
    "    temp = []\n",
    "    ans = {}\n",
    "    for i in normalized_corpus:\n",
    "        for j in i:\n",
    "            if j not in temp:\n",
    "                temp.append(j)\n",
    "    for index,token in enumerate(temp):\n",
    "        ans[token] = index\n",
    "\n",
    "    return ans\n",
    "\n",
    "\n",
    "def prepareSentsAsId(normalized_corpus):\n",
    "    ans = []\n",
    "    \n",
    "    for i in normalized_corpus:\n",
    "        temp = []\n",
    "        for j in i:\n",
    "            temp.append(word2idx[j])\n",
    "        ans.append(temp)\n",
    "    return ans\n",
    "\n",
    "\n",
    "word2idx = prepareData(normalized_corpus)\n",
    "idx2word = {i: j for j, i in word2idx.items()}"
   ]
  },
  {
   "cell_type": "code",
   "execution_count": 9,
   "metadata": {},
   "outputs": [
    {
     "name": "stdout",
     "output_type": "stream",
     "text": [
      "Number of unique words: 10241\n",
      "\n",
      "Sample word2idx:  [('sense', 0), ('sensibility', 1), ('jane', 2), ('austen', 3), ('the', 4), ('family', 5), ('dashwood', 6), ('long', 7), ('settled', 8), ('sussex', 9)]\n",
      "\n",
      "Sample idx2word: [(0, 'sense'), (1, 'sensibility'), (2, 'jane'), (3, 'austen'), (4, 'the'), (5, 'family'), (6, 'dashwood'), (7, 'long'), (8, 'settled'), (9, 'sussex')]\n",
      "\n",
      "Sample sents_as_id: [[0, 1, 2, 3], [50, 620, 85, 6, 237, 673, 43, 674, 337, 675]]\n"
     ]
    }
   ],
   "source": [
    "print('Number of unique words:', len(word2idx))\n",
    "print('\\nSample word2idx: ', list(word2idx.items())[:10])\n",
    "print('\\nSample idx2word:', list(idx2word.items())[:10])\n",
    "print('\\nSample sents_as_id:', prepareSentsAsId(preprocessed_sample))"
   ]
  },
  {
   "cell_type": "markdown",
   "metadata": {
    "id": "Uqw71xzzeYSm"
   },
   "source": [
    "After we have created the three variables, set the <vocab_size> and <embed_size> variables with the following commands:"
   ]
  },
  {
   "cell_type": "code",
   "execution_count": 10,
   "metadata": {
    "id": "WGsp5Lij8qUd"
   },
   "outputs": [],
   "source": [
    "VOCAB_SIZE = len(word2idx) \n",
    "EMBED_SIZE = 100 # We are creating 100D embeddings."
   ]
  },
  {
   "cell_type": "code",
   "execution_count": 11,
   "metadata": {
    "id": "u_yjd5kgqiZi"
   },
   "outputs": [
    {
     "name": "stdout",
     "output_type": "stream",
     "text": [
      "Number of unique words: 10241\n"
     ]
    }
   ],
   "source": [
    "print('Number of unique words:', len(word2idx))"
   ]
  },
  {
   "cell_type": "markdown",
   "metadata": {
    "id": "WXhJNdf9TIed"
   },
   "source": [
    "### **4. Generating training instances**\n",
    "\n",
    "\n",
    "In this section we would generate the training examples of the format shown in introduction using the keras skip-gram generator https://keras.io/preprocessing/sequence/ "
   ]
  },
  {
   "cell_type": "code",
   "execution_count": 12,
   "metadata": {
    "id": "e3g0FLzb7ivg",
    "scrolled": false
   },
   "outputs": [],
   "source": [
    "from keras.preprocessing.sequence import skipgrams\n",
    "\n",
    "skip_grams = []\n",
    "for i in prepareSentsAsId(normalized_corpus):\n",
    "    skip_grams.append(skipgrams(i, vocabulary_size = (len(word2idx)+1),\n",
    "                                shuffle=False, window_size=4))"
   ]
  },
  {
   "cell_type": "code",
   "execution_count": 13,
   "metadata": {
    "id": "Qa072PMvTvde"
   },
   "outputs": [
    {
     "name": "stdout",
     "output_type": "stream",
     "text": [
      "(sensibility (1), jane (2)) -> 1\n",
      "(sensibility (1), austen (3)) -> 1\n",
      "(jane (2), sensibility (1)) -> 1\n",
      "(jane (2), austen (3)) -> 1\n",
      "(austen (3), sensibility (1)) -> 1\n",
      "(austen (3), jane (2)) -> 1\n",
      "(austen (3), lasting (1565)) -> 0\n",
      "(sensibility (1), chapter (6835)) -> 0\n",
      "(austen (3), politest (6792)) -> 0\n",
      "(jane (2), cramer (7879)) -> 0\n",
      "(sensibility (1), transient (9379)) -> 0\n",
      "(jane (2), wore (2591)) -> 0\n"
     ]
    }
   ],
   "source": [
    "pairs, labels = skip_grams[0][0], skip_grams[0][1]\n",
    "\n",
    "for i in range(len(pairs)):\n",
    "    print('({:s} ({:d}), {:s} ({:d})) -> {:d}'.format(\n",
    "    # the first word and its index\n",
    "    idx2word[pairs[i][0]], pairs[i][0],\n",
    "    # the second word and its index\n",
    "    idx2word[pairs[i][1]], pairs[i][1],\n",
    "    # the label\n",
    "    labels[i]))"
   ]
  },
  {
   "cell_type": "markdown",
   "metadata": {
    "id": "uMQJAolZWVLx"
   },
   "source": [
    "### **5. Building the Skip-gram Neural Network Architecture**\n",
    "\n",
    "In this section we would be building the skip-gram neural network architecture using the Keras Functional API and the Sequential model introduced in the previous lab. https://keras.io/getting-started/functional-api-guide/ "
   ]
  },
  {
   "cell_type": "code",
   "execution_count": 14,
   "metadata": {
    "id": "fi0JmuY-Tlsp"
   },
   "outputs": [],
   "source": [
    "from keras.layers import Dot, Input\n",
    "from keras.layers.core import Dense, Reshape\n",
    "from keras.layers.embeddings import Embedding\n",
    "from keras.models import Model\n",
    "from keras.utils.vis_utils import plot_model"
   ]
  },
  {
   "cell_type": "markdown",
   "metadata": {
    "id": "22d8UIg-cBOc"
   },
   "source": [
    "The skip-gram model is two input one output feedforward neural network with one hidden layer and this will be built over a series of steps.\n",
    "\n",
    "#### **A. The first step is to initialize and transform the first input using the following lines of code:**"
   ]
  },
  {
   "cell_type": "code",
   "execution_count": 15,
   "metadata": {
    "id": "ggqykF7WUyGP"
   },
   "outputs": [
    {
     "name": "stdout",
     "output_type": "stream",
     "text": [
      "Metal device set to: Apple M1 Pro\n"
     ]
    },
    {
     "name": "stderr",
     "output_type": "stream",
     "text": [
      "2022-03-02 15:23:41.952174: I tensorflow/core/common_runtime/pluggable_device/pluggable_device_factory.cc:305] Could not identify NUMA node of platform GPU ID 0, defaulting to 0. Your kernel may not have been built with NUMA support.\n",
      "2022-03-02 15:23:41.952364: I tensorflow/core/common_runtime/pluggable_device/pluggable_device_factory.cc:271] Created TensorFlow device (/job:localhost/replica:0/task:0/device:GPU:0 with 0 MB memory) -> physical PluggableDevice (device: 0, name: METAL, pci bus id: <undefined>)\n"
     ]
    }
   ],
   "source": [
    "# The input is an array of target indices e.g. [2, 45, 7, 23,...9]\n",
    "target_word = Input((1,), dtype='int32')\n",
    "\n",
    "\n",
    "# feed the words into the model using the Keras <Embedding> layer. This is the hidden layer \n",
    "# from whose weights we will get the word embeddings.\n",
    "target_embedding = Embedding(VOCAB_SIZE, EMBED_SIZE, name='target_embed_layer',\n",
    "                             embeddings_initializer='glorot_uniform',\n",
    "                             input_length=1)(target_word)\n",
    "\n",
    "\n",
    "# at this point, the input would of the shape (num_inputs x 1 x embed_size) and has to be flattened \n",
    "# or reshaped into a (num_inputs x embed_size) tensor.\n",
    "target_input = Reshape((EMBED_SIZE, ))(target_embedding)"
   ]
  },
  {
   "cell_type": "markdown",
   "metadata": {
    "id": "GXn_SVjHckwL"
   },
   "source": [
    "#### **B. Write similar code for the ‘context_word’ input.**"
   ]
  },
  {
   "cell_type": "code",
   "execution_count": 16,
   "metadata": {
    "id": "vkCyRztYcMsp"
   },
   "outputs": [],
   "source": [
    "context_word = Input((1,), dtype='int32')\n",
    "\n",
    "context_embedding = Embedding(VOCAB_SIZE, EMBED_SIZE, name='context_embed_layer',\n",
    "                             embeddings_initializer='glorot_uniform',\n",
    "                             input_length=1)(context_word)\n",
    "\n",
    "context_input = Reshape((EMBED_SIZE, ))(context_embedding)"
   ]
  },
  {
   "cell_type": "markdown",
   "metadata": {
    "id": "btNWVWRqdBJV"
   },
   "source": [
    "#### **C. Merge the inputs.**\n",
    "\n",
    "Recall, each training instance is a (target_word, context_word) combination. Since we are trying to learn the degree of closeness between the two words, the model will compute the cosine distance between the two inputs using the <Dot> layer. https://keras.io/layers/merge/, hence fusing the two inputs into one.\n"
   ]
  },
  {
   "cell_type": "code",
   "execution_count": 17,
   "metadata": {
    "id": "WL0_IgA0cYBx"
   },
   "outputs": [],
   "source": [
    "merged_inputs = Dot(axes=-1, normalize=False)([target_input, context_input])"
   ]
  },
  {
   "cell_type": "markdown",
   "metadata": {
    "id": "vQEsxQ6We1Ob"
   },
   "source": [
    "#### **D. The Output Layer**\n",
    "\n",
    "Pass the merged inputs (now a vector with a single number the cosine distance between the two input vectors for each word) into a sigmoid activated neuron. The output of this layer is the output of the model."
   ]
  },
  {
   "cell_type": "code",
   "execution_count": 18,
   "metadata": {
    "id": "uAUxsadqcj6Q"
   },
   "outputs": [],
   "source": [
    "label = Dense(1, activation = 'sigmoid')(merged_inputs)"
   ]
  },
  {
   "cell_type": "markdown",
   "metadata": {
    "id": "yQk1Yj8wfXrF"
   },
   "source": [
    "#### **E. Initialize the model:**"
   ]
  },
  {
   "cell_type": "code",
   "execution_count": 19,
   "metadata": {
    "id": "YHRICxY7cdBB"
   },
   "outputs": [],
   "source": [
    "# label is the output of step D.\n",
    "model = Model(inputs=[target_word, context_word], outputs = [label]) "
   ]
  },
  {
   "cell_type": "markdown",
   "metadata": {
    "id": "DdbRI0TGVZIt"
   },
   "source": [
    "#### **F. Compile the model using the <model.compile> command.** Use Loss = ‘mean_squared_error’, optimizer = ‘rmsprop’."
   ]
  },
  {
   "cell_type": "code",
   "execution_count": 20,
   "metadata": {
    "id": "5LtWvavefueu"
   },
   "outputs": [],
   "source": [
    "model.compile(optimizer='rmsprop',\n",
    "              loss='mean_squared_error')"
   ]
  },
  {
   "cell_type": "code",
   "execution_count": 21,
   "metadata": {
    "colab": {
     "base_uri": "https://localhost:8080/"
    },
    "id": "e0ki6JDkgJNA",
    "outputId": "2650bb8b-ee67-4722-c5bd-72c880d4b897"
   },
   "outputs": [
    {
     "name": "stdout",
     "output_type": "stream",
     "text": [
      "Model: \"model\"\n",
      "__________________________________________________________________________________________________\n",
      " Layer (type)                   Output Shape         Param #     Connected to                     \n",
      "==================================================================================================\n",
      " input_1 (InputLayer)           [(None, 1)]          0           []                               \n",
      "                                                                                                  \n",
      " input_2 (InputLayer)           [(None, 1)]          0           []                               \n",
      "                                                                                                  \n",
      " target_embed_layer (Embedding)  (None, 1, 100)      1024100     ['input_1[0][0]']                \n",
      "                                                                                                  \n",
      " context_embed_layer (Embedding  (None, 1, 100)      1024100     ['input_2[0][0]']                \n",
      " )                                                                                                \n",
      "                                                                                                  \n",
      " reshape (Reshape)              (None, 100)          0           ['target_embed_layer[0][0]']     \n",
      "                                                                                                  \n",
      " reshape_1 (Reshape)            (None, 100)          0           ['context_embed_layer[0][0]']    \n",
      "                                                                                                  \n",
      " dot (Dot)                      (None, 1)            0           ['reshape[0][0]',                \n",
      "                                                                  'reshape_1[0][0]']              \n",
      "                                                                                                  \n",
      " dense (Dense)                  (None, 1)            2           ['dot[0][0]']                    \n",
      "                                                                                                  \n",
      "==================================================================================================\n",
      "Total params: 2,048,202\n",
      "Trainable params: 2,048,202\n",
      "Non-trainable params: 0\n",
      "__________________________________________________________________________________________________\n"
     ]
    }
   ],
   "source": [
    "model.summary()"
   ]
  },
  {
   "cell_type": "markdown",
   "metadata": {
    "id": "3VVPnyFhgVr9"
   },
   "source": [
    "#### **G. Plot the model using ```vis utils```.**"
   ]
  },
  {
   "cell_type": "code",
   "execution_count": 22,
   "metadata": {
    "colab": {
     "base_uri": "https://localhost:8080/",
     "height": 450
    },
    "id": "vvfO-ensggr4",
    "outputId": "9b7bdbc3-f3a9-47f5-bbda-7b0554007aa3"
   },
   "outputs": [
    {
     "data": {
      "image/svg+xml": [
       "<svg xmlns=\"http://www.w3.org/2000/svg\" xmlns:xlink=\"http://www.w3.org/1999/xlink\" width=\"606pt\" height=\"323pt\" viewBox=\"0.00 0.00 727.50 387.00\">\n",
       "<g id=\"graph0\" class=\"graph\" transform=\"scale(0.83 0.83) rotate(0) translate(4 383)\">\n",
       "<title>G</title>\n",
       "<polygon fill=\"white\" stroke=\"transparent\" points=\"-4,4 -4,-383 723.5,-383 723.5,4 -4,4\"/>\n",
       "<!-- 5973638304 -->\n",
       "<g id=\"node1\" class=\"node\">\n",
       "<title>5973638304</title>\n",
       "<polygon fill=\"none\" stroke=\"black\" points=\"29,-332.5 29,-378.5 317,-378.5 317,-332.5 29,-332.5\"/>\n",
       "<text text-anchor=\"middle\" x=\"67.5\" y=\"-363.3\" font-family=\"Times,serif\" font-size=\"14.00\">input_1</text>\n",
       "<polyline fill=\"none\" stroke=\"black\" points=\"29,-355.5 106,-355.5 \"/>\n",
       "<text text-anchor=\"middle\" x=\"67.5\" y=\"-340.3\" font-family=\"Times,serif\" font-size=\"14.00\">InputLayer</text>\n",
       "<polyline fill=\"none\" stroke=\"black\" points=\"106,-332.5 106,-378.5 \"/>\n",
       "<text text-anchor=\"middle\" x=\"133.5\" y=\"-363.3\" font-family=\"Times,serif\" font-size=\"14.00\">input:</text>\n",
       "<polyline fill=\"none\" stroke=\"black\" points=\"106,-355.5 161,-355.5 \"/>\n",
       "<text text-anchor=\"middle\" x=\"133.5\" y=\"-340.3\" font-family=\"Times,serif\" font-size=\"14.00\">output:</text>\n",
       "<polyline fill=\"none\" stroke=\"black\" points=\"161,-332.5 161,-378.5 \"/>\n",
       "<text text-anchor=\"middle\" x=\"200\" y=\"-351.8\" font-family=\"Times,serif\" font-size=\"14.00\">[(None, 1)]</text>\n",
       "<polyline fill=\"none\" stroke=\"black\" points=\"239,-332.5 239,-378.5 \"/>\n",
       "<text text-anchor=\"middle\" x=\"278\" y=\"-351.8\" font-family=\"Times,serif\" font-size=\"14.00\">[(None, 1)]</text>\n",
       "</g>\n",
       "<!-- 5973636576 -->\n",
       "<g id=\"node3\" class=\"node\">\n",
       "<title>5973636576</title>\n",
       "<polygon fill=\"none\" stroke=\"black\" points=\"0,-249.5 0,-295.5 346,-295.5 346,-249.5 0,-249.5\"/>\n",
       "<text text-anchor=\"middle\" x=\"62.5\" y=\"-280.3\" font-family=\"Times,serif\" font-size=\"14.00\">target_embed_layer</text>\n",
       "<polyline fill=\"none\" stroke=\"black\" points=\"0,-272.5 125,-272.5 \"/>\n",
       "<text text-anchor=\"middle\" x=\"62.5\" y=\"-257.3\" font-family=\"Times,serif\" font-size=\"14.00\">Embedding</text>\n",
       "<polyline fill=\"none\" stroke=\"black\" points=\"125,-249.5 125,-295.5 \"/>\n",
       "<text text-anchor=\"middle\" x=\"152.5\" y=\"-280.3\" font-family=\"Times,serif\" font-size=\"14.00\">input:</text>\n",
       "<polyline fill=\"none\" stroke=\"black\" points=\"125,-272.5 180,-272.5 \"/>\n",
       "<text text-anchor=\"middle\" x=\"152.5\" y=\"-257.3\" font-family=\"Times,serif\" font-size=\"14.00\">output:</text>\n",
       "<polyline fill=\"none\" stroke=\"black\" points=\"180,-249.5 180,-295.5 \"/>\n",
       "<text text-anchor=\"middle\" x=\"214.5\" y=\"-268.8\" font-family=\"Times,serif\" font-size=\"14.00\">(None, 1)</text>\n",
       "<polyline fill=\"none\" stroke=\"black\" points=\"249,-249.5 249,-295.5 \"/>\n",
       "<text text-anchor=\"middle\" x=\"297.5\" y=\"-268.8\" font-family=\"Times,serif\" font-size=\"14.00\">(None, 1, 100)</text>\n",
       "</g>\n",
       "<!-- 5973638304&#45;&gt;5973636576 -->\n",
       "<g id=\"edge1\" class=\"edge\">\n",
       "<title>5973638304-&gt;5973636576</title>\n",
       "<path fill=\"none\" stroke=\"black\" d=\"M173,-332.37C173,-324.15 173,-314.66 173,-305.73\"/>\n",
       "<polygon fill=\"black\" stroke=\"black\" points=\"176.5,-305.61 173,-295.61 169.5,-305.61 176.5,-305.61\"/>\n",
       "</g>\n",
       "<!-- 11795602784 -->\n",
       "<g id=\"node2\" class=\"node\">\n",
       "<title>11795602784</title>\n",
       "<polygon fill=\"none\" stroke=\"black\" points=\"398,-332.5 398,-378.5 686,-378.5 686,-332.5 398,-332.5\"/>\n",
       "<text text-anchor=\"middle\" x=\"436.5\" y=\"-363.3\" font-family=\"Times,serif\" font-size=\"14.00\">input_2</text>\n",
       "<polyline fill=\"none\" stroke=\"black\" points=\"398,-355.5 475,-355.5 \"/>\n",
       "<text text-anchor=\"middle\" x=\"436.5\" y=\"-340.3\" font-family=\"Times,serif\" font-size=\"14.00\">InputLayer</text>\n",
       "<polyline fill=\"none\" stroke=\"black\" points=\"475,-332.5 475,-378.5 \"/>\n",
       "<text text-anchor=\"middle\" x=\"502.5\" y=\"-363.3\" font-family=\"Times,serif\" font-size=\"14.00\">input:</text>\n",
       "<polyline fill=\"none\" stroke=\"black\" points=\"475,-355.5 530,-355.5 \"/>\n",
       "<text text-anchor=\"middle\" x=\"502.5\" y=\"-340.3\" font-family=\"Times,serif\" font-size=\"14.00\">output:</text>\n",
       "<polyline fill=\"none\" stroke=\"black\" points=\"530,-332.5 530,-378.5 \"/>\n",
       "<text text-anchor=\"middle\" x=\"569\" y=\"-351.8\" font-family=\"Times,serif\" font-size=\"14.00\">[(None, 1)]</text>\n",
       "<polyline fill=\"none\" stroke=\"black\" points=\"608,-332.5 608,-378.5 \"/>\n",
       "<text text-anchor=\"middle\" x=\"647\" y=\"-351.8\" font-family=\"Times,serif\" font-size=\"14.00\">[(None, 1)]</text>\n",
       "</g>\n",
       "<!-- 10957018784 -->\n",
       "<g id=\"node4\" class=\"node\">\n",
       "<title>10957018784</title>\n",
       "<polygon fill=\"none\" stroke=\"black\" points=\"364.5,-249.5 364.5,-295.5 719.5,-295.5 719.5,-249.5 364.5,-249.5\"/>\n",
       "<text text-anchor=\"middle\" x=\"431.5\" y=\"-280.3\" font-family=\"Times,serif\" font-size=\"14.00\">context_embed_layer</text>\n",
       "<polyline fill=\"none\" stroke=\"black\" points=\"364.5,-272.5 498.5,-272.5 \"/>\n",
       "<text text-anchor=\"middle\" x=\"431.5\" y=\"-257.3\" font-family=\"Times,serif\" font-size=\"14.00\">Embedding</text>\n",
       "<polyline fill=\"none\" stroke=\"black\" points=\"498.5,-249.5 498.5,-295.5 \"/>\n",
       "<text text-anchor=\"middle\" x=\"526\" y=\"-280.3\" font-family=\"Times,serif\" font-size=\"14.00\">input:</text>\n",
       "<polyline fill=\"none\" stroke=\"black\" points=\"498.5,-272.5 553.5,-272.5 \"/>\n",
       "<text text-anchor=\"middle\" x=\"526\" y=\"-257.3\" font-family=\"Times,serif\" font-size=\"14.00\">output:</text>\n",
       "<polyline fill=\"none\" stroke=\"black\" points=\"553.5,-249.5 553.5,-295.5 \"/>\n",
       "<text text-anchor=\"middle\" x=\"588\" y=\"-268.8\" font-family=\"Times,serif\" font-size=\"14.00\">(None, 1)</text>\n",
       "<polyline fill=\"none\" stroke=\"black\" points=\"622.5,-249.5 622.5,-295.5 \"/>\n",
       "<text text-anchor=\"middle\" x=\"671\" y=\"-268.8\" font-family=\"Times,serif\" font-size=\"14.00\">(None, 1, 100)</text>\n",
       "</g>\n",
       "<!-- 11795602784&#45;&gt;10957018784 -->\n",
       "<g id=\"edge2\" class=\"edge\">\n",
       "<title>11795602784-&gt;10957018784</title>\n",
       "<path fill=\"none\" stroke=\"black\" d=\"M542,-332.37C542,-324.15 542,-314.66 542,-305.73\"/>\n",
       "<polygon fill=\"black\" stroke=\"black\" points=\"545.5,-305.61 542,-295.61 538.5,-305.61 545.5,-305.61\"/>\n",
       "</g>\n",
       "<!-- 10957448624 -->\n",
       "<g id=\"node5\" class=\"node\">\n",
       "<title>10957448624</title>\n",
       "<polygon fill=\"none\" stroke=\"black\" points=\"48.5,-166.5 48.5,-212.5 345.5,-212.5 345.5,-166.5 48.5,-166.5\"/>\n",
       "<text text-anchor=\"middle\" x=\"79.5\" y=\"-197.3\" font-family=\"Times,serif\" font-size=\"14.00\">reshape</text>\n",
       "<polyline fill=\"none\" stroke=\"black\" points=\"48.5,-189.5 110.5,-189.5 \"/>\n",
       "<text text-anchor=\"middle\" x=\"79.5\" y=\"-174.3\" font-family=\"Times,serif\" font-size=\"14.00\">Reshape</text>\n",
       "<polyline fill=\"none\" stroke=\"black\" points=\"110.5,-166.5 110.5,-212.5 \"/>\n",
       "<text text-anchor=\"middle\" x=\"138\" y=\"-197.3\" font-family=\"Times,serif\" font-size=\"14.00\">input:</text>\n",
       "<polyline fill=\"none\" stroke=\"black\" points=\"110.5,-189.5 165.5,-189.5 \"/>\n",
       "<text text-anchor=\"middle\" x=\"138\" y=\"-174.3\" font-family=\"Times,serif\" font-size=\"14.00\">output:</text>\n",
       "<polyline fill=\"none\" stroke=\"black\" points=\"165.5,-166.5 165.5,-212.5 \"/>\n",
       "<text text-anchor=\"middle\" x=\"214\" y=\"-185.8\" font-family=\"Times,serif\" font-size=\"14.00\">(None, 1, 100)</text>\n",
       "<polyline fill=\"none\" stroke=\"black\" points=\"262.5,-166.5 262.5,-212.5 \"/>\n",
       "<text text-anchor=\"middle\" x=\"304\" y=\"-185.8\" font-family=\"Times,serif\" font-size=\"14.00\">(None, 100)</text>\n",
       "</g>\n",
       "<!-- 5973636576&#45;&gt;10957448624 -->\n",
       "<g id=\"edge3\" class=\"edge\">\n",
       "<title>5973636576-&gt;10957448624</title>\n",
       "<path fill=\"none\" stroke=\"black\" d=\"M179.56,-249.37C182.02,-241.06 184.87,-231.45 187.54,-222.43\"/>\n",
       "<polygon fill=\"black\" stroke=\"black\" points=\"190.96,-223.19 190.45,-212.61 184.25,-221.2 190.96,-223.19\"/>\n",
       "</g>\n",
       "<!-- 4570571248 -->\n",
       "<g id=\"node6\" class=\"node\">\n",
       "<title>4570571248</title>\n",
       "<polygon fill=\"none\" stroke=\"black\" points=\"376,-166.5 376,-212.5 682,-212.5 682,-166.5 376,-166.5\"/>\n",
       "<text text-anchor=\"middle\" x=\"411.5\" y=\"-197.3\" font-family=\"Times,serif\" font-size=\"14.00\">reshape_1</text>\n",
       "<polyline fill=\"none\" stroke=\"black\" points=\"376,-189.5 447,-189.5 \"/>\n",
       "<text text-anchor=\"middle\" x=\"411.5\" y=\"-174.3\" font-family=\"Times,serif\" font-size=\"14.00\">Reshape</text>\n",
       "<polyline fill=\"none\" stroke=\"black\" points=\"447,-166.5 447,-212.5 \"/>\n",
       "<text text-anchor=\"middle\" x=\"474.5\" y=\"-197.3\" font-family=\"Times,serif\" font-size=\"14.00\">input:</text>\n",
       "<polyline fill=\"none\" stroke=\"black\" points=\"447,-189.5 502,-189.5 \"/>\n",
       "<text text-anchor=\"middle\" x=\"474.5\" y=\"-174.3\" font-family=\"Times,serif\" font-size=\"14.00\">output:</text>\n",
       "<polyline fill=\"none\" stroke=\"black\" points=\"502,-166.5 502,-212.5 \"/>\n",
       "<text text-anchor=\"middle\" x=\"550.5\" y=\"-185.8\" font-family=\"Times,serif\" font-size=\"14.00\">(None, 1, 100)</text>\n",
       "<polyline fill=\"none\" stroke=\"black\" points=\"599,-166.5 599,-212.5 \"/>\n",
       "<text text-anchor=\"middle\" x=\"640.5\" y=\"-185.8\" font-family=\"Times,serif\" font-size=\"14.00\">(None, 100)</text>\n",
       "</g>\n",
       "<!-- 10957018784&#45;&gt;4570571248 -->\n",
       "<g id=\"edge4\" class=\"edge\">\n",
       "<title>10957018784-&gt;4570571248</title>\n",
       "<path fill=\"none\" stroke=\"black\" d=\"M538.45,-249.37C537.13,-241.15 535.61,-231.66 534.17,-222.73\"/>\n",
       "<polygon fill=\"black\" stroke=\"black\" points=\"537.59,-221.93 532.55,-212.61 530.68,-223.04 537.59,-221.93\"/>\n",
       "</g>\n",
       "<!-- 11795629440 -->\n",
       "<g id=\"node7\" class=\"node\">\n",
       "<title>11795629440</title>\n",
       "<polygon fill=\"none\" stroke=\"black\" points=\"194,-83.5 194,-129.5 520,-129.5 520,-83.5 194,-83.5\"/>\n",
       "<text text-anchor=\"middle\" x=\"212.5\" y=\"-114.3\" font-family=\"Times,serif\" font-size=\"14.00\">dot</text>\n",
       "<polyline fill=\"none\" stroke=\"black\" points=\"194,-106.5 231,-106.5 \"/>\n",
       "<text text-anchor=\"middle\" x=\"212.5\" y=\"-91.3\" font-family=\"Times,serif\" font-size=\"14.00\">Dot</text>\n",
       "<polyline fill=\"none\" stroke=\"black\" points=\"231,-83.5 231,-129.5 \"/>\n",
       "<text text-anchor=\"middle\" x=\"258.5\" y=\"-114.3\" font-family=\"Times,serif\" font-size=\"14.00\">input:</text>\n",
       "<polyline fill=\"none\" stroke=\"black\" points=\"231,-106.5 286,-106.5 \"/>\n",
       "<text text-anchor=\"middle\" x=\"258.5\" y=\"-91.3\" font-family=\"Times,serif\" font-size=\"14.00\">output:</text>\n",
       "<polyline fill=\"none\" stroke=\"black\" points=\"286,-83.5 286,-129.5 \"/>\n",
       "<text text-anchor=\"middle\" x=\"368.5\" y=\"-102.8\" font-family=\"Times,serif\" font-size=\"14.00\">[(None, 100), (None, 100)]</text>\n",
       "<polyline fill=\"none\" stroke=\"black\" points=\"451,-83.5 451,-129.5 \"/>\n",
       "<text text-anchor=\"middle\" x=\"485.5\" y=\"-102.8\" font-family=\"Times,serif\" font-size=\"14.00\">(None, 1)</text>\n",
       "</g>\n",
       "<!-- 10957448624&#45;&gt;11795629440 -->\n",
       "<g id=\"edge5\" class=\"edge\">\n",
       "<title>10957448624-&gt;11795629440</title>\n",
       "<path fill=\"none\" stroke=\"black\" d=\"M240.72,-166.37C260.39,-156.41 283.76,-144.58 304.38,-134.14\"/>\n",
       "<polygon fill=\"black\" stroke=\"black\" points=\"305.99,-137.25 313.33,-129.61 302.83,-131 305.99,-137.25\"/>\n",
       "</g>\n",
       "<!-- 4570571248&#45;&gt;11795629440 -->\n",
       "<g id=\"edge6\" class=\"edge\">\n",
       "<title>4570571248-&gt;11795629440</title>\n",
       "<path fill=\"none\" stroke=\"black\" d=\"M482,-166.37C460.76,-156.37 435.5,-144.47 413.27,-134\"/>\n",
       "<polygon fill=\"black\" stroke=\"black\" points=\"414.48,-130.7 403.94,-129.61 411.5,-137.03 414.48,-130.7\"/>\n",
       "</g>\n",
       "<!-- 11795668128 -->\n",
       "<g id=\"node8\" class=\"node\">\n",
       "<title>11795668128</title>\n",
       "<polygon fill=\"none\" stroke=\"black\" points=\"235.5,-0.5 235.5,-46.5 478.5,-46.5 478.5,-0.5 235.5,-0.5\"/>\n",
       "<text text-anchor=\"middle\" x=\"260.5\" y=\"-31.3\" font-family=\"Times,serif\" font-size=\"14.00\">dense</text>\n",
       "<polyline fill=\"none\" stroke=\"black\" points=\"235.5,-23.5 285.5,-23.5 \"/>\n",
       "<text text-anchor=\"middle\" x=\"260.5\" y=\"-8.3\" font-family=\"Times,serif\" font-size=\"14.00\">Dense</text>\n",
       "<polyline fill=\"none\" stroke=\"black\" points=\"285.5,-0.5 285.5,-46.5 \"/>\n",
       "<text text-anchor=\"middle\" x=\"313\" y=\"-31.3\" font-family=\"Times,serif\" font-size=\"14.00\">input:</text>\n",
       "<polyline fill=\"none\" stroke=\"black\" points=\"285.5,-23.5 340.5,-23.5 \"/>\n",
       "<text text-anchor=\"middle\" x=\"313\" y=\"-8.3\" font-family=\"Times,serif\" font-size=\"14.00\">output:</text>\n",
       "<polyline fill=\"none\" stroke=\"black\" points=\"340.5,-0.5 340.5,-46.5 \"/>\n",
       "<text text-anchor=\"middle\" x=\"375\" y=\"-19.8\" font-family=\"Times,serif\" font-size=\"14.00\">(None, 1)</text>\n",
       "<polyline fill=\"none\" stroke=\"black\" points=\"409.5,-0.5 409.5,-46.5 \"/>\n",
       "<text text-anchor=\"middle\" x=\"444\" y=\"-19.8\" font-family=\"Times,serif\" font-size=\"14.00\">(None, 1)</text>\n",
       "</g>\n",
       "<!-- 11795629440&#45;&gt;11795668128 -->\n",
       "<g id=\"edge7\" class=\"edge\">\n",
       "<title>11795629440-&gt;11795668128</title>\n",
       "<path fill=\"none\" stroke=\"black\" d=\"M357,-83.37C357,-75.15 357,-65.66 357,-56.73\"/>\n",
       "<polygon fill=\"black\" stroke=\"black\" points=\"360.5,-56.61 357,-46.61 353.5,-56.61 360.5,-56.61\"/>\n",
       "</g>\n",
       "</g>\n",
       "</svg>"
      ],
      "text/plain": [
       "<IPython.core.display.SVG object>"
      ]
     },
     "execution_count": 22,
     "metadata": {},
     "output_type": "execute_result"
    }
   ],
   "source": [
    "from IPython.display import SVG\n",
    "from keras.utils import vis_utils\n",
    "SVG(vis_utils.model_to_dot(model, show_shapes=True, \n",
    "                           show_layer_names=True, dpi=60).create(prog='dot', format='svg'))  "
   ]
  },
  {
   "cell_type": "markdown",
   "metadata": {
    "id": "zbOcZD6igpxy"
   },
   "source": [
    "### **6.Training the Model**\n",
    "\n",
    "Run the following block of code to train the model for 5 epochs:"
   ]
  },
  {
   "cell_type": "code",
   "execution_count": 23,
   "metadata": {
    "colab": {
     "base_uri": "https://localhost:8080/"
    },
    "id": "RmQN4r52gmLR",
    "outputId": "150a15d1-f2c4-4ec3-97be-38ccf05885f5",
    "scrolled": true
   },
   "outputs": [
    {
     "name": "stdout",
     "output_type": "stream",
     "text": [
      "Processed 0 sentences\n"
     ]
    },
    {
     "name": "stderr",
     "output_type": "stream",
     "text": [
      "2022-03-02 15:27:14.417234: W tensorflow/core/platform/profile_utils/cpu_utils.cc:128] Failed to get CPU frequency: 0 Hz\n",
      "2022-03-02 15:27:14.417880: I tensorflow/core/grappler/optimizers/custom_graph_optimizer_registry.cc:113] Plugin optimizer for device_type GPU is enabled.\n",
      "2022-03-02 15:27:14.682966: I tensorflow/core/grappler/optimizers/custom_graph_optimizer_registry.cc:113] Plugin optimizer for device_type GPU is enabled.\n",
      "2022-03-02 15:27:14.889799: I tensorflow/core/grappler/optimizers/custom_graph_optimizer_registry.cc:113] Plugin optimizer for device_type GPU is enabled.\n"
     ]
    },
    {
     "name": "stdout",
     "output_type": "stream",
     "text": [
      "Processed 5000 sentences\n",
      "Processed 10000 sentences\n",
      "Processed all 14527 sentences\n",
      "Epoch: 1 Loss: 2088.5987780881114 \n",
      "\n",
      "Processed 0 sentences\n",
      "Processed 5000 sentences\n",
      "Processed 10000 sentences\n",
      "Processed all 14527 sentences\n",
      "Epoch: 2 Loss: 1715.897818570491 \n",
      "\n",
      "Processed 0 sentences\n",
      "Processed 5000 sentences\n",
      "Processed 10000 sentences\n",
      "Processed all 14527 sentences\n",
      "Epoch: 3 Loss: 1656.1730864048004 \n",
      "\n",
      "Processed 0 sentences\n",
      "Processed 5000 sentences\n",
      "Processed 10000 sentences\n",
      "Processed all 14527 sentences\n",
      "Epoch: 4 Loss: 1634.6372010190971 \n",
      "\n",
      "Processed 0 sentences\n",
      "Processed 5000 sentences\n",
      "Processed 10000 sentences\n",
      "Processed all 14527 sentences\n",
      "Epoch: 5 Loss: 1622.4500486205798 \n",
      "\n"
     ]
    }
   ],
   "source": [
    "import numpy as np\n",
    "\n",
    "NUM_EPOCHS = 5\n",
    "\n",
    "for epoch in range(1, NUM_EPOCHS+1):\n",
    "    epoch_loss = 0\n",
    "    for i, sent_examples in enumerate(skip_grams):\n",
    "        target_wds = np.array([pair[0] for pair in sent_examples[0]], dtype='int32')\n",
    "        context_wds = np.array([pair[1] for pair in sent_examples[0]], dtype='int32')\n",
    "        labels = np.array(sent_examples[1], dtype='int32')\n",
    "        X = [target_wds, context_wds]\n",
    "        Y = labels\n",
    "\n",
    "        if i % 5000 == 0: \n",
    "            print('Processed %d sentences' %i)\n",
    "        \n",
    "        epoch_loss += model.train_on_batch(X, Y)\n",
    "    print('Processed all %d sentences' %i)\n",
    "    print('Epoch:', epoch, 'Loss:', epoch_loss, '\\n')\n",
    "\n"
   ]
  },
  {
   "cell_type": "markdown",
   "metadata": {
    "id": "Bwz_8kTZ6UVF"
   },
   "source": [
    "### **7. Getting the Word Embeddings**\n",
    "\n",
    "The word embeddings are the weights of the target word embedding layer.\n"
   ]
  },
  {
   "cell_type": "code",
   "execution_count": 24,
   "metadata": {
    "colab": {
     "base_uri": "https://localhost:8080/"
    },
    "id": "kiQTO6VgcN90",
    "outputId": "1b1a5d3f-6bc9-4aba-c63f-f6124ec292eb"
   },
   "outputs": [
    {
     "name": "stdout",
     "output_type": "stream",
     "text": [
      "(10241, 100)\n"
     ]
    }
   ],
   "source": [
    "word_embeddings = model.get_layer('target_embed_layer').get_weights()[0] \n",
    "\n",
    "# should return (VOCAB_SIZE, EMBED_SIZE)\n",
    "print(word_embeddings.shape)"
   ]
  },
  {
   "cell_type": "markdown",
   "metadata": {
    "id": "33-QRJFv6v5t"
   },
   "source": [
    "Print out a few words and their embeddings using the next block of code. Our output may not be exactly as above but the command should print 10 words and their respective vectors."
   ]
  },
  {
   "cell_type": "code",
   "execution_count": 25,
   "metadata": {
    "colab": {
     "base_uri": "https://localhost:8080/"
    },
    "id": "HffZwwLUcXb1",
    "outputId": "d95c4478-d192-4906-846b-5b4fafa6f2af"
   },
   "outputs": [
    {
     "name": "stdout",
     "output_type": "stream",
     "text": [
      "                   0         1         2         3         4         5   \\\n",
      "sense       -0.013191  0.010492  0.013087  0.017900  0.004934 -0.014447   \n",
      "sensibility -0.046498 -0.014590 -0.000525 -0.009585 -0.024555 -0.031843   \n",
      "jane        -0.007119  0.003256 -0.053789 -0.026471 -0.025794  0.023009   \n",
      "austen      -0.016459  0.013805 -0.008099 -0.003911 -0.017598  0.007957   \n",
      "the         -0.010649 -0.016116 -0.003619  0.077740 -0.080641  0.011983   \n",
      "family      -0.005288  0.058220  0.039026 -0.016200  0.010911 -0.039246   \n",
      "dashwood    -0.023614 -0.090782 -0.095932  0.005459 -0.026532 -0.055629   \n",
      "long        -0.029477 -0.027634 -0.053599 -0.026846 -0.094589 -0.059164   \n",
      "settled     -0.086880  0.011689 -0.012119  0.035283 -0.025754 -0.028589   \n",
      "sussex      -0.032597 -0.014307  0.016387 -0.018499 -0.028822 -0.029536   \n",
      "\n",
      "                   6         7         8         9   ...        90        91  \\\n",
      "sense        0.010480  0.005788 -0.018801 -0.013037  ... -0.019915 -0.016813   \n",
      "sensibility -0.006211 -0.015875 -0.004303 -0.005762  ... -0.015772  0.013941   \n",
      "jane        -0.042881  0.048920 -0.042050  0.039117  ... -0.079604 -0.070631   \n",
      "austen       0.014111 -0.001861  0.001868 -0.019176  ... -0.009860  0.004230   \n",
      "the          0.064447  0.014804 -0.021596 -0.045745  ...  0.063117  0.004691   \n",
      "family       0.043884 -0.026597 -0.014120 -0.033172  ...  0.004435 -0.032940   \n",
      "dashwood    -0.051906  0.066732  0.044026 -0.098691  ...  0.057778  0.098244   \n",
      "long         0.036845 -0.103932 -0.100035  0.003425  ... -0.057457 -0.040261   \n",
      "settled      0.031513 -0.017104 -0.011088 -0.043127  ...  0.029190 -0.030020   \n",
      "sussex      -0.008334 -0.023022 -0.016756 -0.008916  ... -0.010912  0.019382   \n",
      "\n",
      "                   92        93        94        95        96        97  \\\n",
      "sense        0.010966  0.015879  0.001114 -0.001086  0.014163  0.007012   \n",
      "sensibility  0.018541 -0.006819  0.016046  0.000489 -0.005884 -0.012052   \n",
      "jane        -0.009064 -0.044903  0.017371  0.023813 -0.008672  0.014986   \n",
      "austen       0.011787  0.000431 -0.021976  0.007503  0.015230 -0.011954   \n",
      "the         -0.015488 -0.180017 -0.090209 -0.027289  0.057296  0.000894   \n",
      "family      -0.037806 -0.162486  0.017299 -0.032772 -0.022423 -0.028363   \n",
      "dashwood    -0.042200 -0.032543 -0.085459  0.071932  0.065624 -0.011283   \n",
      "long        -0.057690 -0.093155 -0.052216  0.064954  0.034811  0.058599   \n",
      "settled     -0.016864 -0.010304 -0.029777  0.000513 -0.002699  0.087416   \n",
      "sussex      -0.003620 -0.005281 -0.009417  0.029159  0.004480  0.000085   \n",
      "\n",
      "                   98        99  \n",
      "sense        0.019161  0.014017  \n",
      "sensibility  0.040804  0.008042  \n",
      "jane         0.039508 -0.034742  \n",
      "austen       0.020139 -0.009003  \n",
      "the         -0.017462  0.086743  \n",
      "family       0.059217 -0.055534  \n",
      "dashwood     0.069799  0.035200  \n",
      "long        -0.001671 -0.079362  \n",
      "settled      0.009750  0.032156  \n",
      "sussex       0.026160  0.019149  \n",
      "\n",
      "[10 rows x 100 columns]\n"
     ]
    }
   ],
   "source": [
    "from pandas import DataFrame\n",
    "\n",
    "print(DataFrame(word_embeddings, index=idx2word.values()).head(10))"
   ]
  },
  {
   "cell_type": "markdown",
   "metadata": {
    "id": "-Ki8NtrS7ezr"
   },
   "source": [
    "### **8.  Measuring Similarity Between Word Pairs**\n",
    "\n"
   ]
  },
  {
   "cell_type": "code",
   "execution_count": 26,
   "metadata": {
    "id": "dbb-uoe666oV"
   },
   "outputs": [
    {
     "name": "stdout",
     "output_type": "stream",
     "text": [
      "(10241, 10241)\n"
     ]
    }
   ],
   "source": [
    "from sklearn.metrics.pairwise import cosine_similarity\n",
    "\n",
    "similarity_matrix = cosine_similarity(word_embeddings)\n",
    "\n",
    "# should print(VOCAB_SIZE, VOCAB_SIZE)\n",
    "print(similarity_matrix.shape)   "
   ]
  },
  {
   "cell_type": "markdown",
   "metadata": {
    "id": "k0fyfgvB90G5"
   },
   "source": [
    "### **9. Exploring and Visualizing the Word Embeddings using t-SNE**\n",
    "\n",
    "**A.\tGet the most similar words to the search items in the list below**\n",
    "\n",
    "search_terms = ['family', 'love', 'equality', 'wisdom', 'justice',  'humour', 'rejection']"
   ]
  },
  {
   "cell_type": "code",
   "execution_count": 27,
   "metadata": {},
   "outputs": [],
   "source": [
    "similarity_df = DataFrame(similarity_matrix, \n",
    "                          index=idx2word.values(), \n",
    "                          columns = idx2word.values())"
   ]
  },
  {
   "cell_type": "code",
   "execution_count": 28,
   "metadata": {},
   "outputs": [
    {
     "data": {
      "text/html": [
       "<div>\n",
       "<style scoped>\n",
       "    .dataframe tbody tr th:only-of-type {\n",
       "        vertical-align: middle;\n",
       "    }\n",
       "\n",
       "    .dataframe tbody tr th {\n",
       "        vertical-align: top;\n",
       "    }\n",
       "\n",
       "    .dataframe thead th {\n",
       "        text-align: right;\n",
       "    }\n",
       "</style>\n",
       "<table border=\"1\" class=\"dataframe\">\n",
       "  <thead>\n",
       "    <tr style=\"text-align: right;\">\n",
       "      <th></th>\n",
       "      <th>sense</th>\n",
       "      <th>sensibility</th>\n",
       "      <th>jane</th>\n",
       "      <th>austen</th>\n",
       "      <th>the</th>\n",
       "      <th>family</th>\n",
       "      <th>dashwood</th>\n",
       "      <th>long</th>\n",
       "      <th>settled</th>\n",
       "      <th>sussex</th>\n",
       "      <th>...</th>\n",
       "      <th>wheedled</th>\n",
       "      <th>caressed</th>\n",
       "      <th>resort</th>\n",
       "      <th>transgressions</th>\n",
       "      <th>kinds</th>\n",
       "      <th>depriving</th>\n",
       "      <th>requited</th>\n",
       "      <th>supplies</th>\n",
       "      <th>accessions</th>\n",
       "      <th>national</th>\n",
       "    </tr>\n",
       "  </thead>\n",
       "  <tbody>\n",
       "    <tr>\n",
       "      <th>sense</th>\n",
       "      <td>1.000000</td>\n",
       "      <td>0.050751</td>\n",
       "      <td>0.151152</td>\n",
       "      <td>0.155992</td>\n",
       "      <td>0.044704</td>\n",
       "      <td>-0.038682</td>\n",
       "      <td>-0.162070</td>\n",
       "      <td>-0.121895</td>\n",
       "      <td>0.117885</td>\n",
       "      <td>0.148553</td>\n",
       "      <td>...</td>\n",
       "      <td>0.125872</td>\n",
       "      <td>-0.095832</td>\n",
       "      <td>0.167213</td>\n",
       "      <td>0.060350</td>\n",
       "      <td>0.014763</td>\n",
       "      <td>0.058387</td>\n",
       "      <td>0.257383</td>\n",
       "      <td>0.125794</td>\n",
       "      <td>-0.012572</td>\n",
       "      <td>-0.074961</td>\n",
       "    </tr>\n",
       "    <tr>\n",
       "      <th>sensibility</th>\n",
       "      <td>0.050751</td>\n",
       "      <td>1.000000</td>\n",
       "      <td>0.205028</td>\n",
       "      <td>0.045446</td>\n",
       "      <td>0.015701</td>\n",
       "      <td>0.166559</td>\n",
       "      <td>0.191675</td>\n",
       "      <td>0.009978</td>\n",
       "      <td>0.085376</td>\n",
       "      <td>0.266738</td>\n",
       "      <td>...</td>\n",
       "      <td>-0.020826</td>\n",
       "      <td>-0.147694</td>\n",
       "      <td>0.037703</td>\n",
       "      <td>-0.097502</td>\n",
       "      <td>0.052908</td>\n",
       "      <td>-0.083064</td>\n",
       "      <td>-0.054812</td>\n",
       "      <td>0.040888</td>\n",
       "      <td>-0.019956</td>\n",
       "      <td>0.003715</td>\n",
       "    </tr>\n",
       "    <tr>\n",
       "      <th>jane</th>\n",
       "      <td>0.151152</td>\n",
       "      <td>0.205028</td>\n",
       "      <td>1.000000</td>\n",
       "      <td>-0.008402</td>\n",
       "      <td>0.219007</td>\n",
       "      <td>0.329271</td>\n",
       "      <td>0.122300</td>\n",
       "      <td>0.370298</td>\n",
       "      <td>0.205676</td>\n",
       "      <td>0.008668</td>\n",
       "      <td>...</td>\n",
       "      <td>-0.027874</td>\n",
       "      <td>-0.048457</td>\n",
       "      <td>-0.101146</td>\n",
       "      <td>0.031714</td>\n",
       "      <td>-0.033291</td>\n",
       "      <td>-0.160834</td>\n",
       "      <td>-0.092177</td>\n",
       "      <td>0.113669</td>\n",
       "      <td>-0.073134</td>\n",
       "      <td>-0.045928</td>\n",
       "    </tr>\n",
       "    <tr>\n",
       "      <th>austen</th>\n",
       "      <td>0.155992</td>\n",
       "      <td>0.045446</td>\n",
       "      <td>-0.008402</td>\n",
       "      <td>1.000000</td>\n",
       "      <td>-0.033376</td>\n",
       "      <td>0.092375</td>\n",
       "      <td>-0.105947</td>\n",
       "      <td>-0.076544</td>\n",
       "      <td>0.160687</td>\n",
       "      <td>0.046298</td>\n",
       "      <td>...</td>\n",
       "      <td>0.111761</td>\n",
       "      <td>0.037394</td>\n",
       "      <td>0.205320</td>\n",
       "      <td>0.140371</td>\n",
       "      <td>0.157410</td>\n",
       "      <td>0.260792</td>\n",
       "      <td>0.167196</td>\n",
       "      <td>0.120317</td>\n",
       "      <td>-0.034423</td>\n",
       "      <td>0.108798</td>\n",
       "    </tr>\n",
       "    <tr>\n",
       "      <th>the</th>\n",
       "      <td>0.044704</td>\n",
       "      <td>0.015701</td>\n",
       "      <td>0.219007</td>\n",
       "      <td>-0.033376</td>\n",
       "      <td>1.000000</td>\n",
       "      <td>0.474494</td>\n",
       "      <td>0.007785</td>\n",
       "      <td>0.264014</td>\n",
       "      <td>0.412211</td>\n",
       "      <td>-0.110241</td>\n",
       "      <td>...</td>\n",
       "      <td>-0.004790</td>\n",
       "      <td>-0.096258</td>\n",
       "      <td>-0.078681</td>\n",
       "      <td>0.017996</td>\n",
       "      <td>0.036117</td>\n",
       "      <td>-0.232757</td>\n",
       "      <td>0.062627</td>\n",
       "      <td>-0.019443</td>\n",
       "      <td>-0.043867</td>\n",
       "      <td>-0.104749</td>\n",
       "    </tr>\n",
       "  </tbody>\n",
       "</table>\n",
       "<p>5 rows × 10241 columns</p>\n",
       "</div>"
      ],
      "text/plain": [
       "                sense  sensibility      jane    austen       the    family  \\\n",
       "sense        1.000000     0.050751  0.151152  0.155992  0.044704 -0.038682   \n",
       "sensibility  0.050751     1.000000  0.205028  0.045446  0.015701  0.166559   \n",
       "jane         0.151152     0.205028  1.000000 -0.008402  0.219007  0.329271   \n",
       "austen       0.155992     0.045446 -0.008402  1.000000 -0.033376  0.092375   \n",
       "the          0.044704     0.015701  0.219007 -0.033376  1.000000  0.474494   \n",
       "\n",
       "             dashwood      long   settled    sussex  ...  wheedled  caressed  \\\n",
       "sense       -0.162070 -0.121895  0.117885  0.148553  ...  0.125872 -0.095832   \n",
       "sensibility  0.191675  0.009978  0.085376  0.266738  ... -0.020826 -0.147694   \n",
       "jane         0.122300  0.370298  0.205676  0.008668  ... -0.027874 -0.048457   \n",
       "austen      -0.105947 -0.076544  0.160687  0.046298  ...  0.111761  0.037394   \n",
       "the          0.007785  0.264014  0.412211 -0.110241  ... -0.004790 -0.096258   \n",
       "\n",
       "               resort  transgressions     kinds  depriving  requited  \\\n",
       "sense        0.167213        0.060350  0.014763   0.058387  0.257383   \n",
       "sensibility  0.037703       -0.097502  0.052908  -0.083064 -0.054812   \n",
       "jane        -0.101146        0.031714 -0.033291  -0.160834 -0.092177   \n",
       "austen       0.205320        0.140371  0.157410   0.260792  0.167196   \n",
       "the         -0.078681        0.017996  0.036117  -0.232757  0.062627   \n",
       "\n",
       "             supplies  accessions  national  \n",
       "sense        0.125794   -0.012572 -0.074961  \n",
       "sensibility  0.040888   -0.019956  0.003715  \n",
       "jane         0.113669   -0.073134 -0.045928  \n",
       "austen       0.120317   -0.034423  0.108798  \n",
       "the         -0.019443   -0.043867 -0.104749  \n",
       "\n",
       "[5 rows x 10241 columns]"
      ]
     },
     "execution_count": 28,
     "metadata": {},
     "output_type": "execute_result"
    }
   ],
   "source": [
    "similarity_df.head()"
   ]
  },
  {
   "cell_type": "code",
   "execution_count": 29,
   "metadata": {
    "colab": {
     "base_uri": "https://localhost:8080/"
    },
    "id": "hWbSfqYschRs",
    "outputId": "ed9a75a6-3960-473d-afbf-ac430e659e69"
   },
   "outputs": [
    {
     "name": "stdout",
     "output_type": "stream",
     "text": [
      "{'think': ['dear', 'does', 'hardly', 'know', 'not'], 'thought': ['none', 'given', 'croft', 'yesterday', 'whom'], 'mr': ['martin', 'elton', 'robert', 'weston', 'woodhouse'], 'friend': ['fairfax', 'musgrove', 'long', 'father', 'walter'], 'love': ['influence', 'truth', 'considered', 'when', 'either'], 'disdain': ['fluently', 'easter', 'amiably', 'draught', 'minehead']}\n"
     ]
    }
   ],
   "source": [
    "search_terms = ['think', 'thought', 'mr', 'friend', 'love', 'disdain']\n",
    "\n",
    "# write code to get the 5 words most similar to the words in search_terms\n",
    "similar_words ={}\n",
    "\n",
    "for i in search_terms:\n",
    "    similar_words[i] = similarity_df[i].abs().sort_values(\n",
    "                        ascending = False).iloc[1:6].index.to_list()\n",
    "\n",
    "print(similar_words)"
   ]
  },
  {
   "cell_type": "markdown",
   "metadata": {
    "id": "5I_X9W-vGXiZ"
   },
   "source": [
    "**B. Plot the words in the dictionary above using t-SN**E \n",
    "\n",
    "https://lvdmaaten.github.io/tsne/ \n",
    "\n",
    "Plot 50 of the word embeddings using the code snippets below:\n",
    "\n",
    "\n",
    "\n",
    "\n",
    "\n",
    "\n",
    "\n",
    "\n",
    "\n",
    "\n",
    "\n",
    "\n"
   ]
  },
  {
   "cell_type": "code",
   "execution_count": 30,
   "metadata": {
    "colab": {
     "base_uri": "https://localhost:8080/",
     "height": 482
    },
    "id": "FMnyCjS4cnb8",
    "outputId": "199acfb7-fef3-47d4-9dfa-32f534a7e498"
   },
   "outputs": [
    {
     "name": "stderr",
     "output_type": "stream",
     "text": [
      "/opt/homebrew/Caskroom/miniforge/base/envs/mlp/lib/python3.8/site-packages/sklearn/manifold/_t_sne.py:790: FutureWarning: The default learning rate in TSNE will change from 200.0 to 'auto' in 1.2.\n",
      "  warnings.warn(\n",
      "/opt/homebrew/Caskroom/miniforge/base/envs/mlp/lib/python3.8/site-packages/sklearn/manifold/_t_sne.py:982: FutureWarning: The PCA initialization in TSNE will change to have the standard deviation of PC1 equal to 1e-4 in 1.2. This will ensure better convergence.\n",
      "  warnings.warn(\n"
     ]
    },
    {
     "data": {
      "image/png": "[encoded data removed]",
      "text/plain": [
       "<Figure size 1008x576 with 1 Axes>"
      ]
     },
     "metadata": {
      "needs_background": "light"
     },
     "output_type": "display_data"
    }
   ],
   "source": [
    "from sklearn.manifold import TSNE\n",
    "import matplotlib.pyplot as plt\n",
    "\n",
    "tsne = TSNE(perplexity=3, n_components=2, init='pca', n_iter=5000, method='exact')\n",
    "np.set_printoptions(suppress=True)\n",
    "plot_only = 50 \n",
    "\n",
    "T = tsne.fit_transform(word_embeddings[:plot_only, :])\n",
    "labels = [idx2word[i+1] for i in range(plot_only)]\n",
    "plt.figure(figsize=(14, 8))\n",
    "plt.scatter(T[:, 0], T[:, 1])\n",
    "for label, x, y in zip(labels, T[:, 0], T[:, 1]):\n",
    "    plt.annotate(label, xy=(x+1, y+1), xytext=(0, 0), textcoords='offset points', ha='right', va='bottom')                      \t                        \n",
    "\n"
   ]
  },
  {
   "cell_type": "markdown",
   "metadata": {
    "id": "OsCVTRUMP1qi"
   },
   "source": [
    "**10. Resources used**\n",
    "\n",
    "http://jalammar.github.io/illustrated-word2vec/\n",
    "https://adventuresinmachinelearning.com/word2vec-tutorial-tensorflow/ \n",
    "https://towardsdatascience.com/understanding-feature-engineering-part-4-deep-learning-methods-for-text-data-96c44370bbfa \n",
    "https://adventuresinmachinelearning.com/word2vec-keras-tutorial/ \n",
    "https://www.tensorflow.org/tutorials/representation/word2vec#the_skip-gram_model \n",
    "https://github.com/tensorflow/tensorflow/blob/master/tensorflow/examples/tutorials/word2vec/word2vec_basic.py \n",
    "\n"
   ]
  }
 ],
 "metadata": {
  "colab": {
   "collapsed_sections": [],
   "name": "7001_2021_22_lab1_wordEmbeddings_without_answers.ipynb",
   "provenance": [],
   "toc_visible": true
  },
  "kernelspec": {
   "display_name": "Py3",
   "language": "python",
   "name": "py3"
  },
  "language_info": {
   "codemirror_mode": {
    "name": "ipython",
    "version": 3
   },
   "file_extension": ".py",
   "mimetype": "text/x-python",
   "name": "python",
   "nbconvert_exporter": "python",
   "pygments_lexer": "ipython3",
   "version": "3.8.12"
  }
 },
 "nbformat": 4,
 "nbformat_minor": 1
}
