{
 "cells": [
  {
   "cell_type": "markdown",
   "metadata": {
    "id": "hExKCzh6doIW"
   },
   "source": [
    "# Lab 3 - Comparing Classification Models\n",
    "\n",
    "\n",
    "\n",
    "---\n",
    "\n",
    "\n",
    "\n",
    "\n",
    "\n",
    "\n",
    "\n",
    "\n",
    "\n",
    "\n",
    "\n",
    "\n",
    "\n"
   ]
  },
  {
   "cell_type": "markdown",
   "metadata": {
    "id": "HixoFOoCIJ7V"
   },
   "source": [
    "In this session, we demonstrate how to solve a text classification task using simple \n",
    "feedforward neural network classifier. We will use IMDB Large Movie Review Dataset to train a binary classification model, able to predict whether a review is positive or negative. First, our network takes one-hot word vectors as input, averages them to make one vector and trains a fully-connected layer to predict the output. In the second part, we replace the one-hot vectors with the word embeddings and add a layer to see how much that improves the performance.\n",
    "\n",
    "We are going to use Keras Sequential API in this session. The Sequential API allows us to make models layer-by-layer. But it is not straightforward to define models where layers connect to more than just the previous and next layers. "
   ]
  },
  {
   "cell_type": "code",
   "execution_count": 1,
   "metadata": {
    "id": "m8fpBfhBpupy"
   },
   "outputs": [],
   "source": [
    "import tensorflow.keras as tk\n",
    "import numpy as np\n",
    "from keras.layers import Lambda, GlobalAveragePooling1D, Dense, Embedding, Conv1D\n",
    "from keras import backend as K\n",
    "from keras.models import Sequential\n",
    "import matplotlib.pyplot as plt\n",
    "import keras"
   ]
  },
  {
   "cell_type": "markdown",
   "metadata": {
    "id": "cqvPQvgvPv1W"
   },
   "source": [
    "### Downloading data"
   ]
  },
  {
   "cell_type": "markdown",
   "metadata": {
    "id": "EundMtGPpCdf"
   },
   "source": [
    "The dataset we will be using is the IMDB Large Movie Review Dataset, which consists of 50000 labeled movie reviews. These are split into 25,000 reviews for training and 25,000 reviews for testing. The  dataset contains an even number of positive and negative reviews, so randomly guessing yields 50% accuracy. The data is preprocessed. For text classification, it is ususal to limit the size of the vocabulary to stop the dataset from becoming too sparse, creating possible overfitting. We keep the top 10,000 most frequently occurring words in the training data.\n"
   ]
  },
  {
   "cell_type": "code",
   "execution_count": 2,
   "metadata": {
    "colab": {
     "base_uri": "https://localhost:8080/"
    },
    "id": "NyuSzkafqNca",
    "outputId": "c6222408-20ed-4ace-882d-29f0115b75a8"
   },
   "outputs": [],
   "source": [
    "imdb = tk.datasets.imdb\n",
    "(X_train, y_train), (X_test, y_test) = imdb.load_data(num_words=10000)"
   ]
  },
  {
   "cell_type": "markdown",
   "metadata": {
    "id": "6U4iCV9-rmay"
   },
   "source": [
    "We now can start playing around with the data, let’s first see the length:"
   ]
  },
  {
   "cell_type": "code",
   "execution_count": 3,
   "metadata": {
    "id": "h-gjWRAuqg5s"
   },
   "outputs": [
    {
     "name": "stdout",
     "output_type": "stream",
     "text": [
      "Training entries: 25000, labels: 25000\n"
     ]
    }
   ],
   "source": [
    "print(\"Training entries: {}, labels: {}\".format(len(X_train), len(y_train)))"
   ]
  },
  {
   "cell_type": "markdown",
   "metadata": {
    "id": "MTRZrpcyr-4x"
   },
   "source": [
    "The  reviews have been converted to integers and each integer represents a  word in a dictionary. "
   ]
  },
  {
   "cell_type": "code",
   "execution_count": 4,
   "metadata": {
    "id": "79Ev72Kgq4XL"
   },
   "outputs": [
    {
     "data": {
      "text/plain": [
       "[1, 14, 22, 16, 43, 530, 973, 1622, 1385, 65]"
      ]
     },
     "execution_count": 4,
     "metadata": {},
     "output_type": "execute_result"
    }
   ],
   "source": [
    " X_train[0][:10]"
   ]
  },
  {
   "cell_type": "markdown",
   "metadata": {
    "id": "Tvuu4KhStqei"
   },
   "source": [
    "We can convert integers back to words by querying a dictionary object that contains the integer to string mapping:"
   ]
  },
  {
   "cell_type": "code",
   "execution_count": 5,
   "metadata": {
    "id": "gMCH1OoDrSNR"
   },
   "outputs": [],
   "source": [
    "word_index = imdb.get_word_index()"
   ]
  },
  {
   "cell_type": "markdown",
   "metadata": {
    "id": "5IreFXgruZot"
   },
   "source": [
    "Index 1 represents the beginning of the sentence and the index 2 is assigned to all unknown tokens. Index 0 will be used for padding."
   ]
  },
  {
   "cell_type": "code",
   "execution_count": 6,
   "metadata": {
    "id": "abIb7Fe5u3GQ"
   },
   "outputs": [],
   "source": [
    "word_index = {k:(v+3) for k,v in word_index.items()}\n",
    "word_index[\"<PAD>\"] = 0\n",
    "word_index[\"<START>\"] = 1\n",
    "word_index[\"<UNK>\"] = 2  \n",
    "word_index[\"<UNUSED>\"] = 3"
   ]
  },
  {
   "cell_type": "markdown",
   "metadata": {
    "id": "9TnnSuspvC5b"
   },
   "source": [
    "To reverse key and values in a dictionary:"
   ]
  },
  {
   "cell_type": "code",
   "execution_count": 7,
   "metadata": {
    "id": "nKOiVVXQu-_I"
   },
   "outputs": [],
   "source": [
    "reverse_word_index = dict([(value, key) for (key, value) in word_index.items()])"
   ]
  },
  {
   "cell_type": "markdown",
   "metadata": {
    "id": "ZmTJEm8xvUvW"
   },
   "source": [
    "To view a word:"
   ]
  },
  {
   "cell_type": "code",
   "execution_count": 8,
   "metadata": {
    "id": "SqN5jgVKvJJZ"
   },
   "outputs": [
    {
     "data": {
      "text/plain": [
       "'you'"
      ]
     },
     "execution_count": 8,
     "metadata": {},
     "output_type": "execute_result"
    }
   ],
   "source": [
    "reverse_word_index[25]"
   ]
  },
  {
   "cell_type": "markdown",
   "metadata": {
    "id": "Q6QjrzgVvrYn"
   },
   "source": [
    "And to recreate the whole sentence from our training data we define decode_review:\n"
   ]
  },
  {
   "cell_type": "code",
   "execution_count": 9,
   "metadata": {
    "id": "wvrKeMgxvWlv"
   },
   "outputs": [],
   "source": [
    "def decode_review(text):\n",
    "    return ' '.join([reverse_word_index.get(i, '?') for i in text])"
   ]
  },
  {
   "cell_type": "code",
   "execution_count": 10,
   "metadata": {
    "id": "Sxg4YA_NvdRg"
   },
   "outputs": [
    {
     "data": {
      "text/plain": [
       "\"<START> french horror cinema has seen something of a revival over the last couple of years with great films such as inside and <UNK> romance <UNK> on to the scene <UNK> <UNK> the revival just slightly but stands head and shoulders over most modern horror titles and is surely one of the best french horror films ever made <UNK> was obviously shot on a low budget but this is made up for in far more ways than one by the originality of the film and this in turn is <UNK> by the excellent writing and acting that ensure the film is a winner the plot focuses on two main ideas prison and black magic the central character is a man named <UNK> sent to prison for fraud he is put in a cell with three others the quietly insane <UNK> body building <UNK> marcus and his retarded boyfriend daisy after a short while in the cell together they stumble upon a hiding place in the wall that contains an old <UNK> after <UNK> part of it they soon realise its magical powers and realise they may be able to use it to break through the prison walls br br black magic is a very interesting topic and i'm actually quite surprised that there aren't more films based on it as there's so much scope for things to do with it it's fair to say that <UNK> makes the best of it's <UNK> as despite it's <UNK> the film never actually feels restrained and manages to flow well throughout director eric <UNK> provides a great atmosphere for the film the fact that most of it takes place inside the central prison cell <UNK> that the film feels very claustrophobic and this immensely benefits the central idea of the prisoners wanting to use magic to break out of the cell it's very easy to get behind them it's often said that the unknown is the thing that really <UNK> people and this film proves that as the director <UNK> that we can never really be sure of exactly what is round the corner and this helps to ensure that <UNK> actually does manage to be quite frightening the film is memorable for a lot of reasons outside the central plot the characters are all very interesting in their own way and the fact that the book itself almost takes on its own character is very well done anyone worried that the film won't deliver by the end won't be disappointed either as the ending both makes sense and manages to be quite horrifying overall <UNK> is a truly great horror film and one of the best of the decade highly recommended viewing\""
      ]
     },
     "execution_count": 10,
     "metadata": {},
     "output_type": "execute_result"
    }
   ],
   "source": [
    "decode_review(X_train[10])"
   ]
  },
  {
   "cell_type": "markdown",
   "metadata": {
    "id": "c8gIzXncfaJK"
   },
   "source": [
    "### Creating One-hot word vectors"
   ]
  },
  {
   "cell_type": "markdown",
   "metadata": {
    "id": "B9W4yb3rv_E0"
   },
   "source": [
    "It is  common to use one-hot representation as input in Natural Language Processing tasks. In Keras, the Embedding layer takes an index as an input and convert it to one-hot vector with the length of the vocabulary size. Then multiplies these vectors by a normal weight matrix. But there is no way to only get a one-hot vector as the output of a layer in Keras. To solve this we use Lambda() layer and a function that creates the one-hot layer. "
   ]
  },
  {
   "cell_type": "code",
   "execution_count": 11,
   "metadata": {
    "id": "RPO_pK9zH4C5"
   },
   "outputs": [],
   "source": [
    "def OneHot(input_dim=None, input_length=None):\n",
    "    \n",
    "    if input_dim is None or input_length is None:\n",
    "        raise TypeError(\"input_dim or input_length is not set\")\n",
    "\n",
    "    \n",
    "    def _one_hot(x, num_classes):\n",
    "        return K.one_hot(K.cast(x, 'uint8'),\n",
    "                          num_classes=num_classes)\n",
    "\n",
    "    return Lambda(_one_hot,\n",
    "                  arguments={'num_classes': input_dim},\n",
    "                  input_shape=(input_length,))"
   ]
  },
  {
   "cell_type": "markdown",
   "metadata": {
    "id": "364d3MAw0ez9"
   },
   "source": [
    "input_dim refers to the length of the one-hot vector and input_length refers to the length of the input sequence. Since the input to K.one_hot should be an integer tensor, we cast x to one (Keras passes around float tensors by default).\n",
    "\n"
   ]
  },
  {
   "cell_type": "markdown",
   "metadata": {
    "id": "VHz76GNA2M4r"
   },
   "source": [
    " Each text sequence has in most cases different length of words. Here, we fill sequences with a pad token (0) to fit the size. This special tokens is then masked not to be accounted in averaging, loss calculation etc. We set the maximum length to 256."
   ]
  },
  {
   "cell_type": "markdown",
   "metadata": {
    "id": "9G_o7PsvgSFt"
   },
   "source": [
    "### Preparing input data"
   ]
  },
  {
   "cell_type": "code",
   "execution_count": 12,
   "metadata": {
    "id": "jiFn7sd_wF5j"
   },
   "outputs": [],
   "source": [
    "VOCAB_SIZE = 10000\n",
    "MAX_SEQUENCE_LENGTH = 256\n",
    "\n",
    "X_train_enc = keras.preprocessing.sequence.pad_sequences(X_train,\n",
    "                                                        value=word_index[\"<PAD>\"],\n",
    "                                                        padding='post',\n",
    "                                                        maxlen= MAX_SEQUENCE_LENGTH)\n",
    "\n",
    "X_test_enc = keras.preprocessing.sequence.pad_sequences(X_test,\n",
    "                                                       value=word_index[\"<PAD>\"],\n",
    "                                                       padding='post',\n",
    "                                                       maxlen= MAX_SEQUENCE_LENGTH)"
   ]
  },
  {
   "cell_type": "markdown",
   "metadata": {
    "id": "kcjFH1wKF_7d"
   },
   "source": [
    "And to view a padded review:"
   ]
  },
  {
   "cell_type": "code",
   "execution_count": 13,
   "metadata": {
    "id": "zwH4dcfW_a18"
   },
   "outputs": [
    {
     "name": "stdout",
     "output_type": "stream",
     "text": [
      "[   1  194 1153  194 8255   78  228    5    6 1463 4369 5012  134   26\n",
      "    4  715    8  118 1634   14  394   20   13  119  954  189  102    5\n",
      "  207  110 3103   21   14   69  188    8   30   23    7    4  249  126\n",
      "   93    4  114    9 2300 1523    5  647    4  116    9   35 8163    4\n",
      "  229    9  340 1322    4  118    9    4  130 4901   19    4 1002    5\n",
      "   89   29  952   46   37    4  455    9   45   43   38 1543 1905  398\n",
      "    4 1649   26 6853    5  163   11 3215    2    4 1153    9  194  775\n",
      "    7 8255    2  349 2637  148  605    2 8003   15  123  125   68    2\n",
      " 6853   15  349  165 4362   98    5    4  228    9   43    2 1157   15\n",
      "  299  120    5  120  174   11  220  175  136   50    9 4373  228 8255\n",
      "    5    2  656  245 2350    5    4 9837  131  152  491   18    2   32\n",
      " 7464 1212   14    9    6  371   78   22  625   64 1382    9    8  168\n",
      "  145   23    4 1690   15   16    4 1355    5   28    6   52  154  462\n",
      "   33   89   78  285   16  145   95    0    0    0    0    0    0    0\n",
      "    0    0    0    0    0    0    0    0    0    0    0    0    0    0\n",
      "    0    0    0    0    0    0    0    0    0    0    0    0    0    0\n",
      "    0    0    0    0    0    0    0    0    0    0    0    0    0    0\n",
      "    0    0    0    0    0    0    0    0    0    0    0    0    0    0\n",
      "    0    0    0    0]\n",
      "\n",
      "Length:  25000\n"
     ]
    }
   ],
   "source": [
    "print(X_train_enc[1])\n",
    "print('\\nLength: ',len(X_train_enc))"
   ]
  },
  {
   "cell_type": "markdown",
   "metadata": {
    "id": "F1zcxFwNGepA"
   },
   "source": [
    "Now we want to build the neural network model. We  are going to have a hidden layer with 16 hidden units. \n",
    "\n",
    "First, we want to transform each index to an embedded vector and then average all vectors to a single one. It has been showed that unweighted average of word vectors outperforms many complicated networks that model semantic and syntactic compositionality. As an example we can take a look at this: (http://anthology.aclweb.org/P/P15/P15-1162.pdf)\n",
    "\n",
    "To average we need to ignore padded zeros:"
   ]
  },
  {
   "cell_type": "code",
   "execution_count": 14,
   "metadata": {
    "id": "Yi04MLIvJOGZ"
   },
   "outputs": [],
   "source": [
    "class GlobalAveragePooling1DMasked(GlobalAveragePooling1D):\n",
    "    def call(self, x, mask=None):\n",
    "        if mask != None:\n",
    "            return K.sum(x, axis=1) / K.sum(mask, axis=1)\n",
    "        else:\n",
    "            return super().call(x)"
   ]
  },
  {
   "cell_type": "markdown",
   "metadata": {
    "id": "whgIIB5ggjna"
   },
   "source": [
    "# Model 1: Neural averaging network using one-hot vectors"
   ]
  },
  {
   "cell_type": "markdown",
   "metadata": {
    "id": "jlOLnlnSJgrU"
   },
   "source": [
    "The first layer is an one-hot layer. The second layer is to compute average on all word vectors in a sentence without considering padding. The  output vector is piped through a fully-connected layer. The last layer is connected with a single output node with the sigmoid activation function. The final value is a float between 0 and 1. \n",
    "The vocabulary count of the movie reviews (10000) is used as the input shape. At the end we visualize the model summary."
   ]
  },
  {
   "cell_type": "code",
   "execution_count": 15,
   "metadata": {},
   "outputs": [
    {
     "name": "stdout",
     "output_type": "stream",
     "text": [
      "Metal device set to: Apple M1 Pro\n",
      "Model: \"sequential\"\n",
      "_________________________________________________________________\n",
      " Layer (type)                Output Shape              Param #   \n",
      "=================================================================\n",
      " lambda (Lambda)             (None, 256, 10000)        0         \n",
      "                                                                 \n",
      " global_average_pooling1d_ma  (None, 10000)            0         \n",
      " sked (GlobalAveragePooling1                                     \n",
      " DMasked)                                                        \n",
      "                                                                 \n",
      " dense (Dense)               (None, 16)                160016    \n",
      "                                                                 \n",
      " dense_1 (Dense)             (None, 1)                 17        \n",
      "                                                                 \n",
      "=================================================================\n",
      "Total params: 160,033\n",
      "Trainable params: 160,033\n",
      "Non-trainable params: 0\n",
      "_________________________________________________________________\n"
     ]
    },
    {
     "name": "stderr",
     "output_type": "stream",
     "text": [
      "2022-03-10 11:01:33.035511: I tensorflow/core/common_runtime/pluggable_device/pluggable_device_factory.cc:305] Could not identify NUMA node of platform GPU ID 0, defaulting to 0. Your kernel may not have been built with NUMA support.\n",
      "2022-03-10 11:01:33.035619: I tensorflow/core/common_runtime/pluggable_device/pluggable_device_factory.cc:271] Created TensorFlow device (/job:localhost/replica:0/task:0/device:GPU:0 with 0 MB memory) -> physical PluggableDevice (device: 0, name: METAL, pci bus id: <undefined>)\n"
     ]
    }
   ],
   "source": [
    "hidden_layer=16\n",
    "\n",
    "from keras.layers import Input\n",
    "model_1 = Sequential()\n",
    "\n",
    "# 1. an one-hot layer. \n",
    "model_1.add(OneHot(input_dim = VOCAB_SIZE, \n",
    "                   input_length = MAX_SEQUENCE_LENGTH))\n",
    "\n",
    "# 2. compute average on all word vectors in a sentence without considering padding. \n",
    "model_1.add(GlobalAveragePooling1DMasked())\n",
    "\n",
    "\n",
    "# piped through a fully-connected layer. \n",
    "model_1.add(Dense(hidden_layer))\n",
    "\n",
    "\n",
    "# connected with a single output node with the sigmoid activation function. \n",
    "model_1.add(Dense(1, activation= \"sigmoid\"))\n",
    "\n",
    "\n",
    "# The final value is a float between 0 and 1. \n",
    "# The vocabulary count of the movie reviews (10000) is used as the input shape.\n",
    "\n",
    "\n",
    "model_1.summary()"
   ]
  },
  {
   "cell_type": "code",
   "execution_count": 16,
   "metadata": {},
   "outputs": [
    {
     "data": {
      "image/svg+xml": [
       "<svg xmlns=\"http://www.w3.org/2000/svg\" xmlns:xlink=\"http://www.w3.org/1999/xlink\" width=\"410pt\" height=\"323pt\" viewBox=\"0.00 0.00 492.00 387.00\">\n",
       "<g id=\"graph0\" class=\"graph\" transform=\"scale(0.83 0.83) rotate(0) translate(4 383)\">\n",
       "<title>G</title>\n",
       "<polygon fill=\"white\" stroke=\"transparent\" points=\"-4,4 -4,-383 488,-383 488,4 -4,4\"/>\n",
       "<!-- 6010838368 -->\n",
       "<g id=\"node1\" class=\"node\">\n",
       "<title>6010838368</title>\n",
       "<polygon fill=\"none\" stroke=\"black\" points=\"76.5,-332.5 76.5,-378.5 407.5,-378.5 407.5,-332.5 76.5,-332.5\"/>\n",
       "<text text-anchor=\"middle\" x=\"122.5\" y=\"-363.3\" font-family=\"Times,serif\" font-size=\"14.00\">lambda_input</text>\n",
       "<polyline fill=\"none\" stroke=\"black\" points=\"76.5,-355.5 168.5,-355.5 \"/>\n",
       "<text text-anchor=\"middle\" x=\"122.5\" y=\"-340.3\" font-family=\"Times,serif\" font-size=\"14.00\">InputLayer</text>\n",
       "<polyline fill=\"none\" stroke=\"black\" points=\"168.5,-332.5 168.5,-378.5 \"/>\n",
       "<text text-anchor=\"middle\" x=\"196\" y=\"-363.3\" font-family=\"Times,serif\" font-size=\"14.00\">input:</text>\n",
       "<polyline fill=\"none\" stroke=\"black\" points=\"168.5,-355.5 223.5,-355.5 \"/>\n",
       "<text text-anchor=\"middle\" x=\"196\" y=\"-340.3\" font-family=\"Times,serif\" font-size=\"14.00\">output:</text>\n",
       "<polyline fill=\"none\" stroke=\"black\" points=\"223.5,-332.5 223.5,-378.5 \"/>\n",
       "<text text-anchor=\"middle\" x=\"269.5\" y=\"-351.8\" font-family=\"Times,serif\" font-size=\"14.00\">[(None, 256)]</text>\n",
       "<polyline fill=\"none\" stroke=\"black\" points=\"315.5,-332.5 315.5,-378.5 \"/>\n",
       "<text text-anchor=\"middle\" x=\"361.5\" y=\"-351.8\" font-family=\"Times,serif\" font-size=\"14.00\">[(None, 256)]</text>\n",
       "</g>\n",
       "<!-- 5970980528 -->\n",
       "<g id=\"node2\" class=\"node\">\n",
       "<title>5970980528</title>\n",
       "<polygon fill=\"none\" stroke=\"black\" points=\"80,-249.5 80,-295.5 404,-295.5 404,-249.5 80,-249.5\"/>\n",
       "<text text-anchor=\"middle\" x=\"111\" y=\"-280.3\" font-family=\"Times,serif\" font-size=\"14.00\">lambda</text>\n",
       "<polyline fill=\"none\" stroke=\"black\" points=\"80,-272.5 142,-272.5 \"/>\n",
       "<text text-anchor=\"middle\" x=\"111\" y=\"-257.3\" font-family=\"Times,serif\" font-size=\"14.00\">Lambda</text>\n",
       "<polyline fill=\"none\" stroke=\"black\" points=\"142,-249.5 142,-295.5 \"/>\n",
       "<text text-anchor=\"middle\" x=\"169.5\" y=\"-280.3\" font-family=\"Times,serif\" font-size=\"14.00\">input:</text>\n",
       "<polyline fill=\"none\" stroke=\"black\" points=\"142,-272.5 197,-272.5 \"/>\n",
       "<text text-anchor=\"middle\" x=\"169.5\" y=\"-257.3\" font-family=\"Times,serif\" font-size=\"14.00\">output:</text>\n",
       "<polyline fill=\"none\" stroke=\"black\" points=\"197,-249.5 197,-295.5 \"/>\n",
       "<text text-anchor=\"middle\" x=\"238.5\" y=\"-268.8\" font-family=\"Times,serif\" font-size=\"14.00\">(None, 256)</text>\n",
       "<polyline fill=\"none\" stroke=\"black\" points=\"280,-249.5 280,-295.5 \"/>\n",
       "<text text-anchor=\"middle\" x=\"342\" y=\"-268.8\" font-family=\"Times,serif\" font-size=\"14.00\">(None, 256, 10000)</text>\n",
       "</g>\n",
       "<!-- 6010838368&#45;&gt;5970980528 -->\n",
       "<g id=\"edge1\" class=\"edge\">\n",
       "<title>6010838368-&gt;5970980528</title>\n",
       "<path fill=\"none\" stroke=\"black\" d=\"M242,-332.37C242,-324.15 242,-314.66 242,-305.73\"/>\n",
       "<polygon fill=\"black\" stroke=\"black\" points=\"245.5,-305.61 242,-295.61 238.5,-305.61 245.5,-305.61\"/>\n",
       "</g>\n",
       "<!-- 5970979760 -->\n",
       "<g id=\"node3\" class=\"node\">\n",
       "<title>5970979760</title>\n",
       "<polygon fill=\"none\" stroke=\"black\" points=\"0,-166.5 0,-212.5 484,-212.5 484,-166.5 0,-166.5\"/>\n",
       "<text text-anchor=\"middle\" x=\"104.5\" y=\"-197.3\" font-family=\"Times,serif\" font-size=\"14.00\">global_average_pooling1d_masked</text>\n",
       "<polyline fill=\"none\" stroke=\"black\" points=\"0,-189.5 209,-189.5 \"/>\n",
       "<text text-anchor=\"middle\" x=\"104.5\" y=\"-174.3\" font-family=\"Times,serif\" font-size=\"14.00\">GlobalAveragePooling1DMasked</text>\n",
       "<polyline fill=\"none\" stroke=\"black\" points=\"209,-166.5 209,-212.5 \"/>\n",
       "<text text-anchor=\"middle\" x=\"236.5\" y=\"-197.3\" font-family=\"Times,serif\" font-size=\"14.00\">input:</text>\n",
       "<polyline fill=\"none\" stroke=\"black\" points=\"209,-189.5 264,-189.5 \"/>\n",
       "<text text-anchor=\"middle\" x=\"236.5\" y=\"-174.3\" font-family=\"Times,serif\" font-size=\"14.00\">output:</text>\n",
       "<polyline fill=\"none\" stroke=\"black\" points=\"264,-166.5 264,-212.5 \"/>\n",
       "<text text-anchor=\"middle\" x=\"326\" y=\"-185.8\" font-family=\"Times,serif\" font-size=\"14.00\">(None, 256, 10000)</text>\n",
       "<polyline fill=\"none\" stroke=\"black\" points=\"388,-166.5 388,-212.5 \"/>\n",
       "<text text-anchor=\"middle\" x=\"436\" y=\"-185.8\" font-family=\"Times,serif\" font-size=\"14.00\">(None, 10000)</text>\n",
       "</g>\n",
       "<!-- 5970980528&#45;&gt;5970979760 -->\n",
       "<g id=\"edge2\" class=\"edge\">\n",
       "<title>5970980528-&gt;5970979760</title>\n",
       "<path fill=\"none\" stroke=\"black\" d=\"M242,-249.37C242,-241.15 242,-231.66 242,-222.73\"/>\n",
       "<polygon fill=\"black\" stroke=\"black\" points=\"245.5,-222.61 242,-212.61 238.5,-222.61 245.5,-222.61\"/>\n",
       "</g>\n",
       "<!-- 5967691392 -->\n",
       "<g id=\"node4\" class=\"node\">\n",
       "<title>5967691392</title>\n",
       "<polygon fill=\"none\" stroke=\"black\" points=\"103.5,-83.5 103.5,-129.5 380.5,-129.5 380.5,-83.5 103.5,-83.5\"/>\n",
       "<text text-anchor=\"middle\" x=\"128.5\" y=\"-114.3\" font-family=\"Times,serif\" font-size=\"14.00\">dense</text>\n",
       "<polyline fill=\"none\" stroke=\"black\" points=\"103.5,-106.5 153.5,-106.5 \"/>\n",
       "<text text-anchor=\"middle\" x=\"128.5\" y=\"-91.3\" font-family=\"Times,serif\" font-size=\"14.00\">Dense</text>\n",
       "<polyline fill=\"none\" stroke=\"black\" points=\"153.5,-83.5 153.5,-129.5 \"/>\n",
       "<text text-anchor=\"middle\" x=\"181\" y=\"-114.3\" font-family=\"Times,serif\" font-size=\"14.00\">input:</text>\n",
       "<polyline fill=\"none\" stroke=\"black\" points=\"153.5,-106.5 208.5,-106.5 \"/>\n",
       "<text text-anchor=\"middle\" x=\"181\" y=\"-91.3\" font-family=\"Times,serif\" font-size=\"14.00\">output:</text>\n",
       "<polyline fill=\"none\" stroke=\"black\" points=\"208.5,-83.5 208.5,-129.5 \"/>\n",
       "<text text-anchor=\"middle\" x=\"256.5\" y=\"-102.8\" font-family=\"Times,serif\" font-size=\"14.00\">(None, 10000)</text>\n",
       "<polyline fill=\"none\" stroke=\"black\" points=\"304.5,-83.5 304.5,-129.5 \"/>\n",
       "<text text-anchor=\"middle\" x=\"342.5\" y=\"-102.8\" font-family=\"Times,serif\" font-size=\"14.00\">(None, 16)</text>\n",
       "</g>\n",
       "<!-- 5970979760&#45;&gt;5967691392 -->\n",
       "<g id=\"edge3\" class=\"edge\">\n",
       "<title>5970979760-&gt;5967691392</title>\n",
       "<path fill=\"none\" stroke=\"black\" d=\"M242,-166.37C242,-158.15 242,-148.66 242,-139.73\"/>\n",
       "<polygon fill=\"black\" stroke=\"black\" points=\"245.5,-139.61 242,-129.61 238.5,-139.61 245.5,-139.61\"/>\n",
       "</g>\n",
       "<!-- 5967484912 -->\n",
       "<g id=\"node5\" class=\"node\">\n",
       "<title>5967484912</title>\n",
       "<polygon fill=\"none\" stroke=\"black\" points=\"111.5,-0.5 111.5,-46.5 372.5,-46.5 372.5,-0.5 111.5,-0.5\"/>\n",
       "<text text-anchor=\"middle\" x=\"142\" y=\"-31.3\" font-family=\"Times,serif\" font-size=\"14.00\">dense_1</text>\n",
       "<polyline fill=\"none\" stroke=\"black\" points=\"111.5,-23.5 172.5,-23.5 \"/>\n",
       "<text text-anchor=\"middle\" x=\"142\" y=\"-8.3\" font-family=\"Times,serif\" font-size=\"14.00\">Dense</text>\n",
       "<polyline fill=\"none\" stroke=\"black\" points=\"172.5,-0.5 172.5,-46.5 \"/>\n",
       "<text text-anchor=\"middle\" x=\"200\" y=\"-31.3\" font-family=\"Times,serif\" font-size=\"14.00\">input:</text>\n",
       "<polyline fill=\"none\" stroke=\"black\" points=\"172.5,-23.5 227.5,-23.5 \"/>\n",
       "<text text-anchor=\"middle\" x=\"200\" y=\"-8.3\" font-family=\"Times,serif\" font-size=\"14.00\">output:</text>\n",
       "<polyline fill=\"none\" stroke=\"black\" points=\"227.5,-0.5 227.5,-46.5 \"/>\n",
       "<text text-anchor=\"middle\" x=\"265.5\" y=\"-19.8\" font-family=\"Times,serif\" font-size=\"14.00\">(None, 16)</text>\n",
       "<polyline fill=\"none\" stroke=\"black\" points=\"303.5,-0.5 303.5,-46.5 \"/>\n",
       "<text text-anchor=\"middle\" x=\"338\" y=\"-19.8\" font-family=\"Times,serif\" font-size=\"14.00\">(None, 1)</text>\n",
       "</g>\n",
       "<!-- 5967691392&#45;&gt;5967484912 -->\n",
       "<g id=\"edge4\" class=\"edge\">\n",
       "<title>5967691392-&gt;5967484912</title>\n",
       "<path fill=\"none\" stroke=\"black\" d=\"M242,-83.37C242,-75.15 242,-65.66 242,-56.73\"/>\n",
       "<polygon fill=\"black\" stroke=\"black\" points=\"245.5,-56.61 242,-46.61 238.5,-56.61 245.5,-56.61\"/>\n",
       "</g>\n",
       "</g>\n",
       "</svg>"
      ],
      "text/plain": [
       "<IPython.core.display.SVG object>"
      ]
     },
     "execution_count": 16,
     "metadata": {},
     "output_type": "execute_result"
    }
   ],
   "source": [
    "from IPython.display import SVG\n",
    "from keras.utils import vis_utils\n",
    "SVG(vis_utils.model_to_dot(model_1, show_shapes=True, \n",
    "                           show_layer_names=True, dpi=60).create(prog='dot', format='svg'))"
   ]
  },
  {
   "cell_type": "markdown",
   "metadata": {
    "id": "_Mz96xpCgvTj"
   },
   "source": [
    "### Training the model"
   ]
  },
  {
   "cell_type": "markdown",
   "metadata": {
    "id": "F3HbW_IKLqwT"
   },
   "source": [
    "To compile the model we need a loss function and an optimizer. We use binary_crossentropy loss function which is just a special case of categorical cross entropy. We also use Adam optimizer that can be used instead of the classical stochastic gradient descent procedure to update network weights iterative based in training data. We can read more about it here:\n",
    "(https://arxiv.org/abs/1412.6980v8\n",
    ")\n"
   ]
  },
  {
   "cell_type": "code",
   "execution_count": 17,
   "metadata": {
    "id": "qh1PWTNMxjUw"
   },
   "outputs": [],
   "source": [
    "model_1.compile(optimizer='adam',\n",
    "                loss='binary_crossentropy',\n",
    "              metrics=['accuracy'])"
   ]
  },
  {
   "cell_type": "markdown",
   "metadata": {
    "id": "E1jwQQqCN5Ia"
   },
   "source": [
    "When training, we want to check the accuracy of the model on data it hasn't seen before. So we create a validation set:"
   ]
  },
  {
   "cell_type": "code",
   "execution_count": 18,
   "metadata": {
    "id": "f5lAqzQlxjSM"
   },
   "outputs": [],
   "source": [
    "X_val = np.array(X_train_enc[:10000])\n",
    "partial_X_train = np.array(X_train_enc[10000:])\n",
    "\n",
    "y_val = np.array(y_train[:10000])\n",
    "partial_y_train = np.array(y_train[10000:])"
   ]
  },
  {
   "cell_type": "markdown",
   "metadata": {
    "id": "E8Kpo5G3OJEY"
   },
   "source": [
    "Then we start to train the model for 40 epochs in mini-batches of 512 samples and monitor the model's loss and accuracy on the validation set."
   ]
  },
  {
   "cell_type": "code",
   "execution_count": 19,
   "metadata": {
    "id": "99_z39KAxjPi",
    "scrolled": true
   },
   "outputs": [
    {
     "name": "stdout",
     "output_type": "stream",
     "text": [
      "Epoch 1/40\n"
     ]
    },
    {
     "name": "stderr",
     "output_type": "stream",
     "text": [
      "2022-03-10 11:01:33.515823: W tensorflow/core/platform/profile_utils/cpu_utils.cc:128] Failed to get CPU frequency: 0 Hz\n",
      "2022-03-10 11:01:33.701955: I tensorflow/core/grappler/optimizers/custom_graph_optimizer_registry.cc:113] Plugin optimizer for device_type GPU is enabled.\n"
     ]
    },
    {
     "name": "stdout",
     "output_type": "stream",
     "text": [
      "30/30 [==============================] - ETA: 0s - loss: 0.6931 - accuracy: 0.5088"
     ]
    },
    {
     "name": "stderr",
     "output_type": "stream",
     "text": [
      "2022-03-10 11:01:53.182170: I tensorflow/core/grappler/optimizers/custom_graph_optimizer_registry.cc:113] Plugin optimizer for device_type GPU is enabled.\n"
     ]
    },
    {
     "name": "stdout",
     "output_type": "stream",
     "text": [
      "30/30 [==============================] - 30s 873ms/step - loss: 0.6931 - accuracy: 0.5088 - val_loss: 0.6930 - val_accuracy: 0.5125\n",
      "Epoch 2/40\n",
      "30/30 [==============================] - 26s 887ms/step - loss: 0.6929 - accuracy: 0.5187 - val_loss: 0.6928 - val_accuracy: 0.5210\n",
      "Epoch 3/40\n",
      "30/30 [==============================] - 27s 892ms/step - loss: 0.6926 - accuracy: 0.5080 - val_loss: 0.6927 - val_accuracy: 0.5037\n",
      "Epoch 4/40\n",
      "30/30 [==============================] - 26s 862ms/step - loss: 0.6924 - accuracy: 0.5177 - val_loss: 0.6922 - val_accuracy: 0.5336\n",
      "Epoch 5/40\n",
      "30/30 [==============================] - 27s 886ms/step - loss: 0.6920 - accuracy: 0.5229 - val_loss: 0.6917 - val_accuracy: 0.5335\n",
      "Epoch 6/40\n",
      "30/30 [==============================] - 26s 876ms/step - loss: 0.6916 - accuracy: 0.5197 - val_loss: 0.6915 - val_accuracy: 0.5166\n",
      "Epoch 7/40\n",
      "30/30 [==============================] - 26s 887ms/step - loss: 0.6912 - accuracy: 0.5273 - val_loss: 0.6910 - val_accuracy: 0.5201\n",
      "Epoch 8/40\n",
      "30/30 [==============================] - 28s 934ms/step - loss: 0.6906 - accuracy: 0.5287 - val_loss: 0.6904 - val_accuracy: 0.5309\n",
      "Epoch 9/40\n",
      "30/30 [==============================] - 28s 920ms/step - loss: 0.6899 - accuracy: 0.5316 - val_loss: 0.6897 - val_accuracy: 0.5401\n",
      "Epoch 10/40\n",
      "30/30 [==============================] - 26s 861ms/step - loss: 0.6894 - accuracy: 0.5343 - val_loss: 0.6889 - val_accuracy: 0.5337\n",
      "Epoch 11/40\n",
      "30/30 [==============================] - 26s 870ms/step - loss: 0.6885 - accuracy: 0.5374 - val_loss: 0.6882 - val_accuracy: 0.5364\n",
      "Epoch 12/40\n",
      "30/30 [==============================] - 26s 860ms/step - loss: 0.6883 - accuracy: 0.5254 - val_loss: 0.6875 - val_accuracy: 0.5359\n",
      "Epoch 13/40\n",
      "30/30 [==============================] - 25s 854ms/step - loss: 0.6872 - accuracy: 0.5338 - val_loss: 0.6872 - val_accuracy: 0.5346\n",
      "Epoch 14/40\n",
      "30/30 [==============================] - 24s 821ms/step - loss: 0.6868 - accuracy: 0.5354 - val_loss: 0.6861 - val_accuracy: 0.5371\n",
      "Epoch 15/40\n",
      "30/30 [==============================] - 25s 848ms/step - loss: 0.6859 - accuracy: 0.5339 - val_loss: 0.6851 - val_accuracy: 0.5419\n",
      "Epoch 16/40\n",
      "30/30 [==============================] - 28s 926ms/step - loss: 0.6853 - accuracy: 0.5333 - val_loss: 0.6846 - val_accuracy: 0.5376\n",
      "Epoch 17/40\n",
      "30/30 [==============================] - 26s 863ms/step - loss: 0.6844 - accuracy: 0.5355 - val_loss: 0.6836 - val_accuracy: 0.5371\n",
      "Epoch 18/40\n",
      "30/30 [==============================] - 26s 872ms/step - loss: 0.6832 - accuracy: 0.5363 - val_loss: 0.6830 - val_accuracy: 0.5422\n",
      "Epoch 19/40\n",
      "30/30 [==============================] - 26s 885ms/step - loss: 0.6830 - accuracy: 0.5381 - val_loss: 0.6819 - val_accuracy: 0.5446\n",
      "Epoch 20/40\n",
      "30/30 [==============================] - 25s 855ms/step - loss: 0.6815 - accuracy: 0.5379 - val_loss: 0.6815 - val_accuracy: 0.5420\n",
      "Epoch 21/40\n",
      "30/30 [==============================] - 26s 881ms/step - loss: 0.6815 - accuracy: 0.5419 - val_loss: 0.6804 - val_accuracy: 0.5397\n",
      "Epoch 22/40\n",
      "30/30 [==============================] - 28s 945ms/step - loss: 0.6807 - accuracy: 0.5416 - val_loss: 0.6803 - val_accuracy: 0.5379\n",
      "Epoch 23/40\n",
      "30/30 [==============================] - 28s 927ms/step - loss: 0.6796 - accuracy: 0.5368 - val_loss: 0.6792 - val_accuracy: 0.5401\n",
      "Epoch 24/40\n",
      "30/30 [==============================] - 27s 904ms/step - loss: 0.6795 - accuracy: 0.5441 - val_loss: 0.6782 - val_accuracy: 0.5455\n",
      "Epoch 25/40\n",
      "30/30 [==============================] - 28s 954ms/step - loss: 0.6789 - accuracy: 0.5339 - val_loss: 0.6776 - val_accuracy: 0.5404\n",
      "Epoch 26/40\n",
      "30/30 [==============================] - 29s 969ms/step - loss: 0.6772 - accuracy: 0.5371 - val_loss: 0.6770 - val_accuracy: 0.5410\n",
      "Epoch 27/40\n",
      "30/30 [==============================] - 29s 964ms/step - loss: 0.6775 - accuracy: 0.5395 - val_loss: 0.6758 - val_accuracy: 0.5479\n",
      "Epoch 28/40\n",
      "30/30 [==============================] - 29s 969ms/step - loss: 0.6758 - accuracy: 0.5365 - val_loss: 0.6752 - val_accuracy: 0.5418\n",
      "Epoch 29/40\n",
      "30/30 [==============================] - 28s 931ms/step - loss: 0.6755 - accuracy: 0.5444 - val_loss: 0.6744 - val_accuracy: 0.5456\n",
      "Epoch 30/40\n",
      "30/30 [==============================] - 28s 930ms/step - loss: 0.6744 - accuracy: 0.5413 - val_loss: 0.6741 - val_accuracy: 0.5475\n",
      "Epoch 31/40\n",
      "30/30 [==============================] - 26s 881ms/step - loss: 0.6740 - accuracy: 0.5363 - val_loss: 0.6732 - val_accuracy: 0.5489\n",
      "Epoch 32/40\n",
      "30/30 [==============================] - 26s 860ms/step - loss: 0.6741 - accuracy: 0.5403 - val_loss: 0.6730 - val_accuracy: 0.5407\n",
      "Epoch 33/40\n",
      "30/30 [==============================] - 26s 880ms/step - loss: 0.6725 - accuracy: 0.5397 - val_loss: 0.6720 - val_accuracy: 0.5435\n",
      "Epoch 34/40\n",
      "30/30 [==============================] - 26s 871ms/step - loss: 0.6718 - accuracy: 0.5422 - val_loss: 0.6715 - val_accuracy: 0.5444\n",
      "Epoch 35/40\n",
      "30/30 [==============================] - 27s 890ms/step - loss: 0.6723 - accuracy: 0.5445 - val_loss: 0.6714 - val_accuracy: 0.5452\n",
      "Epoch 36/40\n",
      "30/30 [==============================] - 27s 891ms/step - loss: 0.6716 - accuracy: 0.5453 - val_loss: 0.6703 - val_accuracy: 0.5431\n",
      "Epoch 37/40\n",
      "30/30 [==============================] - 26s 873ms/step - loss: 0.6704 - accuracy: 0.5403 - val_loss: 0.6704 - val_accuracy: 0.5444\n",
      "Epoch 38/40\n",
      "30/30 [==============================] - 26s 869ms/step - loss: 0.6694 - accuracy: 0.5469 - val_loss: 0.6692 - val_accuracy: 0.5435\n",
      "Epoch 39/40\n",
      "30/30 [==============================] - 27s 911ms/step - loss: 0.6703 - accuracy: 0.5451 - val_loss: 0.6713 - val_accuracy: 0.5427\n",
      "Epoch 40/40\n",
      "30/30 [==============================] - 26s 874ms/step - loss: 0.6707 - accuracy: 0.5456 - val_loss: 0.6683 - val_accuracy: 0.5485\n"
     ]
    }
   ],
   "source": [
    "history_1 = model_1.fit(partial_X_train,\n",
    "                        partial_y_train,\n",
    "                        epochs=40,\n",
    "                        batch_size=512,\n",
    "                        validation_data=(X_val, y_val),\n",
    "                        verbose=1)"
   ]
  },
  {
   "cell_type": "markdown",
   "metadata": {
    "id": "i_9a_rybhG5J"
   },
   "source": [
    "### Evaluating the model"
   ]
  },
  {
   "cell_type": "markdown",
   "metadata": {
    "id": "EYLH8kOgOo9W"
   },
   "source": [
    "To evaulate the model on test data:"
   ]
  },
  {
   "cell_type": "code",
   "execution_count": 20,
   "metadata": {
    "id": "CFMt2Q7b3taP"
   },
   "outputs": [
    {
     "name": "stdout",
     "output_type": "stream",
     "text": [
      "782/782 [==============================] - 32s 41ms/step - loss: 0.5701 - accuracy: 0.7320\n"
     ]
    }
   ],
   "source": [
    "results_1 = model_1.evaluate(X_test_enc, y_test)"
   ]
  },
  {
   "cell_type": "code",
   "execution_count": 21,
   "metadata": {
    "id": "9RrKiPHcAmQU"
   },
   "outputs": [
    {
     "name": "stdout",
     "output_type": "stream",
     "text": [
      "test_loss: 0.5700706839561462 test_accuracy: 0.7320400476455688\n"
     ]
    }
   ],
   "source": [
    "print('test_loss:', results_1[0], 'test_accuracy:', results_1[1])# loss, accuracay "
   ]
  },
  {
   "cell_type": "markdown",
   "metadata": {
    "id": "pW7IpHxMO6qp"
   },
   "source": [
    "Our first model accuracy using one-hot vectors is ~68%\n",
    "\n",
    "\n",
    "\n",
    "\n",
    "\n"
   ]
  },
  {
   "cell_type": "markdown",
   "metadata": {
    "id": "OwZk_yoWhPJB"
   },
   "source": [
    "### Plotting the accuracy graph"
   ]
  },
  {
   "cell_type": "markdown",
   "metadata": {
    "id": "JIDPH1J7PMzN"
   },
   "source": [
    "To plot a graph of accuracy and loss over time we can use Matplotlib:"
   ]
  },
  {
   "cell_type": "code",
   "execution_count": 27,
   "metadata": {
    "id": "LS9k2vvSAqB7"
   },
   "outputs": [
    {
     "data": {
      "image/png": "[encoded data removed]",
      "text/plain": [
       "<Figure size 720x360 with 2 Axes>"
      ]
     },
     "metadata": {
      "needs_background": "light"
     },
     "output_type": "display_data"
    }
   ],
   "source": [
    "from plot_keras_history import plot_history\n",
    "import matplotlib.pyplot as plt\n",
    "plot_history(history_1.history, path=\"standard.png\")\n",
    "plt.show()"
   ]
  },
  {
   "cell_type": "markdown",
   "metadata": {
    "id": "a7OwOQw4h8RX"
   },
   "source": [
    "# Model 2: Neural averaging network using embedding layer"
   ]
  },
  {
   "cell_type": "markdown",
   "metadata": {
    "id": "l-QzOMO_P4jc"
   },
   "source": [
    "Now instead of one-hot vectors, we want to use embedding. We change our first layer in model1 to an Embedding layer. This layer takes the integer-encoded vocabulary and looks up the embedding vector for each word-index. These vectors are learned as the model trains. The vectors add a dimension to the output array. The resulting dimensions are: (batch, sequence, embedding)."
   ]
  },
  {
   "cell_type": "code",
   "execution_count": 28,
   "metadata": {
    "id": "MFrCsL-NBFVL"
   },
   "outputs": [
    {
     "name": "stdout",
     "output_type": "stream",
     "text": [
      "Model: \"sequential_1\"\n",
      "_________________________________________________________________\n",
      " Layer (type)                Output Shape              Param #   \n",
      "=================================================================\n",
      " embedding (Embedding)       (None, 256, 100)          1000000   \n",
      "                                                                 \n",
      " global_average_pooling1d_ma  (None, 100)              0         \n",
      " sked_1 (GlobalAveragePoolin                                     \n",
      " g1DMasked)                                                      \n",
      "                                                                 \n",
      " dense_2 (Dense)             (None, 16)                1616      \n",
      "                                                                 \n",
      " dense_3 (Dense)             (None, 1)                 17        \n",
      "                                                                 \n",
      "=================================================================\n",
      "Total params: 1,001,633\n",
      "Trainable params: 1,001,633\n",
      "Non-trainable params: 0\n",
      "_________________________________________________________________\n"
     ]
    }
   ],
   "source": [
    "model_2 = Sequential()\n",
    "\n",
    "# an embedding layer. \n",
    "model_2.add(Embedding(input_dim = VOCAB_SIZE, \n",
    "                      input_length = MAX_SEQUENCE_LENGTH,\n",
    "                      output_dim = 100,\n",
    "                      name='embedding'))\n",
    "\n",
    "model_2.add(GlobalAveragePooling1DMasked())\n",
    "model_2.add(Dense(hidden_layer))\n",
    "model_2.add(Dense(1, activation= \"sigmoid\"))\n",
    "model_2.summary()\n",
    "\n",
    "model_2.compile(optimizer='adam',\n",
    "               loss='binary_crossentropy',\n",
    "               metrics=['accuracy'])"
   ]
  },
  {
   "cell_type": "code",
   "execution_count": 29,
   "metadata": {
    "scrolled": true
   },
   "outputs": [
    {
     "name": "stdout",
     "output_type": "stream",
     "text": [
      "Epoch 1/40\n"
     ]
    },
    {
     "name": "stderr",
     "output_type": "stream",
     "text": [
      "2022-03-10 11:23:08.738544: I tensorflow/core/grappler/optimizers/custom_graph_optimizer_registry.cc:113] Plugin optimizer for device_type GPU is enabled.\n"
     ]
    },
    {
     "name": "stdout",
     "output_type": "stream",
     "text": [
      "30/30 [==============================] - 7s 222ms/step - loss: 0.6865 - accuracy: 0.6447 - val_loss: 0.6760 - val_accuracy: 0.7094\n",
      "Epoch 2/40\n"
     ]
    },
    {
     "name": "stderr",
     "output_type": "stream",
     "text": [
      "2022-03-10 11:23:15.571197: I tensorflow/core/grappler/optimizers/custom_graph_optimizer_registry.cc:113] Plugin optimizer for device_type GPU is enabled.\n"
     ]
    },
    {
     "name": "stdout",
     "output_type": "stream",
     "text": [
      "30/30 [==============================] - 7s 243ms/step - loss: 0.6544 - accuracy: 0.7345 - val_loss: 0.6295 - val_accuracy: 0.7352\n",
      "Epoch 3/40\n",
      "30/30 [==============================] - 7s 234ms/step - loss: 0.5864 - accuracy: 0.7709 - val_loss: 0.5543 - val_accuracy: 0.7795\n",
      "Epoch 4/40\n",
      "30/30 [==============================] - 7s 248ms/step - loss: 0.4973 - accuracy: 0.8160 - val_loss: 0.4716 - val_accuracy: 0.8197\n",
      "Epoch 5/40\n",
      "30/30 [==============================] - 7s 240ms/step - loss: 0.4126 - accuracy: 0.8540 - val_loss: 0.4074 - val_accuracy: 0.8446\n",
      "Epoch 6/40\n",
      "30/30 [==============================] - 7s 237ms/step - loss: 0.3485 - accuracy: 0.8769 - val_loss: 0.3628 - val_accuracy: 0.8614\n",
      "Epoch 7/40\n",
      "30/30 [==============================] - 7s 240ms/step - loss: 0.3036 - accuracy: 0.8915 - val_loss: 0.3353 - val_accuracy: 0.8674\n",
      "Epoch 8/40\n",
      "30/30 [==============================] - 7s 249ms/step - loss: 0.2686 - accuracy: 0.9047 - val_loss: 0.3170 - val_accuracy: 0.8745\n",
      "Epoch 9/40\n",
      "30/30 [==============================] - 7s 229ms/step - loss: 0.2407 - accuracy: 0.9141 - val_loss: 0.3046 - val_accuracy: 0.8784\n",
      "Epoch 10/40\n",
      "30/30 [==============================] - 7s 234ms/step - loss: 0.2177 - accuracy: 0.9233 - val_loss: 0.2973 - val_accuracy: 0.8821\n",
      "Epoch 11/40\n",
      "30/30 [==============================] - 7s 240ms/step - loss: 0.1981 - accuracy: 0.9305 - val_loss: 0.2911 - val_accuracy: 0.8831\n",
      "Epoch 12/40\n",
      "30/30 [==============================] - 7s 249ms/step - loss: 0.1812 - accuracy: 0.9387 - val_loss: 0.2940 - val_accuracy: 0.8795\n",
      "Epoch 13/40\n",
      "30/30 [==============================] - 7s 241ms/step - loss: 0.1657 - accuracy: 0.9460 - val_loss: 0.2878 - val_accuracy: 0.8850\n",
      "Epoch 14/40\n",
      "30/30 [==============================] - 7s 242ms/step - loss: 0.1524 - accuracy: 0.9523 - val_loss: 0.2906 - val_accuracy: 0.8843\n",
      "Epoch 15/40\n",
      "30/30 [==============================] - 7s 247ms/step - loss: 0.1398 - accuracy: 0.9571 - val_loss: 0.2915 - val_accuracy: 0.8858\n",
      "Epoch 16/40\n",
      "30/30 [==============================] - 7s 235ms/step - loss: 0.1282 - accuracy: 0.9624 - val_loss: 0.2955 - val_accuracy: 0.8857\n",
      "Epoch 17/40\n",
      "30/30 [==============================] - 7s 233ms/step - loss: 0.1180 - accuracy: 0.9661 - val_loss: 0.3008 - val_accuracy: 0.8856\n",
      "Epoch 18/40\n",
      "30/30 [==============================] - 7s 245ms/step - loss: 0.1088 - accuracy: 0.9699 - val_loss: 0.3065 - val_accuracy: 0.8862\n",
      "Epoch 19/40\n",
      "30/30 [==============================] - 7s 240ms/step - loss: 0.1009 - accuracy: 0.9715 - val_loss: 0.3128 - val_accuracy: 0.8834\n",
      "Epoch 20/40\n",
      "30/30 [==============================] - 7s 242ms/step - loss: 0.0923 - accuracy: 0.9751 - val_loss: 0.3201 - val_accuracy: 0.8824\n",
      "Epoch 21/40\n",
      "30/30 [==============================] - 7s 231ms/step - loss: 0.0850 - accuracy: 0.9785 - val_loss: 0.3315 - val_accuracy: 0.8793\n",
      "Epoch 22/40\n",
      "30/30 [==============================] - 7s 229ms/step - loss: 0.0794 - accuracy: 0.9795 - val_loss: 0.3396 - val_accuracy: 0.8779\n",
      "Epoch 23/40\n",
      "30/30 [==============================] - 7s 238ms/step - loss: 0.0722 - accuracy: 0.9821 - val_loss: 0.3483 - val_accuracy: 0.8789\n",
      "Epoch 24/40\n",
      "30/30 [==============================] - 7s 228ms/step - loss: 0.0662 - accuracy: 0.9849 - val_loss: 0.3579 - val_accuracy: 0.8781\n",
      "Epoch 25/40\n",
      "30/30 [==============================] - 7s 222ms/step - loss: 0.0612 - accuracy: 0.9866 - val_loss: 0.3721 - val_accuracy: 0.8737\n",
      "Epoch 26/40\n",
      "30/30 [==============================] - 7s 229ms/step - loss: 0.0565 - accuracy: 0.9881 - val_loss: 0.3785 - val_accuracy: 0.8772\n",
      "Epoch 27/40\n",
      "30/30 [==============================] - 7s 228ms/step - loss: 0.0514 - accuracy: 0.9903 - val_loss: 0.3907 - val_accuracy: 0.8753\n",
      "Epoch 28/40\n",
      "30/30 [==============================] - 7s 219ms/step - loss: 0.0473 - accuracy: 0.9917 - val_loss: 0.4059 - val_accuracy: 0.8715\n",
      "Epoch 29/40\n",
      "30/30 [==============================] - 7s 238ms/step - loss: 0.0435 - accuracy: 0.9932 - val_loss: 0.4170 - val_accuracy: 0.8716\n",
      "Epoch 30/40\n",
      "30/30 [==============================] - 7s 245ms/step - loss: 0.0404 - accuracy: 0.9933 - val_loss: 0.4279 - val_accuracy: 0.8716\n",
      "Epoch 31/40\n",
      "30/30 [==============================] - 7s 226ms/step - loss: 0.0374 - accuracy: 0.9941 - val_loss: 0.4397 - val_accuracy: 0.8718\n",
      "Epoch 32/40\n",
      "30/30 [==============================] - 7s 226ms/step - loss: 0.0344 - accuracy: 0.9949 - val_loss: 0.4528 - val_accuracy: 0.8710\n",
      "Epoch 33/40\n",
      "30/30 [==============================] - 7s 232ms/step - loss: 0.0313 - accuracy: 0.9956 - val_loss: 0.4640 - val_accuracy: 0.8694\n",
      "Epoch 34/40\n",
      "30/30 [==============================] - 7s 230ms/step - loss: 0.0289 - accuracy: 0.9962 - val_loss: 0.4761 - val_accuracy: 0.8690\n",
      "Epoch 35/40\n",
      "30/30 [==============================] - 7s 226ms/step - loss: 0.0262 - accuracy: 0.9967 - val_loss: 0.4883 - val_accuracy: 0.8687\n",
      "Epoch 36/40\n",
      "30/30 [==============================] - 7s 219ms/step - loss: 0.0243 - accuracy: 0.9967 - val_loss: 0.5007 - val_accuracy: 0.8673\n",
      "Epoch 37/40\n",
      "30/30 [==============================] - 6s 210ms/step - loss: 0.0221 - accuracy: 0.9976 - val_loss: 0.5141 - val_accuracy: 0.8662\n",
      "Epoch 38/40\n",
      "30/30 [==============================] - 6s 212ms/step - loss: 0.0207 - accuracy: 0.9979 - val_loss: 0.5263 - val_accuracy: 0.8668\n",
      "Epoch 39/40\n",
      "30/30 [==============================] - 7s 217ms/step - loss: 0.0188 - accuracy: 0.9981 - val_loss: 0.5385 - val_accuracy: 0.8664\n",
      "Epoch 40/40\n",
      "30/30 [==============================] - 6s 216ms/step - loss: 0.0173 - accuracy: 0.9987 - val_loss: 0.5517 - val_accuracy: 0.8663\n"
     ]
    }
   ],
   "source": [
    "history_2 = model_2.fit(partial_X_train,\n",
    "                       partial_y_train,\n",
    "                       epochs=40,\n",
    "                       batch_size=512,\n",
    "                       validation_data=(X_val, y_val),\n",
    "                       verbose=1)"
   ]
  },
  {
   "cell_type": "code",
   "execution_count": 30,
   "metadata": {
    "id": "I4zIPJDcTPq3"
   },
   "outputs": [
    {
     "name": "stdout",
     "output_type": "stream",
     "text": [
      "782/782 [==============================] - 3s 4ms/step - loss: 0.5909 - accuracy: 0.8515\n",
      "test_loss: 0.5909416675567627 test_accuracy: 0.8514800667762756\n"
     ]
    }
   ],
   "source": [
    "results_2 = model_2.evaluate(X_test_enc, y_test)\n",
    "print('test_loss:', results_2[0], 'test_accuracy:', results_2[1])"
   ]
  },
  {
   "cell_type": "code",
   "execution_count": 31,
   "metadata": {},
   "outputs": [
    {
     "data": {
      "image/png": "[encoded data removed]",
      "text/plain": [
       "<Figure size 720x360 with 2 Axes>"
      ]
     },
     "metadata": {
      "needs_background": "light"
     },
     "output_type": "display_data"
    }
   ],
   "source": [
    "plot_history(history_2.history, path=\"standard.png\")\n",
    "plt.show()"
   ]
  },
  {
   "cell_type": "markdown",
   "metadata": {
    "id": "7FBpTc_rXGvQ"
   },
   "source": [
    "The accuracy of model2 is 87%. Using Embedding layer instead of one-hot layer improved the performance."
   ]
  },
  {
   "cell_type": "markdown",
   "metadata": {
    "id": "--020hfG6rN2"
   },
   "source": [
    "# Model 3: Using pre-trained word embeddings"
   ]
  },
  {
   "cell_type": "markdown",
   "metadata": {
    "id": "7GdY2-64YG1B"
   },
   "source": [
    "### Preparing pre-trained word embeddings (GLOVE)"
   ]
  },
  {
   "cell_type": "markdown",
   "metadata": {
    "id": "J4gBeOyi4gkM"
   },
   "source": [
    "The Embedding layer can be used to load a pre-trained word embedding model. We are going to use GloVe embeddings, which we can read about it here (https://nlp.stanford.edu/projects/glove/). GloVe stands for \"Global Vectors for Word Representation\". It's a somewhat popular embedding technique based on factorizing a matrix of word co-occurence statistics. We can download GloVe and we can seed the Keras Embedding layer with weights from the pre-trained embedding for the words in our dataset.\n",
    "First, we need to read GloVe and map words to GloVe:\n"
   ]
  },
  {
   "cell_type": "code",
   "execution_count": 32,
   "metadata": {
    "id": "f_PypdqG9Iis"
   },
   "outputs": [],
   "source": [
    "def readGloveFile(gloveFile):\n",
    "    with open(gloveFile, 'r') as f:\n",
    "        wordToGlove = {}  \n",
    "        wordToIndex = {}  \n",
    "        indexToWord = {}  \n",
    "\n",
    "        for line in f:\n",
    "            record = line.strip().split()\n",
    "            token = record[0] \n",
    "            wordToGlove[token] = np.array(record[1:], dtype=np.float64) \n",
    "            \n",
    "        tokens = sorted(wordToGlove.keys())\n",
    "        for idx, tok in enumerate(tokens):\n",
    "            kerasIdx = idx + 1  \n",
    "            wordToIndex[tok] = kerasIdx \n",
    "            indexToWord[kerasIdx] = tok \n",
    "\n",
    "    return wordToIndex, indexToWord, wordToGlove"
   ]
  },
  {
   "cell_type": "markdown",
   "metadata": {
    "id": "ZcIZ3dq59bCh"
   },
   "source": [
    "Now, we create our pre-trained Embedding layer:"
   ]
  },
  {
   "cell_type": "code",
   "execution_count": 33,
   "metadata": {
    "id": "gembn7VM3ex8"
   },
   "outputs": [],
   "source": [
    "from keras.initializers import Constant\n",
    "\n",
    "def createPretrainedEmbeddingLayer(wordToGlove, wordToIndex, isTrainable):\n",
    "    vocabLen = len(wordToIndex) + 1  \n",
    "    embDim = next(iter(wordToGlove.values())).shape[0]  \n",
    "   \n",
    "    embeddingMatrix = np.zeros((vocabLen, embDim))  \n",
    "    for word, index in wordToIndex.items():\n",
    "        embeddingMatrix[index, :] = wordToGlove[word] \n",
    "\n",
    "    embeddingLayer = Embedding(vocabLen, embDim, \n",
    "                               embeddings_initializer=Constant(embeddingMatrix), \n",
    "                               trainable=isTrainable, \n",
    "                               name='GloVe_Embeddings')\n",
    "    return embeddingLayer"
   ]
  },
  {
   "cell_type": "code",
   "execution_count": 34,
   "metadata": {
    "colab": {
     "base_uri": "https://localhost:8080/"
    },
    "id": "8OC1wuctdFvA",
    "outputId": "87e91681-70ba-4866-efed-da90c5841078"
   },
   "outputs": [],
   "source": [
    "# !wget http://nlp.stanford.edu/data/glove.6B.zip\n",
    "# !unzip '/content/glove.6B.zip'"
   ]
  },
  {
   "cell_type": "code",
   "execution_count": 35,
   "metadata": {
    "colab": {
     "base_uri": "https://localhost:8080/"
    },
    "id": "PZCPUM0W_Drc",
    "outputId": "ef7cd791-b907-440a-e459-f8739e185012"
   },
   "outputs": [
    {
     "name": "stdout",
     "output_type": "stream",
     "text": [
      "Size of Embedding:  300\n"
     ]
    }
   ],
   "source": [
    "import os\n",
    "data = os.path.expanduser(\"/Users/jiahao/Downloads/Neural Networks and NLP/Week 3/content/glove.6B.300d.txt\")\n",
    "\n",
    "# wordToIndex,indexToWord,wordToGlove=readGloveFile('/content/glove.6B.50d.txt')\n",
    "# wordToIndex,indexToWord,wordToGlove=readGloveFile('/content/glove.6B.100d.txt')\n",
    "wordToIndex,indexToWord,wordToGlove=readGloveFile(data)\n",
    "\n",
    "# vocabLen = len(wordToIndex) + 1 \n",
    "\n",
    "EMBED_SIZE = next(iter(wordToGlove.values())).shape[0]\n",
    "print('Size of Embedding: ',EMBED_SIZE)\n",
    "\n",
    "embeddingLayer = createPretrainedEmbeddingLayer(wordToGlove,wordToIndex,isTrainable=False)"
   ]
  },
  {
   "cell_type": "markdown",
   "metadata": {
    "id": "vdZ4nl08vp9A"
   },
   "source": [
    "## Model 3-1: Neural bag of words using pre-trained word embeddings"
   ]
  },
  {
   "cell_type": "markdown",
   "metadata": {
    "id": "2gyCwXFj_R5w"
   },
   "source": [
    "Now we change our model to use GloVe:"
   ]
  },
  {
   "cell_type": "code",
   "execution_count": 52,
   "metadata": {},
   "outputs": [
    {
     "name": "stdout",
     "output_type": "stream",
     "text": [
      "Model: \"sequential_9\"\n",
      "_________________________________________________________________\n",
      " Layer (type)                Output Shape              Param #   \n",
      "=================================================================\n",
      " GloVe_Embeddings (Embedding  (None, None, 300)        120000300 \n",
      " )                                                               \n",
      "                                                                 \n",
      " global_average_pooling1d_1   (None, 300)              0         \n",
      " (GlobalAveragePooling1D)                                        \n",
      "                                                                 \n",
      " dense_18 (Dense)            (None, 16)                4816      \n",
      "                                                                 \n",
      " dense_19 (Dense)            (None, 1)                 17        \n",
      "                                                                 \n",
      "=================================================================\n",
      "Total params: 120,005,133\n",
      "Trainable params: 4,833\n",
      "Non-trainable params: 120,000,300\n",
      "_________________________________________________________________\n"
     ]
    }
   ],
   "source": [
    "# Inspect model performance with 1 hidden layer, pre-trained embeddings\n",
    "\n",
    "model_3_1 = Sequential()\n",
    "\n",
    "# an embedding layer. \n",
    "model_3_1.add(embeddingLayer)\n",
    "\n",
    "model_3_1.add(GlobalAveragePooling1D())\n",
    "model_3_1.add(Dense(16))\n",
    "model_3_1.add(Dense(1, activation= \"sigmoid\"))\n",
    "model_3_1.summary()\n",
    "\n",
    "model_3_1.compile(optimizer='adam',\n",
    "                loss='binary_crossentropy',\n",
    "                metrics=['accuracy'])"
   ]
  },
  {
   "cell_type": "code",
   "execution_count": 53,
   "metadata": {
    "id": "r6sj_FnOD9Sb",
    "scrolled": true
   },
   "outputs": [
    {
     "name": "stdout",
     "output_type": "stream",
     "text": [
      "Epoch 1/40\n"
     ]
    },
    {
     "name": "stderr",
     "output_type": "stream",
     "text": [
      "2022-03-10 12:15:03.626489: I tensorflow/core/grappler/optimizers/custom_graph_optimizer_registry.cc:113] Plugin optimizer for device_type GPU is enabled.\n"
     ]
    },
    {
     "name": "stdout",
     "output_type": "stream",
     "text": [
      "30/30 [==============================] - ETA: 0s - loss: 0.6869 - accuracy: 0.5531"
     ]
    },
    {
     "name": "stderr",
     "output_type": "stream",
     "text": [
      "2022-03-10 12:15:04.569317: I tensorflow/core/grappler/optimizers/custom_graph_optimizer_registry.cc:113] Plugin optimizer for device_type GPU is enabled.\n"
     ]
    },
    {
     "name": "stdout",
     "output_type": "stream",
     "text": [
      "30/30 [==============================] - 2s 33ms/step - loss: 0.6869 - accuracy: 0.5531 - val_loss: 0.6815 - val_accuracy: 0.5791\n",
      "Epoch 2/40\n",
      "30/30 [==============================] - 1s 19ms/step - loss: 0.6760 - accuracy: 0.5854 - val_loss: 0.6729 - val_accuracy: 0.5902\n",
      "Epoch 3/40\n",
      "30/30 [==============================] - 1s 19ms/step - loss: 0.6682 - accuracy: 0.6026 - val_loss: 0.6675 - val_accuracy: 0.6035\n",
      "Epoch 4/40\n",
      "30/30 [==============================] - 1s 20ms/step - loss: 0.6594 - accuracy: 0.6193 - val_loss: 0.6574 - val_accuracy: 0.6237\n",
      "Epoch 5/40\n",
      "30/30 [==============================] - 1s 19ms/step - loss: 0.6523 - accuracy: 0.6302 - val_loss: 0.6495 - val_accuracy: 0.6355\n",
      "Epoch 6/40\n",
      "30/30 [==============================] - 1s 19ms/step - loss: 0.6433 - accuracy: 0.6503 - val_loss: 0.6424 - val_accuracy: 0.6471\n",
      "Epoch 7/40\n",
      "30/30 [==============================] - 1s 19ms/step - loss: 0.6354 - accuracy: 0.6580 - val_loss: 0.6349 - val_accuracy: 0.6549\n",
      "Epoch 8/40\n",
      "30/30 [==============================] - 1s 19ms/step - loss: 0.6274 - accuracy: 0.6657 - val_loss: 0.6278 - val_accuracy: 0.6627\n",
      "Epoch 9/40\n",
      "30/30 [==============================] - 1s 19ms/step - loss: 0.6203 - accuracy: 0.6764 - val_loss: 0.6213 - val_accuracy: 0.6714\n",
      "Epoch 10/40\n",
      "30/30 [==============================] - 1s 18ms/step - loss: 0.6131 - accuracy: 0.6776 - val_loss: 0.6152 - val_accuracy: 0.6749\n",
      "Epoch 11/40\n",
      "30/30 [==============================] - 1s 19ms/step - loss: 0.6064 - accuracy: 0.6865 - val_loss: 0.6097 - val_accuracy: 0.6804\n",
      "Epoch 12/40\n",
      "30/30 [==============================] - 1s 19ms/step - loss: 0.6015 - accuracy: 0.6890 - val_loss: 0.6048 - val_accuracy: 0.6840\n",
      "Epoch 13/40\n",
      "30/30 [==============================] - 1s 19ms/step - loss: 0.5968 - accuracy: 0.6911 - val_loss: 0.6004 - val_accuracy: 0.6880\n",
      "Epoch 14/40\n",
      "30/30 [==============================] - 1s 19ms/step - loss: 0.5924 - accuracy: 0.6979 - val_loss: 0.5972 - val_accuracy: 0.6887\n",
      "Epoch 15/40\n",
      "30/30 [==============================] - 1s 20ms/step - loss: 0.5871 - accuracy: 0.7017 - val_loss: 0.5932 - val_accuracy: 0.6933\n",
      "Epoch 16/40\n",
      "30/30 [==============================] - 1s 19ms/step - loss: 0.5835 - accuracy: 0.7053 - val_loss: 0.5894 - val_accuracy: 0.6976\n",
      "Epoch 17/40\n",
      "30/30 [==============================] - 1s 19ms/step - loss: 0.5826 - accuracy: 0.7010 - val_loss: 0.5875 - val_accuracy: 0.6965\n",
      "Epoch 18/40\n",
      "30/30 [==============================] - 1s 19ms/step - loss: 0.5775 - accuracy: 0.7113 - val_loss: 0.5839 - val_accuracy: 0.7002\n",
      "Epoch 19/40\n",
      "30/30 [==============================] - 1s 19ms/step - loss: 0.5740 - accuracy: 0.7095 - val_loss: 0.5825 - val_accuracy: 0.7002\n",
      "Epoch 20/40\n",
      "30/30 [==============================] - 1s 19ms/step - loss: 0.5712 - accuracy: 0.7129 - val_loss: 0.5809 - val_accuracy: 0.7013\n",
      "Epoch 21/40\n",
      "30/30 [==============================] - 1s 19ms/step - loss: 0.5689 - accuracy: 0.7135 - val_loss: 0.5784 - val_accuracy: 0.7038\n",
      "Epoch 22/40\n",
      "30/30 [==============================] - 1s 19ms/step - loss: 0.5658 - accuracy: 0.7204 - val_loss: 0.5749 - val_accuracy: 0.7063\n",
      "Epoch 23/40\n",
      "30/30 [==============================] - 1s 19ms/step - loss: 0.5650 - accuracy: 0.7171 - val_loss: 0.5732 - val_accuracy: 0.7087\n",
      "Epoch 24/40\n",
      "30/30 [==============================] - 1s 19ms/step - loss: 0.5654 - accuracy: 0.7157 - val_loss: 0.5725 - val_accuracy: 0.7082\n",
      "Epoch 25/40\n",
      "30/30 [==============================] - 1s 19ms/step - loss: 0.5606 - accuracy: 0.7217 - val_loss: 0.5696 - val_accuracy: 0.7123\n",
      "Epoch 26/40\n",
      "30/30 [==============================] - 1s 19ms/step - loss: 0.5588 - accuracy: 0.7219 - val_loss: 0.5678 - val_accuracy: 0.7120\n",
      "Epoch 27/40\n",
      "30/30 [==============================] - 1s 19ms/step - loss: 0.5567 - accuracy: 0.7214 - val_loss: 0.5659 - val_accuracy: 0.7142\n",
      "Epoch 28/40\n",
      "30/30 [==============================] - 1s 19ms/step - loss: 0.5554 - accuracy: 0.7233 - val_loss: 0.5646 - val_accuracy: 0.7164\n",
      "Epoch 29/40\n",
      "30/30 [==============================] - 1s 19ms/step - loss: 0.5543 - accuracy: 0.7241 - val_loss: 0.5646 - val_accuracy: 0.7144\n",
      "Epoch 30/40\n",
      "30/30 [==============================] - 1s 19ms/step - loss: 0.5534 - accuracy: 0.7255 - val_loss: 0.5625 - val_accuracy: 0.7178\n",
      "Epoch 31/40\n",
      "30/30 [==============================] - 1s 19ms/step - loss: 0.5509 - accuracy: 0.7269 - val_loss: 0.5697 - val_accuracy: 0.7135\n",
      "Epoch 32/40\n",
      "30/30 [==============================] - 1s 19ms/step - loss: 0.5514 - accuracy: 0.7254 - val_loss: 0.5595 - val_accuracy: 0.7190\n",
      "Epoch 33/40\n",
      "30/30 [==============================] - 1s 19ms/step - loss: 0.5487 - accuracy: 0.7291 - val_loss: 0.5596 - val_accuracy: 0.7201\n",
      "Epoch 34/40\n",
      "30/30 [==============================] - 1s 19ms/step - loss: 0.5466 - accuracy: 0.7297 - val_loss: 0.5584 - val_accuracy: 0.7182\n",
      "Epoch 35/40\n",
      "30/30 [==============================] - 1s 18ms/step - loss: 0.5489 - accuracy: 0.7267 - val_loss: 0.5579 - val_accuracy: 0.7181\n",
      "Epoch 36/40\n",
      "30/30 [==============================] - 1s 19ms/step - loss: 0.5445 - accuracy: 0.7320 - val_loss: 0.5563 - val_accuracy: 0.7192\n",
      "Epoch 37/40\n",
      "30/30 [==============================] - 1s 18ms/step - loss: 0.5437 - accuracy: 0.7326 - val_loss: 0.5544 - val_accuracy: 0.7219\n",
      "Epoch 38/40\n",
      "30/30 [==============================] - 1s 19ms/step - loss: 0.5429 - accuracy: 0.7319 - val_loss: 0.5537 - val_accuracy: 0.7250\n",
      "Epoch 39/40\n",
      "30/30 [==============================] - 1s 19ms/step - loss: 0.5413 - accuracy: 0.7345 - val_loss: 0.5524 - val_accuracy: 0.7232\n",
      "Epoch 40/40\n",
      "30/30 [==============================] - 1s 20ms/step - loss: 0.5409 - accuracy: 0.7352 - val_loss: 0.5515 - val_accuracy: 0.7260\n",
      "782/782 [==============================] - 4s 5ms/step - loss: 0.5530 - accuracy: 0.7192\n",
      "\n",
      "\n",
      "test_loss: 0.5529872179031372 test_accuracy: 0.7191600203514099\n"
     ]
    }
   ],
   "source": [
    "# Train and test the model\n",
    "history_3_1 = model_3_1.fit(partial_X_train,\n",
    "                        partial_y_train,\n",
    "                        epochs=40,\n",
    "                        batch_size=512,\n",
    "                        validation_data=(X_val, y_val),\n",
    "                        verbose=1)\n",
    "\n",
    "results_3_1 = model_3_1.evaluate(X_test_enc, y_test)\n",
    "print('\\n')\n",
    "print('test_loss:', results_3_1[0], 'test_accuracy:', results_3_1[1])"
   ]
  },
  {
   "cell_type": "code",
   "execution_count": 54,
   "metadata": {},
   "outputs": [
    {
     "data": {
      "image/png": "[encoded data removed]",
      "text/plain": [
       "<Figure size 720x360 with 2 Axes>"
      ]
     },
     "metadata": {
      "needs_background": "light"
     },
     "output_type": "display_data"
    }
   ],
   "source": [
    "plot_history(history_3_1.history, path=\"standard.png\")\n",
    "plt.show()"
   ]
  },
  {
   "cell_type": "markdown",
   "metadata": {
    "id": "wxJhlT3whoDE"
   },
   "source": [
    "To compare freezing and fine-tuning the pre-train embedding weights, we fine-tune the weights here:"
   ]
  },
  {
   "cell_type": "code",
   "execution_count": 38,
   "metadata": {},
   "outputs": [
    {
     "name": "stdout",
     "output_type": "stream",
     "text": [
      "Model: \"sequential_3\"\n",
      "_________________________________________________________________\n",
      " Layer (type)                Output Shape              Param #   \n",
      "=================================================================\n",
      " GloVe_Embeddings (Embedding  (None, None, 300)        120000300 \n",
      " )                                                               \n",
      "                                                                 \n",
      " global_average_pooling1d_ma  (None, 300)              0         \n",
      " sked_2 (GlobalAveragePoolin                                     \n",
      " g1DMasked)                                                      \n",
      "                                                                 \n",
      " dense_6 (Dense)             (None, 16)                4816      \n",
      "                                                                 \n",
      " dense_7 (Dense)             (None, 1)                 17        \n",
      "                                                                 \n",
      "=================================================================\n",
      "Total params: 120,005,133\n",
      "Trainable params: 120,005,133\n",
      "Non-trainable params: 0\n",
      "_________________________________________________________________\n"
     ]
    }
   ],
   "source": [
    "model_3_1 = Sequential()\n",
    "\n",
    "# an embedding layer. \n",
    "model_3_1.add(createPretrainedEmbeddingLayer(wordToGlove,\n",
    "                                             wordToIndex,\n",
    "                                             isTrainable=True))\n",
    "model_3_1.add(GlobalAveragePooling1DMasked())\n",
    "model_3_1.add(Dense(16))\n",
    "model_3_1.add(Dense(1, activation= \"sigmoid\"))\n",
    "model_3_1.summary()\n",
    "\n",
    "model_3_1.compile(optimizer='adam',\n",
    "                 loss='binary_crossentropy',\n",
    "                 metrics=['accuracy'])"
   ]
  },
  {
   "cell_type": "code",
   "execution_count": 39,
   "metadata": {
    "id": "3rz8MEm6iHj6",
    "scrolled": true
   },
   "outputs": [
    {
     "name": "stdout",
     "output_type": "stream",
     "text": [
      "Epoch 1/40\n"
     ]
    },
    {
     "name": "stderr",
     "output_type": "stream",
     "text": [
      "2022-03-10 11:28:31.697066: I tensorflow/core/grappler/optimizers/custom_graph_optimizer_registry.cc:113] Plugin optimizer for device_type GPU is enabled.\n"
     ]
    },
    {
     "name": "stdout",
     "output_type": "stream",
     "text": [
      "30/30 [==============================] - ETA: 0s - loss: 0.6798 - accuracy: 0.5855"
     ]
    },
    {
     "name": "stderr",
     "output_type": "stream",
     "text": [
      "2022-03-10 11:28:46.466368: I tensorflow/core/grappler/optimizers/custom_graph_optimizer_registry.cc:113] Plugin optimizer for device_type GPU is enabled.\n"
     ]
    },
    {
     "name": "stdout",
     "output_type": "stream",
     "text": [
      "30/30 [==============================] - 15s 482ms/step - loss: 0.6798 - accuracy: 0.5855 - val_loss: 0.6657 - val_accuracy: 0.6355\n",
      "Epoch 2/40\n",
      "30/30 [==============================] - 14s 466ms/step - loss: 0.6444 - accuracy: 0.6686 - val_loss: 0.6257 - val_accuracy: 0.6774\n",
      "Epoch 3/40\n",
      "30/30 [==============================] - 14s 465ms/step - loss: 0.5898 - accuracy: 0.7244 - val_loss: 0.5606 - val_accuracy: 0.7521\n",
      "Epoch 4/40\n",
      "30/30 [==============================] - 14s 460ms/step - loss: 0.5111 - accuracy: 0.7897 - val_loss: 0.4830 - val_accuracy: 0.8058\n",
      "Epoch 5/40\n",
      "30/30 [==============================] - 14s 454ms/step - loss: 0.4266 - accuracy: 0.8381 - val_loss: 0.4154 - val_accuracy: 0.8338\n",
      "Epoch 6/40\n",
      "30/30 [==============================] - 14s 469ms/step - loss: 0.3593 - accuracy: 0.8669 - val_loss: 0.3687 - val_accuracy: 0.8543\n",
      "Epoch 7/40\n",
      "30/30 [==============================] - 14s 468ms/step - loss: 0.3105 - accuracy: 0.8859 - val_loss: 0.3391 - val_accuracy: 0.8664\n",
      "Epoch 8/40\n",
      "30/30 [==============================] - 14s 469ms/step - loss: 0.2732 - accuracy: 0.9007 - val_loss: 0.3222 - val_accuracy: 0.8691\n",
      "Epoch 9/40\n",
      "30/30 [==============================] - 14s 456ms/step - loss: 0.2435 - accuracy: 0.9111 - val_loss: 0.3071 - val_accuracy: 0.8771\n",
      "Epoch 10/40\n",
      "30/30 [==============================] - 14s 456ms/step - loss: 0.2191 - accuracy: 0.9211 - val_loss: 0.2994 - val_accuracy: 0.8772\n",
      "Epoch 11/40\n",
      "30/30 [==============================] - 14s 467ms/step - loss: 0.1979 - accuracy: 0.9295 - val_loss: 0.2936 - val_accuracy: 0.8821\n",
      "Epoch 12/40\n",
      "30/30 [==============================] - 14s 470ms/step - loss: 0.1794 - accuracy: 0.9380 - val_loss: 0.2919 - val_accuracy: 0.8823\n",
      "Epoch 13/40\n",
      "30/30 [==============================] - 14s 464ms/step - loss: 0.1633 - accuracy: 0.9467 - val_loss: 0.2912 - val_accuracy: 0.8832\n",
      "Epoch 14/40\n",
      "30/30 [==============================] - 14s 452ms/step - loss: 0.1494 - accuracy: 0.9525 - val_loss: 0.2975 - val_accuracy: 0.8809\n",
      "Epoch 15/40\n",
      "30/30 [==============================] - 14s 456ms/step - loss: 0.1370 - accuracy: 0.9575 - val_loss: 0.2957 - val_accuracy: 0.8837\n",
      "Epoch 16/40\n",
      "30/30 [==============================] - 14s 470ms/step - loss: 0.1243 - accuracy: 0.9623 - val_loss: 0.3018 - val_accuracy: 0.8823\n",
      "Epoch 17/40\n",
      "30/30 [==============================] - 14s 451ms/step - loss: 0.1143 - accuracy: 0.9672 - val_loss: 0.3078 - val_accuracy: 0.8805\n",
      "Epoch 18/40\n",
      "30/30 [==============================] - 14s 463ms/step - loss: 0.1048 - accuracy: 0.9696 - val_loss: 0.3162 - val_accuracy: 0.8802\n",
      "Epoch 19/40\n",
      "30/30 [==============================] - 14s 454ms/step - loss: 0.0964 - accuracy: 0.9739 - val_loss: 0.3230 - val_accuracy: 0.8784\n",
      "Epoch 20/40\n",
      "30/30 [==============================] - 14s 456ms/step - loss: 0.0880 - accuracy: 0.9768 - val_loss: 0.3320 - val_accuracy: 0.8791\n",
      "Epoch 21/40\n",
      "30/30 [==============================] - 14s 459ms/step - loss: 0.0826 - accuracy: 0.9792 - val_loss: 0.3426 - val_accuracy: 0.8771\n",
      "Epoch 22/40\n",
      "30/30 [==============================] - 14s 455ms/step - loss: 0.0740 - accuracy: 0.9822 - val_loss: 0.3518 - val_accuracy: 0.8760\n",
      "Epoch 23/40\n",
      "30/30 [==============================] - 13s 440ms/step - loss: 0.0682 - accuracy: 0.9848 - val_loss: 0.3636 - val_accuracy: 0.8741\n",
      "Epoch 24/40\n",
      "30/30 [==============================] - 13s 449ms/step - loss: 0.0619 - accuracy: 0.9861 - val_loss: 0.3735 - val_accuracy: 0.8734\n",
      "Epoch 25/40\n",
      "30/30 [==============================] - 13s 448ms/step - loss: 0.0566 - accuracy: 0.9885 - val_loss: 0.3867 - val_accuracy: 0.8723\n",
      "Epoch 26/40\n",
      "30/30 [==============================] - 13s 434ms/step - loss: 0.0517 - accuracy: 0.9899 - val_loss: 0.3972 - val_accuracy: 0.8721\n",
      "Epoch 27/40\n",
      "30/30 [==============================] - 14s 451ms/step - loss: 0.0479 - accuracy: 0.9913 - val_loss: 0.4093 - val_accuracy: 0.8726\n",
      "Epoch 28/40\n",
      "30/30 [==============================] - 13s 437ms/step - loss: 0.0438 - accuracy: 0.9928 - val_loss: 0.4228 - val_accuracy: 0.8711\n",
      "Epoch 29/40\n",
      "30/30 [==============================] - 13s 436ms/step - loss: 0.0395 - accuracy: 0.9939 - val_loss: 0.4356 - val_accuracy: 0.8698\n",
      "Epoch 30/40\n",
      "30/30 [==============================] - 13s 438ms/step - loss: 0.0364 - accuracy: 0.9944 - val_loss: 0.4485 - val_accuracy: 0.8687\n",
      "Epoch 31/40\n",
      "30/30 [==============================] - 13s 433ms/step - loss: 0.0333 - accuracy: 0.9952 - val_loss: 0.4633 - val_accuracy: 0.8677\n",
      "Epoch 32/40\n",
      "30/30 [==============================] - 13s 438ms/step - loss: 0.0304 - accuracy: 0.9963 - val_loss: 0.4754 - val_accuracy: 0.8672\n",
      "Epoch 33/40\n",
      "30/30 [==============================] - 13s 436ms/step - loss: 0.0278 - accuracy: 0.9963 - val_loss: 0.4882 - val_accuracy: 0.8668\n",
      "Epoch 34/40\n",
      "30/30 [==============================] - 13s 437ms/step - loss: 0.0257 - accuracy: 0.9970 - val_loss: 0.5022 - val_accuracy: 0.8655\n",
      "Epoch 35/40\n",
      "30/30 [==============================] - 13s 438ms/step - loss: 0.0234 - accuracy: 0.9973 - val_loss: 0.5152 - val_accuracy: 0.8654\n",
      "Epoch 36/40\n",
      "30/30 [==============================] - 13s 425ms/step - loss: 0.0210 - accuracy: 0.9979 - val_loss: 0.5284 - val_accuracy: 0.8641\n",
      "Epoch 37/40\n",
      "30/30 [==============================] - 13s 432ms/step - loss: 0.0193 - accuracy: 0.9985 - val_loss: 0.5407 - val_accuracy: 0.8655\n",
      "Epoch 38/40\n",
      "30/30 [==============================] - 13s 426ms/step - loss: 0.0176 - accuracy: 0.9987 - val_loss: 0.5551 - val_accuracy: 0.8646\n",
      "Epoch 39/40\n",
      "30/30 [==============================] - 13s 426ms/step - loss: 0.0164 - accuracy: 0.9991 - val_loss: 0.5689 - val_accuracy: 0.8634\n",
      "Epoch 40/40\n",
      "30/30 [==============================] - 13s 421ms/step - loss: 0.0152 - accuracy: 0.9992 - val_loss: 0.5794 - val_accuracy: 0.8638\n",
      "782/782 [==============================] - 4s 5ms/step - loss: 0.6183 - accuracy: 0.8505\n",
      "test_loss: 0.61825031042099 test_accuracy: 0.8505200743675232\n"
     ]
    }
   ],
   "source": [
    "# Train and test the model\n",
    "history_3_1 = model_3_1.fit(partial_X_train,\n",
    "                      partial_y_train,\n",
    "                      epochs=40,\n",
    "                      batch_size=512,\n",
    "                      validation_data=(X_val, y_val),\n",
    "                      verbose=1)\n",
    "\n",
    "results_3_1 = model_3_1.evaluate(X_test_enc, y_test)\n",
    "print('test_loss:', results_3_1[0], 'test_accuracy:', results_3_1[1])"
   ]
  },
  {
   "cell_type": "code",
   "execution_count": 51,
   "metadata": {},
   "outputs": [
    {
     "data": {
      "image/png": "[encoded data removed]",
      "text/plain": [
       "<Figure size 720x360 with 2 Axes>"
      ]
     },
     "metadata": {
      "needs_background": "light"
     },
     "output_type": "display_data"
    }
   ],
   "source": [
    "plot_history(history_3_1.history, path=\"standard.png\")\n",
    "plt.show()"
   ]
  },
  {
   "cell_type": "markdown",
   "metadata": {
    "id": "cAdOh2IHnKuT"
   },
   "source": [
    "Experiments here show that fine-tuning the pre-trained embeddings would obtain better accuracy.\n",
    "\n",
    "Note that although fine-tuning the pre-trained embeddings is better here, we do not fine-tune it in other models. We could conduct extra experiments to compare the results."
   ]
  },
  {
   "cell_type": "markdown",
   "metadata": {
    "id": "xZ1KWFKvcagS"
   },
   "source": [
    "##  Model 3-2: LSTM with pre-trained word embeddings"
   ]
  },
  {
   "cell_type": "markdown",
   "metadata": {
    "id": "S1lKisy3kb60"
   },
   "source": [
    "In previous labs, we have conducted an experiment based on LSTM. Now, we replace its embeddings with the GloVe pre-trained embeddings."
   ]
  },
  {
   "cell_type": "code",
   "execution_count": 40,
   "metadata": {},
   "outputs": [
    {
     "name": "stdout",
     "output_type": "stream",
     "text": [
      "Model: \"sequential_4\"\n",
      "_________________________________________________________________\n",
      " Layer (type)                Output Shape              Param #   \n",
      "=================================================================\n",
      " GloVe_Embeddings (Embedding  (None, None, 300)        120000300 \n",
      " )                                                               \n",
      "                                                                 \n",
      " lstm (LSTM)                 (None, 100)               160400    \n",
      "                                                                 \n",
      " dense_8 (Dense)             (None, 1)                 101       \n",
      "                                                                 \n",
      "=================================================================\n",
      "Total params: 120,160,801\n",
      "Trainable params: 160,501\n",
      "Non-trainable params: 120,000,300\n",
      "_________________________________________________________________\n"
     ]
    }
   ],
   "source": [
    "from keras.layers import LSTM\n",
    "model_3_2 = Sequential()\n",
    "\n",
    "model_3_2.add(embeddingLayer)\n",
    "model_3_2.add(LSTM(100, return_sequences = False))\n",
    "model_3_2.add(Dense(1, activation= \"sigmoid\"))\n",
    "model_3_2.summary()\n",
    "\n",
    "model_3_2.compile(optimizer='adam',\n",
    "                 loss='binary_crossentropy',\n",
    "                 metrics=['accuracy'])"
   ]
  },
  {
   "cell_type": "code",
   "execution_count": 41,
   "metadata": {
    "id": "EqyL_rhaUElx",
    "scrolled": true
   },
   "outputs": [
    {
     "name": "stdout",
     "output_type": "stream",
     "text": [
      "Epoch 1/40\n"
     ]
    },
    {
     "name": "stderr",
     "output_type": "stream",
     "text": [
      "2022-03-10 11:37:38.061103: I tensorflow/core/grappler/optimizers/custom_graph_optimizer_registry.cc:113] Plugin optimizer for device_type GPU is enabled.\n",
      "2022-03-10 11:37:38.209465: I tensorflow/core/grappler/optimizers/custom_graph_optimizer_registry.cc:113] Plugin optimizer for device_type GPU is enabled.\n",
      "2022-03-10 11:37:39.805671: I tensorflow/core/grappler/optimizers/custom_graph_optimizer_registry.cc:113] Plugin optimizer for device_type GPU is enabled.\n"
     ]
    },
    {
     "name": "stdout",
     "output_type": "stream",
     "text": [
      "30/30 [==============================] - ETA: 0s - loss: 0.6924 - accuracy: 0.5107"
     ]
    },
    {
     "name": "stderr",
     "output_type": "stream",
     "text": [
      "2022-03-10 11:37:51.370572: I tensorflow/core/grappler/optimizers/custom_graph_optimizer_registry.cc:113] Plugin optimizer for device_type GPU is enabled.\n",
      "2022-03-10 11:37:51.427995: I tensorflow/core/grappler/optimizers/custom_graph_optimizer_registry.cc:113] Plugin optimizer for device_type GPU is enabled.\n"
     ]
    },
    {
     "name": "stdout",
     "output_type": "stream",
     "text": [
      "30/30 [==============================] - 16s 421ms/step - loss: 0.6924 - accuracy: 0.5107 - val_loss: 0.6889 - val_accuracy: 0.5156\n",
      "Epoch 2/40\n",
      "30/30 [==============================] - 10s 348ms/step - loss: 0.6824 - accuracy: 0.5359 - val_loss: 0.6815 - val_accuracy: 0.5292\n",
      "Epoch 3/40\n",
      "30/30 [==============================] - 10s 347ms/step - loss: 0.6714 - accuracy: 0.5519 - val_loss: 0.6787 - val_accuracy: 0.5312\n",
      "Epoch 4/40\n",
      "30/30 [==============================] - 10s 347ms/step - loss: 0.6865 - accuracy: 0.5613 - val_loss: 0.6832 - val_accuracy: 0.5263\n",
      "Epoch 5/40\n",
      "30/30 [==============================] - 10s 349ms/step - loss: 0.6630 - accuracy: 0.5597 - val_loss: 0.6754 - val_accuracy: 0.5340\n",
      "Epoch 6/40\n",
      "30/30 [==============================] - 10s 351ms/step - loss: 0.6556 - accuracy: 0.5698 - val_loss: 0.6717 - val_accuracy: 0.5420\n",
      "Epoch 7/40\n",
      "30/30 [==============================] - 10s 346ms/step - loss: 0.6456 - accuracy: 0.5746 - val_loss: 0.6664 - val_accuracy: 0.5492\n",
      "Epoch 8/40\n",
      "30/30 [==============================] - 10s 347ms/step - loss: 0.6403 - accuracy: 0.5794 - val_loss: 0.6743 - val_accuracy: 0.5353\n",
      "Epoch 9/40\n",
      "30/30 [==============================] - 10s 346ms/step - loss: 0.6427 - accuracy: 0.5819 - val_loss: 0.6618 - val_accuracy: 0.5532\n",
      "Epoch 10/40\n",
      "30/30 [==============================] - 10s 346ms/step - loss: 0.6323 - accuracy: 0.5865 - val_loss: 0.6677 - val_accuracy: 0.5533\n",
      "Epoch 11/40\n",
      "30/30 [==============================] - 10s 346ms/step - loss: 0.6215 - accuracy: 0.5975 - val_loss: 0.6621 - val_accuracy: 0.5673\n",
      "Epoch 12/40\n",
      "30/30 [==============================] - 10s 347ms/step - loss: 0.6283 - accuracy: 0.5923 - val_loss: 0.6781 - val_accuracy: 0.5379\n",
      "Epoch 13/40\n",
      "30/30 [==============================] - 10s 349ms/step - loss: 0.6229 - accuracy: 0.5991 - val_loss: 0.6651 - val_accuracy: 0.5541\n",
      "Epoch 14/40\n",
      "30/30 [==============================] - 10s 346ms/step - loss: 0.6092 - accuracy: 0.6198 - val_loss: 0.6534 - val_accuracy: 0.6093\n",
      "Epoch 15/40\n",
      "30/30 [==============================] - 10s 345ms/step - loss: 0.5987 - accuracy: 0.6790 - val_loss: 0.6437 - val_accuracy: 0.6433\n",
      "Epoch 16/40\n",
      "30/30 [==============================] - 10s 347ms/step - loss: 0.6468 - accuracy: 0.5934 - val_loss: 0.6832 - val_accuracy: 0.5225\n",
      "Epoch 17/40\n",
      "30/30 [==============================] - 10s 345ms/step - loss: 0.6418 - accuracy: 0.5839 - val_loss: 0.6819 - val_accuracy: 0.5306\n",
      "Epoch 18/40\n",
      "30/30 [==============================] - 10s 347ms/step - loss: 0.6275 - accuracy: 0.5911 - val_loss: 0.6844 - val_accuracy: 0.5298\n",
      "Epoch 19/40\n",
      "30/30 [==============================] - 11s 358ms/step - loss: 0.6154 - accuracy: 0.5960 - val_loss: 0.6866 - val_accuracy: 0.5368\n",
      "Epoch 20/40\n",
      "30/30 [==============================] - 10s 347ms/step - loss: 0.6037 - accuracy: 0.6047 - val_loss: 0.6899 - val_accuracy: 0.5421\n",
      "Epoch 21/40\n",
      "30/30 [==============================] - 10s 346ms/step - loss: 0.5942 - accuracy: 0.6103 - val_loss: 0.6907 - val_accuracy: 0.5466\n",
      "Epoch 22/40\n",
      "30/30 [==============================] - 10s 349ms/step - loss: 0.5784 - accuracy: 0.6270 - val_loss: 0.7017 - val_accuracy: 0.5579\n",
      "Epoch 23/40\n",
      "30/30 [==============================] - 10s 350ms/step - loss: 0.5765 - accuracy: 0.6280 - val_loss: 0.6951 - val_accuracy: 0.5576\n",
      "Epoch 24/40\n",
      "30/30 [==============================] - 10s 349ms/step - loss: 0.5622 - accuracy: 0.6383 - val_loss: 0.6817 - val_accuracy: 0.5689\n",
      "Epoch 25/40\n",
      "30/30 [==============================] - 11s 350ms/step - loss: 0.5467 - accuracy: 0.6546 - val_loss: 0.6895 - val_accuracy: 0.5699\n",
      "Epoch 26/40\n",
      "30/30 [==============================] - 10s 347ms/step - loss: 0.5352 - accuracy: 0.6537 - val_loss: 0.6956 - val_accuracy: 0.5829\n",
      "Epoch 27/40\n",
      "30/30 [==============================] - 10s 347ms/step - loss: 0.5266 - accuracy: 0.6634 - val_loss: 0.6990 - val_accuracy: 0.5833\n",
      "Epoch 28/40\n",
      "30/30 [==============================] - 10s 348ms/step - loss: 0.5095 - accuracy: 0.6867 - val_loss: 0.7163 - val_accuracy: 0.6203\n",
      "Epoch 29/40\n",
      "30/30 [==============================] - 10s 347ms/step - loss: 0.6101 - accuracy: 0.6320 - val_loss: 0.7178 - val_accuracy: 0.5323\n",
      "Epoch 30/40\n",
      "30/30 [==============================] - 10s 348ms/step - loss: 0.5679 - accuracy: 0.6706 - val_loss: 0.6826 - val_accuracy: 0.6502\n",
      "Epoch 31/40\n",
      "30/30 [==============================] - 10s 348ms/step - loss: 0.5244 - accuracy: 0.7413 - val_loss: 0.6626 - val_accuracy: 0.6649\n",
      "Epoch 32/40\n",
      "30/30 [==============================] - 10s 349ms/step - loss: 0.5234 - accuracy: 0.7339 - val_loss: 0.7137 - val_accuracy: 0.6338\n",
      "Epoch 33/40\n",
      "30/30 [==============================] - 11s 352ms/step - loss: 0.5720 - accuracy: 0.6463 - val_loss: 0.7260 - val_accuracy: 0.5341\n",
      "Epoch 34/40\n",
      "30/30 [==============================] - 10s 347ms/step - loss: 0.5376 - accuracy: 0.6831 - val_loss: 0.7358 - val_accuracy: 0.5648\n",
      "Epoch 35/40\n",
      "30/30 [==============================] - 10s 346ms/step - loss: 0.5307 - accuracy: 0.6750 - val_loss: 0.7181 - val_accuracy: 0.5821\n",
      "Epoch 36/40\n",
      "30/30 [==============================] - 10s 346ms/step - loss: 0.4976 - accuracy: 0.7147 - val_loss: 0.7229 - val_accuracy: 0.5949\n",
      "Epoch 37/40\n",
      "30/30 [==============================] - 10s 346ms/step - loss: 0.4857 - accuracy: 0.7289 - val_loss: 0.7225 - val_accuracy: 0.6901\n",
      "Epoch 38/40\n",
      "30/30 [==============================] - 10s 346ms/step - loss: 0.4850 - accuracy: 0.7665 - val_loss: 0.7447 - val_accuracy: 0.6513\n",
      "Epoch 39/40\n",
      "30/30 [==============================] - 10s 350ms/step - loss: 0.4692 - accuracy: 0.7757 - val_loss: 0.7070 - val_accuracy: 0.6852\n",
      "Epoch 40/40\n",
      "30/30 [==============================] - 10s 348ms/step - loss: 0.4471 - accuracy: 0.7911 - val_loss: 0.7220 - val_accuracy: 0.6620\n",
      "782/782 [==============================] - 25s 31ms/step - loss: 3.2891 - accuracy: 0.5672\n",
      "test_loss: 3.2890732288360596 test_accuracy: 0.5671600103378296\n"
     ]
    }
   ],
   "source": [
    "# Train and test the model\n",
    "\n",
    "history_3_2 = model_3_2.fit(partial_X_train,\n",
    "                      partial_y_train,\n",
    "                      epochs=40,\n",
    "                      batch_size=512,\n",
    "                      validation_data=(X_val, y_val),\n",
    "                      verbose=1)\n",
    "\n",
    "results_3_2 = model_3_2.evaluate(X_test_enc, y_test)\n",
    "print('test_loss:', results_3_2[0], 'test_accuracy:', results_3_2[1])"
   ]
  },
  {
   "cell_type": "markdown",
   "metadata": {
    "id": "XOqePi5-I1Xq"
   },
   "source": [
    "Experiment show that simply replacing the lab 2 model embeddings with pre-trained word embeddings (GloVe) will cause performance to drop significantly."
   ]
  },
  {
   "cell_type": "markdown",
   "metadata": {
    "id": "M-bZ5SCHiIMl"
   },
   "source": [
    "#  Model 4: Adding extra dense layer into Neural averaging network model"
   ]
  },
  {
   "cell_type": "markdown",
   "metadata": {
    "id": "G85QM3lSV7qp"
   },
   "source": [
    "We add extra dense layers into model 3-1 (neural network model) to evaluate extra dense layers' contribution. We start by adding one layer, then add two. All parameters are the same as model 3-1."
   ]
  },
  {
   "cell_type": "markdown",
   "metadata": {
    "id": "ExgX8bxpVgps"
   },
   "source": [
    "### Adding one extra dense layer"
   ]
  },
  {
   "cell_type": "code",
   "execution_count": 55,
   "metadata": {
    "scrolled": true
   },
   "outputs": [
    {
     "name": "stdout",
     "output_type": "stream",
     "text": [
      "Model: \"sequential_10\"\n",
      "_________________________________________________________________\n",
      " Layer (type)                Output Shape              Param #   \n",
      "=================================================================\n",
      " GloVe_Embeddings (Embedding  (None, None, 300)        120000300 \n",
      " )                                                               \n",
      "                                                                 \n",
      " global_average_pooling1d_ma  (None, 300)              0         \n",
      " sked_5 (GlobalAveragePoolin                                     \n",
      " g1DMasked)                                                      \n",
      "                                                                 \n",
      " dense_20 (Dense)            (None, 100)               30100     \n",
      "                                                                 \n",
      " dense_21 (Dense)            (None, 16)                1616      \n",
      "                                                                 \n",
      " dense_22 (Dense)            (None, 1)                 17        \n",
      "                                                                 \n",
      "=================================================================\n",
      "Total params: 120,032,033\n",
      "Trainable params: 31,733\n",
      "Non-trainable params: 120,000,300\n",
      "_________________________________________________________________\n",
      "Epoch 1/40\n"
     ]
    },
    {
     "name": "stderr",
     "output_type": "stream",
     "text": [
      "2022-03-10 12:29:45.621110: I tensorflow/core/grappler/optimizers/custom_graph_optimizer_registry.cc:113] Plugin optimizer for device_type GPU is enabled.\n"
     ]
    },
    {
     "name": "stdout",
     "output_type": "stream",
     "text": [
      "30/30 [==============================] - ETA: 0s - loss: 0.6827 - accuracy: 0.5564"
     ]
    },
    {
     "name": "stderr",
     "output_type": "stream",
     "text": [
      "2022-03-10 12:29:46.472942: I tensorflow/core/grappler/optimizers/custom_graph_optimizer_registry.cc:113] Plugin optimizer for device_type GPU is enabled.\n"
     ]
    },
    {
     "name": "stdout",
     "output_type": "stream",
     "text": [
      "30/30 [==============================] - 1s 29ms/step - loss: 0.6827 - accuracy: 0.5564 - val_loss: 0.6689 - val_accuracy: 0.5979\n",
      "Epoch 2/40\n",
      "30/30 [==============================] - 1s 20ms/step - loss: 0.6586 - accuracy: 0.6202 - val_loss: 0.6594 - val_accuracy: 0.5992\n",
      "Epoch 3/40\n",
      "30/30 [==============================] - 1s 20ms/step - loss: 0.6352 - accuracy: 0.6544 - val_loss: 0.6243 - val_accuracy: 0.6639\n",
      "Epoch 4/40\n",
      "30/30 [==============================] - 1s 20ms/step - loss: 0.6113 - accuracy: 0.6741 - val_loss: 0.6051 - val_accuracy: 0.6784\n",
      "Epoch 5/40\n",
      "30/30 [==============================] - 1s 20ms/step - loss: 0.5943 - accuracy: 0.6859 - val_loss: 0.6011 - val_accuracy: 0.6814\n",
      "Epoch 6/40\n",
      "30/30 [==============================] - 1s 20ms/step - loss: 0.5794 - accuracy: 0.7039 - val_loss: 0.5813 - val_accuracy: 0.6995\n",
      "Epoch 7/40\n",
      "30/30 [==============================] - 1s 20ms/step - loss: 0.5700 - accuracy: 0.7095 - val_loss: 0.5748 - val_accuracy: 0.7066\n",
      "Epoch 8/40\n",
      "30/30 [==============================] - 1s 19ms/step - loss: 0.5639 - accuracy: 0.7153 - val_loss: 0.5767 - val_accuracy: 0.7030\n",
      "Epoch 9/40\n",
      "30/30 [==============================] - 1s 20ms/step - loss: 0.5582 - accuracy: 0.7178 - val_loss: 0.5645 - val_accuracy: 0.7125\n",
      "Epoch 10/40\n",
      "30/30 [==============================] - 1s 21ms/step - loss: 0.5535 - accuracy: 0.7225 - val_loss: 0.5618 - val_accuracy: 0.7147\n",
      "Epoch 11/40\n",
      "30/30 [==============================] - 1s 20ms/step - loss: 0.5542 - accuracy: 0.7213 - val_loss: 0.5749 - val_accuracy: 0.6995\n",
      "Epoch 12/40\n",
      "30/30 [==============================] - 1s 20ms/step - loss: 0.5489 - accuracy: 0.7251 - val_loss: 0.5516 - val_accuracy: 0.7254\n",
      "Epoch 13/40\n",
      "30/30 [==============================] - 1s 22ms/step - loss: 0.5446 - accuracy: 0.7267 - val_loss: 0.5605 - val_accuracy: 0.7147\n",
      "Epoch 14/40\n",
      "30/30 [==============================] - 1s 19ms/step - loss: 0.5473 - accuracy: 0.7274 - val_loss: 0.5488 - val_accuracy: 0.7291\n",
      "Epoch 15/40\n",
      "30/30 [==============================] - 1s 20ms/step - loss: 0.5400 - accuracy: 0.7306 - val_loss: 0.5460 - val_accuracy: 0.7289\n",
      "Epoch 16/40\n",
      "30/30 [==============================] - 1s 20ms/step - loss: 0.5352 - accuracy: 0.7371 - val_loss: 0.5460 - val_accuracy: 0.7314\n",
      "Epoch 17/40\n",
      "30/30 [==============================] - 1s 20ms/step - loss: 0.5339 - accuracy: 0.7355 - val_loss: 0.5466 - val_accuracy: 0.7306\n",
      "Epoch 18/40\n",
      "30/30 [==============================] - 1s 20ms/step - loss: 0.5328 - accuracy: 0.7386 - val_loss: 0.5427 - val_accuracy: 0.7320\n",
      "Epoch 19/40\n",
      "30/30 [==============================] - 1s 19ms/step - loss: 0.5314 - accuracy: 0.7401 - val_loss: 0.5402 - val_accuracy: 0.7295\n",
      "Epoch 20/40\n",
      "30/30 [==============================] - 1s 20ms/step - loss: 0.5424 - accuracy: 0.7331 - val_loss: 0.5492 - val_accuracy: 0.7227\n",
      "Epoch 21/40\n",
      "30/30 [==============================] - 1s 19ms/step - loss: 0.5364 - accuracy: 0.7367 - val_loss: 0.5709 - val_accuracy: 0.7116\n",
      "Epoch 22/40\n",
      "30/30 [==============================] - 1s 20ms/step - loss: 0.5442 - accuracy: 0.7325 - val_loss: 0.5519 - val_accuracy: 0.7223\n",
      "Epoch 23/40\n",
      "30/30 [==============================] - 1s 20ms/step - loss: 0.5318 - accuracy: 0.7367 - val_loss: 0.5560 - val_accuracy: 0.7187\n",
      "Epoch 24/40\n",
      "30/30 [==============================] - 1s 20ms/step - loss: 0.5287 - accuracy: 0.7437 - val_loss: 0.5376 - val_accuracy: 0.7321\n",
      "Epoch 25/40\n",
      "30/30 [==============================] - 1s 20ms/step - loss: 0.5282 - accuracy: 0.7405 - val_loss: 0.5363 - val_accuracy: 0.7356\n",
      "Epoch 26/40\n",
      "30/30 [==============================] - 1s 19ms/step - loss: 0.5268 - accuracy: 0.7435 - val_loss: 0.5408 - val_accuracy: 0.7322\n",
      "Epoch 27/40\n",
      "30/30 [==============================] - 1s 20ms/step - loss: 0.5237 - accuracy: 0.7446 - val_loss: 0.5440 - val_accuracy: 0.7294\n",
      "Epoch 28/40\n",
      "30/30 [==============================] - 1s 20ms/step - loss: 0.5233 - accuracy: 0.7451 - val_loss: 0.5368 - val_accuracy: 0.7362\n",
      "Epoch 29/40\n",
      "30/30 [==============================] - 1s 20ms/step - loss: 0.5215 - accuracy: 0.7465 - val_loss: 0.5356 - val_accuracy: 0.7338\n",
      "Epoch 30/40\n",
      "30/30 [==============================] - 1s 19ms/step - loss: 0.5255 - accuracy: 0.7426 - val_loss: 0.5336 - val_accuracy: 0.7350\n",
      "Epoch 31/40\n",
      "30/30 [==============================] - 1s 20ms/step - loss: 0.5203 - accuracy: 0.7455 - val_loss: 0.5341 - val_accuracy: 0.7366\n",
      "Epoch 32/40\n",
      "30/30 [==============================] - 1s 20ms/step - loss: 0.5298 - accuracy: 0.7381 - val_loss: 0.5420 - val_accuracy: 0.7304\n",
      "Epoch 33/40\n",
      "30/30 [==============================] - 1s 20ms/step - loss: 0.5206 - accuracy: 0.7477 - val_loss: 0.5580 - val_accuracy: 0.7207\n",
      "Epoch 34/40\n",
      "30/30 [==============================] - 1s 20ms/step - loss: 0.5251 - accuracy: 0.7420 - val_loss: 0.5329 - val_accuracy: 0.7367\n",
      "Epoch 35/40\n",
      "30/30 [==============================] - 1s 20ms/step - loss: 0.5191 - accuracy: 0.7438 - val_loss: 0.5342 - val_accuracy: 0.7363\n",
      "Epoch 36/40\n",
      "30/30 [==============================] - 1s 19ms/step - loss: 0.5235 - accuracy: 0.7429 - val_loss: 0.5373 - val_accuracy: 0.7366\n",
      "Epoch 37/40\n",
      "30/30 [==============================] - 1s 20ms/step - loss: 0.5199 - accuracy: 0.7480 - val_loss: 0.5541 - val_accuracy: 0.7216\n",
      "Epoch 38/40\n",
      "30/30 [==============================] - 1s 19ms/step - loss: 0.5261 - accuracy: 0.7427 - val_loss: 0.5554 - val_accuracy: 0.7215\n",
      "Epoch 39/40\n",
      "30/30 [==============================] - 1s 20ms/step - loss: 0.5269 - accuracy: 0.7411 - val_loss: 0.5409 - val_accuracy: 0.7315\n",
      "Epoch 40/40\n",
      "30/30 [==============================] - 1s 20ms/step - loss: 0.5226 - accuracy: 0.7463 - val_loss: 0.5310 - val_accuracy: 0.7393\n",
      "782/782 [==============================] - 4s 5ms/step - loss: 0.5316 - accuracy: 0.7358\n",
      "test_loss: 0.5316199064254761 test_accuracy: 0.73580002784729\n"
     ]
    }
   ],
   "source": [
    "# Inspect model performance with 1 hidden layer, pre-trained embeddings\n",
    "\n",
    "model_4 = Sequential()\n",
    "model_4.add(embeddingLayer)\n",
    "model_4.add(GlobalAveragePooling1DMasked())\n",
    "model_4.add(Dense(100))\n",
    "model_4.add(Dense(16))\n",
    "model_4.add(Dense(1, activation= \"sigmoid\"))\n",
    "model_4.summary()\n",
    "\n",
    "model_4.compile(optimizer='adam',\n",
    "               loss='binary_crossentropy',\n",
    "               metrics=['accuracy'])\n",
    "\n",
    "history_4 = model_4.fit(partial_X_train,\n",
    "                      partial_y_train,\n",
    "                      epochs=40,\n",
    "                      batch_size=512,\n",
    "                      validation_data=(X_val, y_val),\n",
    "                      verbose=1)\n",
    "\n",
    "results_4 = model_4.evaluate(X_test_enc, y_test)\n",
    "\n",
    "print('test_loss:', results_4[0], 'test_accuracy:', results_4[1])"
   ]
  },
  {
   "cell_type": "code",
   "execution_count": 56,
   "metadata": {},
   "outputs": [
    {
     "data": {
      "image/png": "[encoded data removed]",
      "text/plain": [
       "<Figure size 720x360 with 2 Axes>"
      ]
     },
     "metadata": {
      "needs_background": "light"
     },
     "output_type": "display_data"
    }
   ],
   "source": [
    "plot_history(history_4.history, path=\"standard.png\")\n",
    "plt.show()"
   ]
  },
  {
   "cell_type": "markdown",
   "metadata": {
    "id": "K0npTvFuVt5R"
   },
   "source": [
    "### Adding two extra dense layers"
   ]
  },
  {
   "cell_type": "code",
   "execution_count": 44,
   "metadata": {
    "colab": {
     "base_uri": "https://localhost:8080/"
    },
    "id": "PowyhyRqcdDA",
    "outputId": "81a4d006-5d16-4a75-f589-b27a46c2ebc0",
    "scrolled": true
   },
   "outputs": [
    {
     "name": "stdout",
     "output_type": "stream",
     "text": [
      "Model: \"sequential_6\"\n",
      "_________________________________________________________________\n",
      " Layer (type)                Output Shape              Param #   \n",
      "=================================================================\n",
      " GloVe_Embeddings (Embedding  (None, None, 300)        120000300 \n",
      " )                                                               \n",
      "                                                                 \n",
      " global_average_pooling1d_ma  (None, 300)              0         \n",
      " sked_4 (GlobalAveragePoolin                                     \n",
      " g1DMasked)                                                      \n",
      "                                                                 \n",
      " dense_12 (Dense)            (None, 300)               90300     \n",
      "                                                                 \n",
      " dense_13 (Dense)            (None, 100)               30100     \n",
      "                                                                 \n",
      " dense_14 (Dense)            (None, 16)                1616      \n",
      "                                                                 \n",
      " dense_15 (Dense)            (None, 1)                 17        \n",
      "                                                                 \n",
      "=================================================================\n",
      "Total params: 120,122,333\n",
      "Trainable params: 122,033\n",
      "Non-trainable params: 120,000,300\n",
      "_________________________________________________________________\n",
      "Epoch 1/40\n"
     ]
    },
    {
     "name": "stderr",
     "output_type": "stream",
     "text": [
      "2022-03-10 11:45:57.455004: I tensorflow/core/grappler/optimizers/custom_graph_optimizer_registry.cc:113] Plugin optimizer for device_type GPU is enabled.\n"
     ]
    },
    {
     "name": "stdout",
     "output_type": "stream",
     "text": [
      "30/30 [==============================] - ETA: 0s - loss: 0.7004 - accuracy: 0.5307"
     ]
    },
    {
     "name": "stderr",
     "output_type": "stream",
     "text": [
      "2022-03-10 11:45:58.262413: I tensorflow/core/grappler/optimizers/custom_graph_optimizer_registry.cc:113] Plugin optimizer for device_type GPU is enabled.\n"
     ]
    },
    {
     "name": "stdout",
     "output_type": "stream",
     "text": [
      "30/30 [==============================] - 1s 30ms/step - loss: 0.7004 - accuracy: 0.5307 - val_loss: 0.6727 - val_accuracy: 0.5889\n",
      "Epoch 2/40\n",
      "30/30 [==============================] - 1s 19ms/step - loss: 0.6582 - accuracy: 0.6155 - val_loss: 0.6425 - val_accuracy: 0.6327\n",
      "Epoch 3/40\n",
      "30/30 [==============================] - 1s 19ms/step - loss: 0.6137 - accuracy: 0.6705 - val_loss: 0.5998 - val_accuracy: 0.6790\n",
      "Epoch 4/40\n",
      "30/30 [==============================] - 1s 19ms/step - loss: 0.5921 - accuracy: 0.6880 - val_loss: 0.5849 - val_accuracy: 0.6947\n",
      "Epoch 5/40\n",
      "30/30 [==============================] - 1s 19ms/step - loss: 0.5748 - accuracy: 0.7065 - val_loss: 0.5703 - val_accuracy: 0.7120\n",
      "Epoch 6/40\n",
      "30/30 [==============================] - 1s 19ms/step - loss: 0.5576 - accuracy: 0.7179 - val_loss: 0.5611 - val_accuracy: 0.7182\n",
      "Epoch 7/40\n",
      "30/30 [==============================] - 1s 19ms/step - loss: 0.5529 - accuracy: 0.7245 - val_loss: 0.5633 - val_accuracy: 0.7145\n",
      "Epoch 8/40\n",
      "30/30 [==============================] - 1s 19ms/step - loss: 0.5518 - accuracy: 0.7219 - val_loss: 0.5517 - val_accuracy: 0.7224\n",
      "Epoch 9/40\n",
      "30/30 [==============================] - 1s 20ms/step - loss: 0.5437 - accuracy: 0.7305 - val_loss: 0.5767 - val_accuracy: 0.7044\n",
      "Epoch 10/40\n",
      "30/30 [==============================] - 1s 19ms/step - loss: 0.5500 - accuracy: 0.7244 - val_loss: 0.5894 - val_accuracy: 0.6957\n",
      "Epoch 11/40\n",
      "30/30 [==============================] - 1s 19ms/step - loss: 0.5397 - accuracy: 0.7311 - val_loss: 0.5532 - val_accuracy: 0.7206\n",
      "Epoch 12/40\n",
      "30/30 [==============================] - 1s 19ms/step - loss: 0.5344 - accuracy: 0.7353 - val_loss: 0.5785 - val_accuracy: 0.7075\n",
      "Epoch 13/40\n",
      "30/30 [==============================] - 1s 18ms/step - loss: 0.5329 - accuracy: 0.7385 - val_loss: 0.5885 - val_accuracy: 0.7005\n",
      "Epoch 14/40\n",
      "30/30 [==============================] - 1s 19ms/step - loss: 0.5452 - accuracy: 0.7288 - val_loss: 0.5834 - val_accuracy: 0.6996\n",
      "Epoch 15/40\n",
      "30/30 [==============================] - 1s 19ms/step - loss: 0.5399 - accuracy: 0.7332 - val_loss: 0.5392 - val_accuracy: 0.7334\n",
      "Epoch 16/40\n",
      "30/30 [==============================] - 1s 19ms/step - loss: 0.5425 - accuracy: 0.7319 - val_loss: 0.5498 - val_accuracy: 0.7271\n",
      "Epoch 17/40\n",
      "30/30 [==============================] - 1s 19ms/step - loss: 0.5270 - accuracy: 0.7425 - val_loss: 0.5406 - val_accuracy: 0.7336\n",
      "Epoch 18/40\n",
      "30/30 [==============================] - 1s 19ms/step - loss: 0.5357 - accuracy: 0.7363 - val_loss: 0.5355 - val_accuracy: 0.7381\n",
      "Epoch 19/40\n",
      "30/30 [==============================] - 1s 19ms/step - loss: 0.5307 - accuracy: 0.7397 - val_loss: 0.5386 - val_accuracy: 0.7346\n",
      "Epoch 20/40\n",
      "30/30 [==============================] - 1s 19ms/step - loss: 0.5341 - accuracy: 0.7398 - val_loss: 0.5369 - val_accuracy: 0.7358\n",
      "Epoch 21/40\n",
      "30/30 [==============================] - 1s 19ms/step - loss: 0.5240 - accuracy: 0.7413 - val_loss: 0.5433 - val_accuracy: 0.7303\n",
      "Epoch 22/40\n",
      "30/30 [==============================] - 1s 19ms/step - loss: 0.5212 - accuracy: 0.7447 - val_loss: 0.5351 - val_accuracy: 0.7359\n",
      "Epoch 23/40\n",
      "30/30 [==============================] - 1s 19ms/step - loss: 0.5254 - accuracy: 0.7429 - val_loss: 0.5312 - val_accuracy: 0.7389\n",
      "Epoch 24/40\n",
      "30/30 [==============================] - 1s 19ms/step - loss: 0.5225 - accuracy: 0.7441 - val_loss: 0.5312 - val_accuracy: 0.7374\n",
      "Epoch 25/40\n",
      "30/30 [==============================] - 1s 19ms/step - loss: 0.5164 - accuracy: 0.7489 - val_loss: 0.5304 - val_accuracy: 0.7403\n",
      "Epoch 26/40\n",
      "30/30 [==============================] - 1s 19ms/step - loss: 0.5325 - accuracy: 0.7399 - val_loss: 0.5416 - val_accuracy: 0.7300\n",
      "Epoch 27/40\n",
      "30/30 [==============================] - 1s 19ms/step - loss: 0.5227 - accuracy: 0.7436 - val_loss: 0.5389 - val_accuracy: 0.7331\n",
      "Epoch 28/40\n",
      "30/30 [==============================] - 1s 19ms/step - loss: 0.5239 - accuracy: 0.7437 - val_loss: 0.5333 - val_accuracy: 0.7371\n",
      "Epoch 29/40\n",
      "30/30 [==============================] - 1s 19ms/step - loss: 0.5204 - accuracy: 0.7463 - val_loss: 0.5353 - val_accuracy: 0.7358\n",
      "Epoch 30/40\n",
      "30/30 [==============================] - 1s 19ms/step - loss: 0.5171 - accuracy: 0.7477 - val_loss: 0.5327 - val_accuracy: 0.7370\n",
      "Epoch 31/40\n",
      "30/30 [==============================] - 1s 19ms/step - loss: 0.5183 - accuracy: 0.7504 - val_loss: 0.5398 - val_accuracy: 0.7328\n",
      "Epoch 32/40\n",
      "30/30 [==============================] - 1s 19ms/step - loss: 0.5173 - accuracy: 0.7445 - val_loss: 0.5303 - val_accuracy: 0.7376\n",
      "Epoch 33/40\n",
      "30/30 [==============================] - 1s 19ms/step - loss: 0.5170 - accuracy: 0.7460 - val_loss: 0.5287 - val_accuracy: 0.7381\n",
      "Epoch 34/40\n",
      "30/30 [==============================] - 1s 19ms/step - loss: 0.5225 - accuracy: 0.7414 - val_loss: 0.5279 - val_accuracy: 0.7415\n",
      "Epoch 35/40\n",
      "30/30 [==============================] - 1s 19ms/step - loss: 0.5210 - accuracy: 0.7435 - val_loss: 0.5339 - val_accuracy: 0.7365\n",
      "Epoch 36/40\n",
      "30/30 [==============================] - 1s 19ms/step - loss: 0.5177 - accuracy: 0.7465 - val_loss: 0.5327 - val_accuracy: 0.7378\n",
      "Epoch 37/40\n",
      "30/30 [==============================] - 1s 19ms/step - loss: 0.5127 - accuracy: 0.7545 - val_loss: 0.5495 - val_accuracy: 0.7259\n",
      "Epoch 38/40\n",
      "30/30 [==============================] - 1s 19ms/step - loss: 0.5320 - accuracy: 0.7357 - val_loss: 0.5309 - val_accuracy: 0.7402\n",
      "Epoch 39/40\n",
      "30/30 [==============================] - 1s 19ms/step - loss: 0.5177 - accuracy: 0.7477 - val_loss: 0.5285 - val_accuracy: 0.7393\n",
      "Epoch 40/40\n",
      "30/30 [==============================] - 1s 19ms/step - loss: 0.5141 - accuracy: 0.7497 - val_loss: 0.5458 - val_accuracy: 0.7295\n",
      "782/782 [==============================] - 4s 5ms/step - loss: 0.5464 - accuracy: 0.7272\n",
      "\n",
      "\n",
      "test_loss: 0.5464361310005188 test_accuracy: 0.7272400259971619\n"
     ]
    }
   ],
   "source": [
    "# Inspect model performance with 2 hidden layer, pre-trained embeddings\n",
    "\n",
    "model_4 = Sequential()\n",
    "model_4.add(embeddingLayer)\n",
    "model_4.add(GlobalAveragePooling1DMasked())\n",
    "model_4.add(Dense(300))\n",
    "model_4.add(Dense(100))\n",
    "model_4.add(Dense(16))\n",
    "model_4.add(Dense(1, activation= \"sigmoid\"))\n",
    "model_4.summary()\n",
    "\n",
    "model_4.compile(optimizer='adam',\n",
    "               loss='binary_crossentropy',\n",
    "               metrics=['accuracy'])\n",
    "\n",
    "history_4 = model_4.fit(partial_X_train,\n",
    "                      partial_y_train,\n",
    "                      epochs=40,\n",
    "                      batch_size=512,\n",
    "                      validation_data=(X_val, y_val),\n",
    "                      verbose=1)\n",
    "\n",
    "results_4 = model_4.evaluate(X_test_enc, y_test)\n",
    "print ('\\n')\n",
    "print('test_loss:', results_4[0], 'test_accuracy:', results_4[1])"
   ]
  },
  {
   "cell_type": "markdown",
   "metadata": {
    "id": "XisS32PaTATf"
   },
   "source": [
    "These two experiments show that adding extra dense layers can slightly improve accuracy over model 3-1.\n",
    "\n",
    "---\n",
    "\n"
   ]
  },
  {
   "cell_type": "markdown",
   "metadata": {
    "id": "CrfC9Mu-RHID"
   },
   "source": [
    "#  Model 5: CNN for Text Classification"
   ]
  },
  {
   "cell_type": "markdown",
   "metadata": {
    "id": "EPaFmFk1BMFf"
   },
   "source": [
    "In this section, we build a Convolutional Neural Network (CNN) for text classification. We start by using one CNN layer and then adding another layer. We could use embeddings from pre-trained or scratch."
   ]
  },
  {
   "cell_type": "markdown",
   "metadata": {
    "id": "zjOJrGCzwGM5"
   },
   "source": [
    "##  Model 5-1: Basic CNN model for Text Classification "
   ]
  },
  {
   "cell_type": "code",
   "execution_count": 45,
   "metadata": {
    "scrolled": true
   },
   "outputs": [
    {
     "name": "stdout",
     "output_type": "stream",
     "text": [
      "Model: \"sequential_7\"\n",
      "_________________________________________________________________\n",
      " Layer (type)                Output Shape              Param #   \n",
      "=================================================================\n",
      " embedding (Embedding)       (None, 256, 300)          3000000   \n",
      "                                                                 \n",
      " conv1d (Conv1D)             (None, 251, 100)          180100    \n",
      "                                                                 \n",
      " global_max_pooling1d (Globa  (None, 100)              0         \n",
      " lMaxPooling1D)                                                  \n",
      "                                                                 \n",
      " dense_16 (Dense)            (None, 1)                 101       \n",
      "                                                                 \n",
      "=================================================================\n",
      "Total params: 3,180,201\n",
      "Trainable params: 3,180,201\n",
      "Non-trainable params: 0\n",
      "_________________________________________________________________\n"
     ]
    }
   ],
   "source": [
    "from keras.layers import GlobalMaxPooling1D\n",
    "\n",
    "model_5 = Sequential()\n",
    "model_5.add(Embedding(input_dim = VOCAB_SIZE, \n",
    "                     output_dim = EMBED_SIZE,\n",
    "                     name='embedding', \n",
    "                     input_length = MAX_SEQUENCE_LENGTH))\n",
    "model_5.add(Conv1D(filters = 100, kernel_size = 6))\n",
    "model_5.add(GlobalMaxPooling1D())\n",
    "model_5.add(Dense(1, activation = \"sigmoid\"))\n",
    "model_5.summary()"
   ]
  },
  {
   "cell_type": "code",
   "execution_count": 46,
   "metadata": {
    "id": "-G5MrDPJFBzK"
   },
   "outputs": [
    {
     "name": "stdout",
     "output_type": "stream",
     "text": [
      "Epoch 1/40\n"
     ]
    },
    {
     "name": "stderr",
     "output_type": "stream",
     "text": [
      "2022-03-10 11:46:24.709771: I tensorflow/core/grappler/optimizers/custom_graph_optimizer_registry.cc:113] Plugin optimizer for device_type GPU is enabled.\n"
     ]
    },
    {
     "name": "stdout",
     "output_type": "stream",
     "text": [
      "30/30 [==============================] - ETA: 0s - loss: 0.6631 - accuracy: 0.6288"
     ]
    },
    {
     "name": "stderr",
     "output_type": "stream",
     "text": [
      "2022-03-10 11:46:33.836405: I tensorflow/core/grappler/optimizers/custom_graph_optimizer_registry.cc:113] Plugin optimizer for device_type GPU is enabled.\n"
     ]
    },
    {
     "name": "stdout",
     "output_type": "stream",
     "text": [
      "30/30 [==============================] - 10s 307ms/step - loss: 0.6631 - accuracy: 0.6288 - val_loss: 0.5973 - val_accuracy: 0.7547\n",
      "Epoch 2/40\n",
      "30/30 [==============================] - 7s 235ms/step - loss: 0.4895 - accuracy: 0.7981 - val_loss: 0.4072 - val_accuracy: 0.8243\n",
      "Epoch 3/40\n",
      "30/30 [==============================] - 8s 262ms/step - loss: 0.3214 - accuracy: 0.8720 - val_loss: 0.3363 - val_accuracy: 0.8537\n",
      "Epoch 4/40\n",
      "30/30 [==============================] - 7s 238ms/step - loss: 0.2189 - accuracy: 0.9237 - val_loss: 0.3129 - val_accuracy: 0.8678\n",
      "Epoch 5/40\n",
      "30/30 [==============================] - 7s 240ms/step - loss: 0.1448 - accuracy: 0.9587 - val_loss: 0.3111 - val_accuracy: 0.8693\n",
      "Epoch 6/40\n",
      "30/30 [==============================] - 7s 242ms/step - loss: 0.0892 - accuracy: 0.9813 - val_loss: 0.3280 - val_accuracy: 0.8682\n",
      "Epoch 7/40\n",
      "30/30 [==============================] - 6s 215ms/step - loss: 0.0540 - accuracy: 0.9919 - val_loss: 0.3505 - val_accuracy: 0.8663\n",
      "Epoch 8/40\n",
      "30/30 [==============================] - 6s 214ms/step - loss: 0.0317 - accuracy: 0.9969 - val_loss: 0.3744 - val_accuracy: 0.8657\n",
      "Epoch 9/40\n",
      "30/30 [==============================] - 6s 211ms/step - loss: 0.0190 - accuracy: 0.9991 - val_loss: 0.4002 - val_accuracy: 0.8633\n",
      "Epoch 10/40\n",
      "30/30 [==============================] - 6s 213ms/step - loss: 0.0121 - accuracy: 0.9999 - val_loss: 0.4228 - val_accuracy: 0.8609\n",
      "Epoch 11/40\n",
      "30/30 [==============================] - 6s 210ms/step - loss: 0.0083 - accuracy: 0.9999 - val_loss: 0.4448 - val_accuracy: 0.8610\n",
      "Epoch 12/40\n",
      "30/30 [==============================] - 6s 208ms/step - loss: 0.0059 - accuracy: 1.0000 - val_loss: 0.4633 - val_accuracy: 0.8592\n",
      "Epoch 13/40\n",
      "30/30 [==============================] - 6s 208ms/step - loss: 0.0045 - accuracy: 1.0000 - val_loss: 0.4785 - val_accuracy: 0.8591\n",
      "Epoch 14/40\n",
      "30/30 [==============================] - 6s 207ms/step - loss: 0.0035 - accuracy: 1.0000 - val_loss: 0.4928 - val_accuracy: 0.8586\n",
      "Epoch 15/40\n",
      "30/30 [==============================] - 6s 207ms/step - loss: 0.0029 - accuracy: 1.0000 - val_loss: 0.5062 - val_accuracy: 0.8577\n",
      "Epoch 16/40\n",
      "30/30 [==============================] - 6s 208ms/step - loss: 0.0024 - accuracy: 1.0000 - val_loss: 0.5185 - val_accuracy: 0.8567\n",
      "Epoch 17/40\n",
      "30/30 [==============================] - 6s 206ms/step - loss: 0.0020 - accuracy: 1.0000 - val_loss: 0.5305 - val_accuracy: 0.8563\n",
      "Epoch 18/40\n",
      "30/30 [==============================] - 6s 206ms/step - loss: 0.0017 - accuracy: 1.0000 - val_loss: 0.5411 - val_accuracy: 0.8562\n",
      "Epoch 19/40\n",
      "30/30 [==============================] - 6s 204ms/step - loss: 0.0015 - accuracy: 1.0000 - val_loss: 0.5508 - val_accuracy: 0.8562\n",
      "Epoch 20/40\n",
      "30/30 [==============================] - 6s 207ms/step - loss: 0.0013 - accuracy: 1.0000 - val_loss: 0.5598 - val_accuracy: 0.8556\n",
      "Epoch 21/40\n",
      "30/30 [==============================] - 6s 208ms/step - loss: 0.0011 - accuracy: 1.0000 - val_loss: 0.5686 - val_accuracy: 0.8554\n",
      "Epoch 22/40\n",
      "30/30 [==============================] - 6s 208ms/step - loss: 0.0010 - accuracy: 1.0000 - val_loss: 0.5767 - val_accuracy: 0.8557\n",
      "Epoch 23/40\n",
      "30/30 [==============================] - 6s 207ms/step - loss: 9.0281e-04 - accuracy: 1.0000 - val_loss: 0.5844 - val_accuracy: 0.8555\n",
      "Epoch 24/40\n",
      "30/30 [==============================] - 6s 206ms/step - loss: 8.1379e-04 - accuracy: 1.0000 - val_loss: 0.5917 - val_accuracy: 0.8552\n",
      "Epoch 25/40\n",
      "30/30 [==============================] - 6s 206ms/step - loss: 7.3708e-04 - accuracy: 1.0000 - val_loss: 0.5991 - val_accuracy: 0.8555\n",
      "Epoch 26/40\n",
      "30/30 [==============================] - 6s 205ms/step - loss: 6.7015e-04 - accuracy: 1.0000 - val_loss: 0.6060 - val_accuracy: 0.8552\n",
      "Epoch 27/40\n",
      "30/30 [==============================] - 6s 208ms/step - loss: 6.1225e-04 - accuracy: 1.0000 - val_loss: 0.6119 - val_accuracy: 0.8545\n",
      "Epoch 28/40\n",
      "30/30 [==============================] - 6s 207ms/step - loss: 5.6141e-04 - accuracy: 1.0000 - val_loss: 0.6184 - val_accuracy: 0.8548\n",
      "Epoch 29/40\n",
      "30/30 [==============================] - 6s 206ms/step - loss: 5.1680e-04 - accuracy: 1.0000 - val_loss: 0.6245 - val_accuracy: 0.8541\n",
      "Epoch 30/40\n",
      "30/30 [==============================] - 6s 204ms/step - loss: 4.7679e-04 - accuracy: 1.0000 - val_loss: 0.6302 - val_accuracy: 0.8545\n",
      "Epoch 31/40\n",
      "30/30 [==============================] - 6s 206ms/step - loss: 4.4185e-04 - accuracy: 1.0000 - val_loss: 0.6359 - val_accuracy: 0.8542\n",
      "Epoch 32/40\n",
      "30/30 [==============================] - 6s 206ms/step - loss: 4.1044e-04 - accuracy: 1.0000 - val_loss: 0.6414 - val_accuracy: 0.8546\n",
      "Epoch 33/40\n",
      "30/30 [==============================] - 6s 204ms/step - loss: 3.8190e-04 - accuracy: 1.0000 - val_loss: 0.6463 - val_accuracy: 0.8543\n",
      "Epoch 34/40\n",
      "30/30 [==============================] - 6s 205ms/step - loss: 3.5598e-04 - accuracy: 1.0000 - val_loss: 0.6517 - val_accuracy: 0.8545\n",
      "Epoch 35/40\n",
      "30/30 [==============================] - 6s 204ms/step - loss: 3.3275e-04 - accuracy: 1.0000 - val_loss: 0.6563 - val_accuracy: 0.8538\n",
      "Epoch 36/40\n",
      "30/30 [==============================] - 6s 205ms/step - loss: 3.1151e-04 - accuracy: 1.0000 - val_loss: 0.6612 - val_accuracy: 0.8542\n",
      "Epoch 37/40\n",
      "30/30 [==============================] - 6s 205ms/step - loss: 2.9221e-04 - accuracy: 1.0000 - val_loss: 0.6659 - val_accuracy: 0.8544\n",
      "Epoch 38/40\n",
      "30/30 [==============================] - 6s 204ms/step - loss: 2.7510e-04 - accuracy: 1.0000 - val_loss: 0.6703 - val_accuracy: 0.8541\n",
      "Epoch 39/40\n",
      "30/30 [==============================] - 6s 204ms/step - loss: 2.5887e-04 - accuracy: 1.0000 - val_loss: 0.6746 - val_accuracy: 0.8540\n",
      "Epoch 40/40\n",
      "30/30 [==============================] - 6s 205ms/step - loss: 2.4460e-04 - accuracy: 1.0000 - val_loss: 0.6793 - val_accuracy: 0.8544\n",
      "782/782 [==============================] - 6s 7ms/step - loss: 0.6760 - accuracy: 0.8530\n",
      "\n",
      "\n",
      "test_loss: 0.6760326027870178 test_accuracy: 0.8529600501060486\n"
     ]
    }
   ],
   "source": [
    "# Train and test the model\n",
    "\n",
    "model_5.compile(optimizer='adam',\n",
    "                loss='binary_crossentropy',\n",
    "                metrics=['accuracy'])\n",
    "\n",
    "history_5 = model_5.fit(partial_X_train,\n",
    "                       partial_y_train,\n",
    "                       epochs=40,\n",
    "                       batch_size=512,\n",
    "                       validation_data=(X_val, y_val),\n",
    "                       verbose=1)\n",
    "\n",
    "results_5 = model_5.evaluate(X_test_enc, y_test)\n",
    "print ('\\n')\n",
    "print('test_loss:', results_5[0], 'test_accuracy:', results_5[1])"
   ]
  },
  {
   "cell_type": "code",
   "execution_count": 47,
   "metadata": {},
   "outputs": [
    {
     "data": {
      "image/png": "[encoded data removed]",
      "text/plain": [
       "<Figure size 720x360 with 2 Axes>"
      ]
     },
     "metadata": {
      "needs_background": "light"
     },
     "output_type": "display_data"
    }
   ],
   "source": [
    "plot_history(history_5.history, path=\"standard.png\")\n",
    "plt.show()"
   ]
  },
  {
   "cell_type": "markdown",
   "metadata": {
    "id": "XkQMLxw-wWG6"
   },
   "source": [
    "## Model 5-2: Adding extra convolutional layer"
   ]
  },
  {
   "cell_type": "code",
   "execution_count": 48,
   "metadata": {},
   "outputs": [
    {
     "name": "stdout",
     "output_type": "stream",
     "text": [
      "Model: \"sequential_8\"\n",
      "_________________________________________________________________\n",
      " Layer (type)                Output Shape              Param #   \n",
      "=================================================================\n",
      " embedding (Embedding)       (None, 256, 300)          3000000   \n",
      "                                                                 \n",
      " conv1d_1 (Conv1D)           (None, 251, 100)          180100    \n",
      "                                                                 \n",
      " conv1d_2 (Conv1D)           (None, 246, 100)          60100     \n",
      "                                                                 \n",
      " global_max_pooling1d_1 (Glo  (None, 100)              0         \n",
      " balMaxPooling1D)                                                \n",
      "                                                                 \n",
      " dense_17 (Dense)            (None, 1)                 101       \n",
      "                                                                 \n",
      "=================================================================\n",
      "Total params: 3,240,301\n",
      "Trainable params: 3,240,301\n",
      "Non-trainable params: 0\n",
      "_________________________________________________________________\n"
     ]
    }
   ],
   "source": [
    "model_5_2 = Sequential()\n",
    "model_5_2.add(Embedding(input_dim = VOCAB_SIZE, \n",
    "                      output_dim = EMBED_SIZE,\n",
    "                      name='embedding', \n",
    "                      input_length = MAX_SEQUENCE_LENGTH))\n",
    "model_5_2.add(Conv1D(filters = 100, kernel_size = 6))\n",
    "model_5_2.add(Conv1D(filters = 100, kernel_size = 6))\n",
    "model_5_2.add(GlobalMaxPooling1D())\n",
    "model_5_2.add(Dense(1, activation = \"sigmoid\"))\n",
    "model_5_2.summary()"
   ]
  },
  {
   "cell_type": "code",
   "execution_count": 49,
   "metadata": {
    "id": "hx8JLl4xPlua",
    "scrolled": true
   },
   "outputs": [
    {
     "name": "stdout",
     "output_type": "stream",
     "text": [
      "Epoch 1/40\n"
     ]
    },
    {
     "name": "stderr",
     "output_type": "stream",
     "text": [
      "2022-03-10 11:50:47.939552: I tensorflow/core/grappler/optimizers/custom_graph_optimizer_registry.cc:113] Plugin optimizer for device_type GPU is enabled.\n"
     ]
    },
    {
     "name": "stdout",
     "output_type": "stream",
     "text": [
      "30/30 [==============================] - ETA: 0s - loss: 0.6283 - accuracy: 0.6492"
     ]
    },
    {
     "name": "stderr",
     "output_type": "stream",
     "text": [
      "2022-03-10 11:50:55.481144: I tensorflow/core/grappler/optimizers/custom_graph_optimizer_registry.cc:113] Plugin optimizer for device_type GPU is enabled.\n"
     ]
    },
    {
     "name": "stdout",
     "output_type": "stream",
     "text": [
      "30/30 [==============================] - 9s 291ms/step - loss: 0.6283 - accuracy: 0.6492 - val_loss: 0.4685 - val_accuracy: 0.7736\n",
      "Epoch 2/40\n",
      "30/30 [==============================] - 9s 297ms/step - loss: 0.3676 - accuracy: 0.8412 - val_loss: 0.3514 - val_accuracy: 0.8491\n",
      "Epoch 3/40\n",
      "30/30 [==============================] - 8s 279ms/step - loss: 0.2240 - accuracy: 0.9169 - val_loss: 0.3620 - val_accuracy: 0.8498\n",
      "Epoch 4/40\n",
      "30/30 [==============================] - 8s 274ms/step - loss: 0.1297 - accuracy: 0.9558 - val_loss: 0.4166 - val_accuracy: 0.8447\n",
      "Epoch 5/40\n",
      "30/30 [==============================] - 8s 277ms/step - loss: 0.0636 - accuracy: 0.9815 - val_loss: 0.5187 - val_accuracy: 0.8423\n",
      "Epoch 6/40\n",
      "30/30 [==============================] - 8s 273ms/step - loss: 0.0300 - accuracy: 0.9928 - val_loss: 0.6049 - val_accuracy: 0.8381\n",
      "Epoch 7/40\n",
      "30/30 [==============================] - 8s 283ms/step - loss: 0.0133 - accuracy: 0.9974 - val_loss: 0.7167 - val_accuracy: 0.8335\n",
      "Epoch 8/40\n",
      "30/30 [==============================] - 8s 255ms/step - loss: 0.0049 - accuracy: 0.9996 - val_loss: 0.7774 - val_accuracy: 0.8353\n",
      "Epoch 9/40\n",
      "30/30 [==============================] - 8s 255ms/step - loss: 0.0019 - accuracy: 0.9999 - val_loss: 0.8416 - val_accuracy: 0.8362\n",
      "Epoch 10/40\n",
      "30/30 [==============================] - 8s 259ms/step - loss: 8.8552e-04 - accuracy: 1.0000 - val_loss: 0.8787 - val_accuracy: 0.8338\n",
      "Epoch 11/40\n",
      "30/30 [==============================] - 8s 257ms/step - loss: 5.9037e-04 - accuracy: 1.0000 - val_loss: 0.9083 - val_accuracy: 0.8357\n",
      "Epoch 12/40\n",
      "30/30 [==============================] - 8s 255ms/step - loss: 4.3234e-04 - accuracy: 1.0000 - val_loss: 0.9338 - val_accuracy: 0.8340\n",
      "Epoch 13/40\n",
      "30/30 [==============================] - 8s 256ms/step - loss: 3.4179e-04 - accuracy: 1.0000 - val_loss: 0.9557 - val_accuracy: 0.8335\n",
      "Epoch 14/40\n",
      "30/30 [==============================] - 8s 256ms/step - loss: 2.8367e-04 - accuracy: 1.0000 - val_loss: 0.9754 - val_accuracy: 0.8334\n",
      "Epoch 15/40\n",
      "30/30 [==============================] - 8s 255ms/step - loss: 2.4128e-04 - accuracy: 1.0000 - val_loss: 0.9934 - val_accuracy: 0.8327\n",
      "Epoch 16/40\n",
      "30/30 [==============================] - 8s 257ms/step - loss: 2.0778e-04 - accuracy: 1.0000 - val_loss: 1.0102 - val_accuracy: 0.8325\n",
      "Epoch 17/40\n",
      "30/30 [==============================] - 8s 255ms/step - loss: 1.8189e-04 - accuracy: 1.0000 - val_loss: 1.0258 - val_accuracy: 0.8322\n",
      "Epoch 18/40\n",
      "30/30 [==============================] - 8s 255ms/step - loss: 1.6028e-04 - accuracy: 1.0000 - val_loss: 1.0399 - val_accuracy: 0.8323\n",
      "Epoch 19/40\n",
      "30/30 [==============================] - 8s 254ms/step - loss: 1.4233e-04 - accuracy: 1.0000 - val_loss: 1.0535 - val_accuracy: 0.8322\n",
      "Epoch 20/40\n",
      "30/30 [==============================] - 8s 257ms/step - loss: 1.2771e-04 - accuracy: 1.0000 - val_loss: 1.0669 - val_accuracy: 0.8325\n",
      "Epoch 21/40\n",
      "30/30 [==============================] - 8s 257ms/step - loss: 1.1523e-04 - accuracy: 1.0000 - val_loss: 1.0784 - val_accuracy: 0.8316\n",
      "Epoch 22/40\n",
      "30/30 [==============================] - 8s 255ms/step - loss: 1.0432e-04 - accuracy: 1.0000 - val_loss: 1.0900 - val_accuracy: 0.8318\n",
      "Epoch 23/40\n",
      "30/30 [==============================] - 8s 255ms/step - loss: 9.5115e-05 - accuracy: 1.0000 - val_loss: 1.1012 - val_accuracy: 0.8315\n",
      "Epoch 24/40\n",
      "30/30 [==============================] - 8s 256ms/step - loss: 8.7058e-05 - accuracy: 1.0000 - val_loss: 1.1118 - val_accuracy: 0.8312\n",
      "Epoch 25/40\n",
      "30/30 [==============================] - 8s 254ms/step - loss: 8.0224e-05 - accuracy: 1.0000 - val_loss: 1.1222 - val_accuracy: 0.8318\n",
      "Epoch 26/40\n",
      "30/30 [==============================] - 8s 254ms/step - loss: 7.3806e-05 - accuracy: 1.0000 - val_loss: 1.1318 - val_accuracy: 0.8311\n",
      "Epoch 27/40\n",
      "30/30 [==============================] - 8s 255ms/step - loss: 6.8224e-05 - accuracy: 1.0000 - val_loss: 1.1414 - val_accuracy: 0.8307\n",
      "Epoch 28/40\n",
      "30/30 [==============================] - 8s 254ms/step - loss: 6.3214e-05 - accuracy: 1.0000 - val_loss: 1.1505 - val_accuracy: 0.8306\n",
      "Epoch 29/40\n",
      "30/30 [==============================] - 8s 254ms/step - loss: 5.8787e-05 - accuracy: 1.0000 - val_loss: 1.1595 - val_accuracy: 0.8304\n",
      "Epoch 30/40\n",
      "30/30 [==============================] - 8s 255ms/step - loss: 5.4831e-05 - accuracy: 1.0000 - val_loss: 1.1678 - val_accuracy: 0.8306\n",
      "Epoch 31/40\n",
      "30/30 [==============================] - 8s 256ms/step - loss: 5.1257e-05 - accuracy: 1.0000 - val_loss: 1.1759 - val_accuracy: 0.8302\n",
      "Epoch 32/40\n",
      "30/30 [==============================] - 8s 256ms/step - loss: 4.8053e-05 - accuracy: 1.0000 - val_loss: 1.1837 - val_accuracy: 0.8299\n",
      "Epoch 33/40\n",
      "30/30 [==============================] - 8s 255ms/step - loss: 4.5141e-05 - accuracy: 1.0000 - val_loss: 1.1918 - val_accuracy: 0.8299\n",
      "Epoch 34/40\n",
      "30/30 [==============================] - 8s 257ms/step - loss: 4.2409e-05 - accuracy: 1.0000 - val_loss: 1.1992 - val_accuracy: 0.8298\n",
      "Epoch 35/40\n",
      "30/30 [==============================] - 8s 254ms/step - loss: 4.0000e-05 - accuracy: 1.0000 - val_loss: 1.2066 - val_accuracy: 0.8299\n",
      "Epoch 36/40\n",
      "30/30 [==============================] - 8s 254ms/step - loss: 3.7674e-05 - accuracy: 1.0000 - val_loss: 1.2136 - val_accuracy: 0.8300\n",
      "Epoch 37/40\n",
      "30/30 [==============================] - 8s 255ms/step - loss: 3.5573e-05 - accuracy: 1.0000 - val_loss: 1.2206 - val_accuracy: 0.8298\n",
      "Epoch 38/40\n",
      "30/30 [==============================] - 8s 254ms/step - loss: 3.3673e-05 - accuracy: 1.0000 - val_loss: 1.2272 - val_accuracy: 0.8299\n",
      "Epoch 39/40\n",
      "30/30 [==============================] - 8s 256ms/step - loss: 3.1938e-05 - accuracy: 1.0000 - val_loss: 1.2339 - val_accuracy: 0.8299\n",
      "Epoch 40/40\n",
      "30/30 [==============================] - 8s 253ms/step - loss: 3.0317e-05 - accuracy: 1.0000 - val_loss: 1.2404 - val_accuracy: 0.8300\n",
      "782/782 [==============================] - 7s 9ms/step - loss: 1.3044 - accuracy: 0.8207\n",
      "\n",
      "\n",
      "test_loss: 1.3044027090072632 test_accuracy: 0.8206800818443298\n"
     ]
    }
   ],
   "source": [
    "# Train and test the model\n",
    "\n",
    "model_5_2.compile(optimizer='adam',\n",
    "               loss='binary_crossentropy',\n",
    "               metrics=['accuracy'])\n",
    "\n",
    "history_5_2 = model_5_2.fit(partial_X_train,\n",
    "                      partial_y_train,\n",
    "                      epochs=40,\n",
    "                      batch_size=512,\n",
    "                      validation_data=(X_val, y_val),\n",
    "                      verbose=1)\n",
    "\n",
    "results_5_2 = model_5_2.evaluate(X_test_enc, y_test)\n",
    "print ('\\n')\n",
    "print('test_loss:', results_5_2[0], 'test_accuracy:', results_5_2[1])"
   ]
  },
  {
   "cell_type": "code",
   "execution_count": 50,
   "metadata": {},
   "outputs": [
    {
     "data": {
      "image/png": "[encoded data removed]",
      "text/plain": [
       "<Figure size 720x360 with 2 Axes>"
      ]
     },
     "metadata": {
      "needs_background": "light"
     },
     "output_type": "display_data"
    }
   ],
   "source": [
    "plot_history(history_5_2.history, path=\"standard.png\")\n",
    "plt.show()"
   ]
  },
  {
   "cell_type": "markdown",
   "metadata": {
    "id": "Kx--Ytk3ZbLo"
   },
   "source": [
    "Although adding layer here reduces the training loss, the evaluation accuracy is worse than the model without the extra convolutional layer.\n",
    "\n",
    "Adding more layers can help us to extract more features. But we can do that up to a certain extent. After some point, instead of extracting features, we tend to overfit the data. Overfitting can lead to errors in on form or another, such as false positives. It is not easy to choose the number of units in a hidden layer or the number of hidden layers in a neural network. For many applications, one hidden layer is enough. As a general rule, the number of units in that hidden layer is between the number of inputs and the number of outputs.\n",
    " The best way to decide on the number of units and hidden layers is to try various parameters. Train several neural networks with different numbers of hidden layers and neurons, and monitor the performance of them. We will have to experiment using a series of different architectures. \n",
    "\n",
    "\n",
    "\n"
   ]
  },
  {
   "cell_type": "markdown",
   "metadata": {
    "id": "gn2GSV4ioyO2"
   },
   "source": [
    "\n",
    "\n",
    "---\n",
    "\n"
   ]
  }
 ],
 "metadata": {
  "accelerator": "GPU",
  "colab": {
   "collapsed_sections": [
    "c8gIzXncfaJK",
    "i_9a_rybhG5J",
    "7GdY2-64YG1B"
   ],
   "machine_shape": "hm",
   "name": "7001_2021_22_lab3_Text_Classification_FFNNCNNLSTM.ipynb",
   "provenance": []
  },
  "kernelspec": {
   "display_name": "Py3",
   "language": "python",
   "name": "py3"
  },
  "language_info": {
   "codemirror_mode": {
    "name": "ipython",
    "version": 3
   },
   "file_extension": ".py",
   "mimetype": "text/x-python",
   "name": "python",
   "nbconvert_exporter": "python",
   "pygments_lexer": "ipython3",
   "version": "3.8.12"
  }
 },
 "nbformat": 4,
 "nbformat_minor": 1
}
