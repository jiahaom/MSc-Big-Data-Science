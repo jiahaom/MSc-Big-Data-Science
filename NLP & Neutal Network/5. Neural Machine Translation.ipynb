{
 "cells": [
  {
   "cell_type": "markdown",
   "metadata": {
    "id": "nZfqzG-psHbd"
   },
   "source": [
    "# 5: Neural Machine Translation"
   ]
  },
  {
   "cell_type": "markdown",
   "metadata": {
    "id": "r9GBwu1PsSR3"
   },
   "source": [
    "We'll be build a neural machine translation model based on the sequence-to-sequence (seq2seq) models proposed by Sutskever et al., 2014 and Cho et al., 2014. The seq2seq model is widely used in machine translation systems such as Google’s neural machine translation system (GNMT) (Wu et al., 2016).\n",
    "\n",
    "We have 3 files:\n",
    "1. **data.30.vi** - a file. each line of the file contains a Vietnamese sentence to be translated (i.e. the source sentences)\n",
    "2. **data.30.en** - a file. each line of the file contains an English sentence corresponding to the Vietnamese sentence in the same line position. (i.e. the target sentences)\n",
    "3. **nmt_model_keras.py** - the incomplete code for this lab.\n",
    "\n",
    "The doc file provided contains an explanation of the code file and a guide on how to complete the code (by doing 3 tasks). "
   ]
  },
  {
   "cell_type": "markdown",
   "metadata": {
    "id": "KyDvxbvTt70n"
   },
   "source": [
    "## **LanguageDict**\n",
    "\n",
    "LanguageDict is a class for creating language dict objects."
   ]
  },
  {
   "cell_type": "markdown",
   "metadata": {
    "id": "AtHvI1pGvMBG"
   },
   "source": [
    "## **The <load_dataset()> Method**\n",
    "\n",
    "This helper method reads from the source and target files to \n",
    "- load max_num_examples sentences, \n",
    "- split the sentences them into train, development and testing, and\n",
    "- return relevant data.\n",
    "The code for this is fully commented. \n",
    "\n",
    "<br>\n",
    "\n",
    "As an example to the kind of ouput returned by this model, let's assume we are translating the sentence 'I like dogs' from English to English (this of course is never the case), such that the tokenized and case normalized source sentence list and target sentence list are as follows:\n",
    "\n",
    "\n",
    "```\n",
    "# In our case this would actually be [['tôi', 'thích', 'thỏ']], i.e the Vietnamese equivalent of the English sentence. \n",
    "# We've used English to English here so we can follow along with the code.\n",
    "source_words = [['i', 'like', 'rabbits']] \n",
    "target_words = [['i', 'like', 'rabbits']]\n",
    "```\n",
    "The word2ids for the source and target language dictionaries would look something like:\n",
    "```\n",
    "source_dict.word2ids = {'<PAD>': 0, '<UNK>': 1, 'i': 2, 'like': 3, 'rabbits':4}\n",
    "\n",
    "# end and start tokens are added for the target words\n",
    "target_dict.word2ids = {'<PAD>': 0, '<UNK>': 1, '<start>': 2, 'i': 3, 'like': 4, 'rabbits':5, '<end>':6}\n",
    "\n",
    "```\n",
    "Let's also assume that we are training and testing on this same dataset of one sentence.\n",
    "The **source words** for train/dev/test will be given as\n",
    "```\n",
    "# a batch_size X max_sent_length array.\n",
    "source_words_train = [[2,3,4]] # corresponding to ['i', 'like', 'rabbits']\n",
    "source_words_dev = [[2,3,4]]  # corresponding to ['i', 'like', 'rabbits']\n",
    "source_words_test = [[2,3,4]] # corresponding to ['i', 'like', 'rabbits']\n",
    "```\n",
    "\n",
    "The **target words** for train data will be given as follows (dev/test don't need target words as the model will provide this):\n",
    "```\n",
    "target_words_train = [[2,3,4,5]] # corresponding to ['<start>', 'i', 'like', 'rabbits']\n",
    "```\n",
    "\n",
    "The **target words labels** for each word will be the word after it. The target word labels for train/dev/test data will be given as follows\n",
    "```\n",
    "target_words_train_labels = [[3,4,5,6]] # corresponding to ['i', 'like', 'rabbits', '<end>']\n",
    "target_words_dev_labels = [[3,4,5,6]] # corresponding to ['i', 'like', 'rabbits', '<end>']\n",
    "target_words_test_labels = [[3,4,5,6]] # corresponding to ['i', 'like', 'rabbits', '<end>']\n",
    "```\n",
    "The dimensions for train target words labels would be expanded to this:\n",
    "`[[3], [4], [5], [6]]`\n",
    "\n",
    "\n",
    "\n",
    "\n"
   ]
  },
  {
   "cell_type": "markdown",
   "metadata": {
    "id": "cc8KZaJn3uBK"
   },
   "source": [
    "## **The Neural Translation Model (NMT)**\n",
    "\n",
    "For the NMT the network (a system of connected layers/models) used for training differs slightly from the network used for inference. Both use the the seq-to-seq encoder-decoder architecture. \n",
    "\n",
    "\n"
   ]
  },
  {
   "cell_type": "markdown",
   "metadata": {
    "id": "sgtz6XAl4E8D"
   },
   "source": [
    "### **The training mode**\n",
    "\n",
    "**Encoder**\n",
    "\n",
    "Given:\n",
    "- `source_words`: a `batch_size(num_sents) x max_sentence_length` array representing the source words. In our mini example, this would be the Vietnamese equivalent of `['i', 'like', 'rabbits']`; `[['tôi', 'thích', 'thỏ']]`\n",
    "\n",
    "The following steps comprise the encoding network:\n",
    "\n",
    "1. transform `source_words` into `source_words_embeddings` using a randomly initialized embedding lookup. source_words_embeddings is thus a `batch_size(num_sents) x max_sentence_length x embedding_dim` array.\n",
    "2. Apply embedding dropout of `embedding_dropout_rate`.\n",
    "3. Use a single `LSTM` with `hidden_size` units to learn a representation for the source words i.e. to encode the input. \n",
    "\n",
    "    (a.) The hidden and cell states for this `LSTM` are initialized to zeros (i.e. we leave the `initial_states = None` default as is).\n",
    "\n",
    "    (b.) We save the `encoder_output` (the sequence not just the last state); and the encoder (hidden and cell) states. \n",
    "\n",
    "This way, the model encodes a representation for the source words. \n",
    "\n",
    "<br>\n",
    "\n",
    "**Decoder (No Attention)**\n",
    "\n",
    "Given:\n",
    "- `target_words`: a `batch_size(i.e.num_sents in batch) x max_sentence_length+1` array representing the target words. This is a time shifted translation of the source words with an added (prepended) `<START>` token `['<start>', 'i', 'like', 'rabbits']`.\n",
    "\n",
    "The decoding is in the following steps:\n",
    "\n",
    "1. transform `target_words` into `target_words_embeddings` using a randomly initialized embedding lookup. target_words_embeddings is thus a `batch_size x max_sentence_length+1 x embedding_dim` array.\n",
    "\n",
    "2.  Apply embedding dropout of `embedding_dropout_rate`.\n",
    "\n",
    "3. Use a single `LSTM` with `hidden_size` units to learn a representation for the target words. Some context is given to this model by using the encoder states to initialize the decoder lstm. This way the encoder state for `'tôi'` for example is used to learn to the representation (and next word prediction, see number 4.) for the `'<start>'` token, and so on.\n",
    "\n",
    "4. For each token representation, use a dense layer to predict a `target_vocab_size` vector which is the probability that any given word in the target vocabulary is the next word following the represented token. The output `decoder_outputs_train` is thus a `batch_size x max_sent_length x target_vocab_size` array.\n"
   ]
  },
  {
   "cell_type": "markdown",
   "metadata": {
    "id": "-4tsMpCYJUk1"
   },
   "source": [
    "### **The Inference Mode**\n",
    "\n",
    "**Encoder**\n",
    "\n",
    "The inference time encoding follows the same steps as training time encoding.\n",
    "\n",
    "<br>\n",
    "\n",
    "**Decoder (No attention)**\n",
    "\n",
    "During training time, we passed a `batch_size(num_sents) x max_sentence_length` array representing the target words into the decoder lstm. The decoder_lstm learns how to represent a given target sentence using the context from the encoder lstm (that learns to represent a source sentence).  \n",
    "\n",
    "At test time, several things are different:\n",
    "\n",
    "1. We no longer have access to a complete translation of the source sentence (recall that no target_words array exists for dev and test sets). Rather, we initialize the target_words_array as thus:\n",
    "\n",
    "    Each expected sentence contains only a single token index, the index of the `'<start>'` token. So, the target_word_dev/test is a `batch_size x 1` array. (see the nmt.eval() function for this)\n",
    "\n",
    "2. This `batch_size x 1` array is fed to the trained decoder_lstm and the predicted array is a `batch_size x 1 x target_vocab_size` such that taking the argmax of this array accross the dimension 2 will give the most probable next word. \n",
    "\n",
    "    For example, at time_step `0`, the first time step, where the `step_target_words` given is the `batch_size x 1` array containing the `'<start>'` token, the next word prediction of the decoder is for each sentence (in the batch) the initial word in the sentence. \n",
    "\n",
    "3. At the first time step, the decoder_lstm still uses the encoder_states as it's initial states. At subsequent time steps, it uses it's own states from the previous time steps. This is also what the decoder_lstm does at training time but it is made more explicit here as we loop over time steps using a for loop.\n",
    "\n",
    "\n",
    "\n"
   ]
  },
  {
   "cell_type": "markdown",
   "metadata": {
    "id": "wFIKOF5sed68"
   },
   "source": [
    "## **Training Without Attention**"
   ]
  },
  {
   "cell_type": "code",
   "execution_count": 1,
   "metadata": {
    "colab": {
     "base_uri": "https://localhost:8080/"
    },
    "id": "8V5YoFP3yQO-",
    "outputId": "3c682327-ee8c-4f81-fd18-ca6004ec76af"
   },
   "outputs": [
    {
     "name": "stdout",
     "output_type": "stream",
     "text": [
      "Mounted at /content/drive/\n"
     ]
    }
   ],
   "source": [
    "from google.colab import drive\n",
    "drive.mount('/content/drive/')"
   ]
  },
  {
   "cell_type": "code",
   "execution_count": 1,
   "metadata": {
    "id": "upXa_erqyzKm"
   },
   "outputs": [],
   "source": [
    "PATH = 'My Drive/NLP/nmt_lab_files/' "
   ]
  },
  {
   "cell_type": "code",
   "execution_count": 3,
   "metadata": {
    "id": "ffbGcgrRy7p6"
   },
   "outputs": [],
   "source": [
    "PATH_TO_FOLDER = \"/content/drive/\" + PATH"
   ]
  },
  {
   "cell_type": "code",
   "execution_count": 4,
   "metadata": {
    "id": "XfSgKakK0QgV"
   },
   "outputs": [],
   "source": [
    "import sys\n",
    "sys.path.append(PATH_TO_FOLDER)"
   ]
  },
  {
   "cell_type": "code",
   "execution_count": 5,
   "metadata": {
    "id": "NmSgv44y0TN9"
   },
   "outputs": [],
   "source": [
    "SOURCE_PATH = PATH_TO_FOLDER + 'data.30.vi'\n",
    "TARGET_PATH = PATH_TO_FOLDER + 'data.30.en'"
   ]
  },
  {
   "cell_type": "code",
   "execution_count": 6,
   "metadata": {
    "id": "OOTMtc_l0_ut"
   },
   "outputs": [],
   "source": [
    "import nmt_model_keras as nmt "
   ]
  },
  {
   "cell_type": "code",
   "execution_count": 7,
   "metadata": {
    "colab": {
     "base_uri": "https://localhost:8080/"
    },
    "id": "IsO7wW6U1w2m",
    "outputId": "db1d6fd9-9fbb-4668-e304-148e9d5cfdf3"
   },
   "outputs": [
    {
     "name": "stdout",
     "output_type": "stream",
     "text": [
      "loading dictionaries\n",
      "read 24000/3000/3000 train/dev/test batches\n",
      "number of tokens in source: 2034, number of tokens in target:2506\n",
      "Task 1(a): Creating the embedding lookups...\n",
      "\n",
      "Task 1(b): Looking up source and target words...\n",
      "\n",
      "Task 1(c): Creating an encoder\n",
      "WARNING:tensorflow:Layer encoder_layer will not use cuDNN kernels since it doesn't meet the criteria. It will use a generic GPU kernel as fallback when running on GPU.\n",
      "WARNING:tensorflow:Layer decoder_layer will not use cuDNN kernels since it doesn't meet the criteria. It will use a generic GPU kernel as fallback when running on GPU.\n",
      "\t\t\t\t\t\t Train Model Summary.\n",
      "Model: \"model\"\n",
      "__________________________________________________________________________________________________\n",
      " Layer (type)                   Output Shape         Param #     Connected to                     \n",
      "==================================================================================================\n",
      " input_1 (InputLayer)           [(None, None)]       0           []                               \n",
      "                                                                                                  \n",
      " input_2 (InputLayer)           [(None, None)]       0           []                               \n",
      "                                                                                                  \n",
      " embedding (Embedding)          (None, None, 100)    203400      ['input_1[0][0]']                \n",
      "                                                                                                  \n",
      " embedding_1 (Embedding)        (None, None, 100)    250600      ['input_2[0][0]']                \n",
      "                                                                                                  \n",
      " dropout (Dropout)              (None, None, 100)    0           ['embedding[0][0]']              \n",
      "                                                                                                  \n",
      " dropout_1 (Dropout)            (None, None, 100)    0           ['embedding_1[0][0]']            \n",
      "                                                                                                  \n",
      " encoder_layer (LSTM)           [(None, None, 200),  240800      ['dropout[0][0]']                \n",
      "                                 (None, 200),                                                     \n",
      "                                 (None, 200)]                                                     \n",
      "                                                                                                  \n",
      " decoder_layer (LSTM)           [(None, None, 200),  240800      ['dropout_1[0][0]',              \n",
      "                                 (None, 200),                     'encoder_layer[0][1]',          \n",
      "                                 (None, 200)]                     'encoder_layer[0][2]']          \n",
      "                                                                                                  \n",
      " decoder_dense (Dense)          (None, None, 2506)   503706      ['decoder_layer[0][0]']          \n",
      "                                                                                                  \n",
      "==================================================================================================\n",
      "Total params: 1,439,306\n",
      "Trainable params: 1,439,306\n",
      "Non-trainable params: 0\n",
      "__________________________________________________________________________________________________\n",
      "\t\t\t\t\t\t Inference Time Encoder Model Summary.\n",
      "Model: \"model_1\"\n",
      "_________________________________________________________________\n",
      " Layer (type)                Output Shape              Param #   \n",
      "=================================================================\n",
      " input_1 (InputLayer)        [(None, None)]            0         \n",
      "                                                                 \n",
      " embedding (Embedding)       (None, None, 100)         203400    \n",
      "                                                                 \n",
      " dropout (Dropout)           (None, None, 100)         0         \n",
      "                                                                 \n",
      " encoder_layer (LSTM)        [(None, None, 200),       240800    \n",
      "                              (None, 200),                       \n",
      "                              (None, 200)]                       \n",
      "                                                                 \n",
      "=================================================================\n",
      "Total params: 444,200\n",
      "Trainable params: 444,200\n",
      "Non-trainable params: 0\n",
      "_________________________________________________________________\n"
     ]
    },
    {
     "name": "stderr",
     "output_type": "stream",
     "text": [
      "/usr/local/lib/python3.7/dist-packages/keras/optimizer_v2/adam.py:105: UserWarning: The `lr` argument is deprecated, use `learning_rate` instead.\n",
      "  super(Adam, self).__init__(name, **kwargs)\n"
     ]
    },
    {
     "name": "stdout",
     "output_type": "stream",
     "text": [
      "\n",
      " Putting together the decoder states\n",
      "\t\t\t\t\t\t Decoder Inference Model summary\n",
      "Model: \"model_2\"\n",
      "__________________________________________________________________________________________________\n",
      " Layer (type)                   Output Shape         Param #     Connected to                     \n",
      "==================================================================================================\n",
      " input_2 (InputLayer)           [(None, None)]       0           []                               \n",
      "                                                                                                  \n",
      " embedding_1 (Embedding)        (None, None, 100)    250600      ['input_2[0][0]']                \n",
      "                                                                                                  \n",
      " dropout_1 (Dropout)            (None, None, 100)    0           ['embedding_1[0][0]']            \n",
      "                                                                                                  \n",
      " input_3 (InputLayer)           [(None, 200)]        0           []                               \n",
      "                                                                                                  \n",
      " input_4 (InputLayer)           [(None, 200)]        0           []                               \n",
      "                                                                                                  \n",
      " decoder_layer (LSTM)           [(None, None, 200),  240800      ['dropout_1[0][0]',              \n",
      "                                 (None, 200),                     'input_3[0][0]',                \n",
      "                                 (None, 200)]                     'input_4[0][0]']                \n",
      "                                                                                                  \n",
      " input_5 (InputLayer)           [(None, None, 200)]  0           []                               \n",
      "                                                                                                  \n",
      " decoder_dense (Dense)          (None, None, 2506)   503706      ['decoder_layer[1][0]']          \n",
      "                                                                                                  \n",
      "==================================================================================================\n",
      "Total params: 995,106\n",
      "Trainable params: 995,106\n",
      "Non-trainable params: 0\n",
      "__________________________________________________________________________________________________\n",
      "None\n",
      "Starting training epoch 1/10\n",
      "240/240 [==============================] - 49s 179ms/step - loss: 2.1113 - accuracy: 0.2486\n",
      "Time used for epoch 1: 1 m 25 s\n",
      "Evaluating on dev set after epoch 1/10:\n",
      "Model BLEU score: 2.21\n",
      "Time used for evaluate on dev set: 0 m 9 s\n",
      "Starting training epoch 2/10\n",
      "240/240 [==============================] - 42s 174ms/step - loss: 1.8069 - accuracy: 0.3123\n",
      "Time used for epoch 2: 1 m 21 s\n",
      "Evaluating on dev set after epoch 2/10:\n",
      "Model BLEU score: 3.23\n",
      "Time used for evaluate on dev set: 0 m 7 s\n",
      "Starting training epoch 3/10\n",
      "240/240 [==============================] - 42s 175ms/step - loss: 1.6777 - accuracy: 0.3490\n",
      "Time used for epoch 3: 1 m 21 s\n",
      "Evaluating on dev set after epoch 3/10:\n",
      "Model BLEU score: 3.86\n",
      "Time used for evaluate on dev set: 0 m 7 s\n",
      "Starting training epoch 4/10\n",
      "240/240 [==============================] - 43s 179ms/step - loss: 1.5949 - accuracy: 0.3680\n",
      "Time used for epoch 4: 0 m 43 s\n",
      "Evaluating on dev set after epoch 4/10:\n",
      "Model BLEU score: 4.57\n",
      "Time used for evaluate on dev set: 0 m 7 s\n",
      "Starting training epoch 5/10\n",
      "240/240 [==============================] - 44s 184ms/step - loss: 1.5392 - accuracy: 0.3788\n",
      "Time used for epoch 5: 1 m 21 s\n",
      "Evaluating on dev set after epoch 5/10:\n",
      "Model BLEU score: 4.74\n",
      "Time used for evaluate on dev set: 0 m 7 s\n",
      "Starting training epoch 6/10\n",
      "240/240 [==============================] - 44s 182ms/step - loss: 1.4942 - accuracy: 0.3868\n",
      "Time used for epoch 6: 1 m 21 s\n",
      "Evaluating on dev set after epoch 6/10:\n",
      "Model BLEU score: 5.37\n",
      "Time used for evaluate on dev set: 0 m 7 s\n",
      "Starting training epoch 7/10\n",
      "240/240 [==============================] - 43s 178ms/step - loss: 1.4606 - accuracy: 0.3921\n",
      "Time used for epoch 7: 1 m 21 s\n",
      "Evaluating on dev set after epoch 7/10:\n",
      "Model BLEU score: 5.20\n",
      "Time used for evaluate on dev set: 0 m 7 s\n",
      "Starting training epoch 8/10\n",
      "240/240 [==============================] - 43s 179ms/step - loss: 1.4332 - accuracy: 0.3961\n",
      "Time used for epoch 8: 1 m 21 s\n",
      "Evaluating on dev set after epoch 8/10:\n",
      "Model BLEU score: 5.78\n",
      "Time used for evaluate on dev set: 0 m 8 s\n",
      "Starting training epoch 9/10\n",
      "240/240 [==============================] - 43s 178ms/step - loss: 1.4088 - accuracy: 0.3995\n",
      "Time used for epoch 9: 1 m 21 s\n",
      "Evaluating on dev set after epoch 9/10:\n",
      "Model BLEU score: 5.76\n",
      "Time used for evaluate on dev set: 0 m 8 s\n",
      "Starting training epoch 10/10\n",
      "240/240 [==============================] - 44s 183ms/step - loss: 1.3897 - accuracy: 0.4024\n",
      "Time used for epoch 10: 1 m 21 s\n",
      "Evaluating on dev set after epoch 10/10:\n",
      "Model BLEU score: 5.80\n",
      "Time used for evaluate on dev set: 0 m 8 s\n",
      "Training finished!\n",
      "Time used for training: 14 m 27 s\n",
      "Evaluating on test set:\n",
      "Model BLEU score: 6.14\n",
      "Time used for evaluate on test set: 0 m 8 s\n"
     ]
    }
   ],
   "source": [
    "nmt.main(SOURCE_PATH, TARGET_PATH, use_attention=False)"
   ]
  },
  {
   "cell_type": "markdown",
   "metadata": {
    "id": "dlMDC3DJi12c"
   },
   "source": [
    "## **Decoding with Attention**"
   ]
  },
  {
   "cell_type": "markdown",
   "metadata": {
    "id": "4cQKwvFqurVY"
   },
   "source": [
    "The inputs to the attention layer are encoder and decoder outputs. The attention mechanism:\n",
    "1. Computes a score (a luong score) for each source word\n",
    "2. Weights the words by their luong scores.\n",
    "3. Concatenates the wieghted encoder representation with the decoder_ouput.\n",
    "This new decoder output will now be the input to the decoder_dense layer. "
   ]
  },
  {
   "cell_type": "code",
   "execution_count": 8,
   "metadata": {
    "colab": {
     "base_uri": "https://localhost:8080/"
    },
    "id": "fqCwK46Hz6ku",
    "outputId": "8b8849e1-1191-40dd-8579-7b144bc245c2",
    "scrolled": true
   },
   "outputs": [
    {
     "name": "stdout",
     "output_type": "stream",
     "text": [
      "loading dictionaries\n",
      "read 24000/3000/3000 train/dev/test batches\n",
      "number of tokens in source: 2034, number of tokens in target:2506\n",
      "Task 1(a): Creating the embedding lookups...\n",
      "\n",
      "Task 1(b): Looking up source and target words...\n",
      "\n",
      "Task 1(c): Creating an encoder\n",
      "WARNING:tensorflow:Layer encoder_layer will not use cuDNN kernels since it doesn't meet the criteria. It will use a generic GPU kernel as fallback when running on GPU.\n",
      "WARNING:tensorflow:Layer decoder_layer will not use cuDNN kernels since it doesn't meet the criteria. It will use a generic GPU kernel as fallback when running on GPU.\n",
      "\t\t\t\t\t\t Train Model Summary.\n",
      "Model: \"model_3\"\n",
      "__________________________________________________________________________________________________\n",
      " Layer (type)                   Output Shape         Param #     Connected to                     \n",
      "==================================================================================================\n",
      " input_6 (InputLayer)           [(None, None)]       0           []                               \n",
      "                                                                                                  \n",
      " embedding_2 (Embedding)        (None, None, 100)    203400      ['input_6[0][0]']                \n",
      "                                                                                                  \n",
      " input_7 (InputLayer)           [(None, None)]       0           []                               \n",
      "                                                                                                  \n",
      " dropout_2 (Dropout)            (None, None, 100)    0           ['embedding_2[0][0]']            \n",
      "                                                                                                  \n",
      " embedding_3 (Embedding)        (None, None, 100)    250600      ['input_7[0][0]']                \n",
      "                                                                                                  \n",
      " encoder_layer (LSTM)           [(None, None, 200),  240800      ['dropout_2[0][0]']              \n",
      "                                 (None, 200),                                                     \n",
      "                                 (None, 200)]                                                     \n",
      "                                                                                                  \n",
      " dropout_3 (Dropout)            (None, None, 100)    0           ['embedding_3[0][0]']            \n",
      "                                                                                                  \n",
      " decoder_layer (LSTM)           [(None, None, 200),  240800      ['dropout_3[0][0]',              \n",
      "                                 (None, 200),                     'encoder_layer[0][1]',          \n",
      "                                 (None, 200)]                     'encoder_layer[0][2]']          \n",
      "                                                                                                  \n",
      " attention_layer (AttentionLaye  (None, None, 400)   0           ['encoder_layer[0][0]',          \n",
      " r)                                                               'decoder_layer[0][0]']          \n",
      "                                                                                                  \n",
      " decoder_dense (Dense)          (None, None, 2506)   1004906     ['attention_layer[0][0]']        \n",
      "                                                                                                  \n",
      "==================================================================================================\n",
      "Total params: 1,940,506\n",
      "Trainable params: 1,940,506\n",
      "Non-trainable params: 0\n",
      "__________________________________________________________________________________________________\n",
      "\t\t\t\t\t\t Inference Time Encoder Model Summary.\n",
      "Model: \"model_4\"\n",
      "_________________________________________________________________\n",
      " Layer (type)                Output Shape              Param #   \n",
      "=================================================================\n",
      " input_6 (InputLayer)        [(None, None)]            0         \n",
      "                                                                 \n",
      " embedding_2 (Embedding)     (None, None, 100)         203400    \n",
      "                                                                 \n",
      " dropout_2 (Dropout)         (None, None, 100)         0         \n",
      "                                                                 \n",
      " encoder_layer (LSTM)        [(None, None, 200),       240800    \n",
      "                              (None, 200),                       \n",
      "                              (None, 200)]                       \n",
      "                                                                 \n",
      "=================================================================\n",
      "Total params: 444,200\n",
      "Trainable params: 444,200\n",
      "Non-trainable params: 0\n",
      "_________________________________________________________________\n"
     ]
    },
    {
     "name": "stderr",
     "output_type": "stream",
     "text": [
      "/usr/local/lib/python3.7/dist-packages/keras/optimizer_v2/adam.py:105: UserWarning: The `lr` argument is deprecated, use `learning_rate` instead.\n",
      "  super(Adam, self).__init__(name, **kwargs)\n"
     ]
    },
    {
     "name": "stdout",
     "output_type": "stream",
     "text": [
      "\n",
      " Putting together the decoder states\n",
      "\t\t\t\t\t\t Decoder Inference Model summary\n",
      "Model: \"model_5\"\n",
      "__________________________________________________________________________________________________\n",
      " Layer (type)                   Output Shape         Param #     Connected to                     \n",
      "==================================================================================================\n",
      " input_7 (InputLayer)           [(None, None)]       0           []                               \n",
      "                                                                                                  \n",
      " embedding_3 (Embedding)        (None, None, 100)    250600      ['input_7[0][0]']                \n",
      "                                                                                                  \n",
      " dropout_3 (Dropout)            (None, None, 100)    0           ['embedding_3[0][0]']            \n",
      "                                                                                                  \n",
      " input_8 (InputLayer)           [(None, 200)]        0           []                               \n",
      "                                                                                                  \n",
      " input_9 (InputLayer)           [(None, 200)]        0           []                               \n",
      "                                                                                                  \n",
      " input_10 (InputLayer)          [(None, None, 200)]  0           []                               \n",
      "                                                                                                  \n",
      " decoder_layer (LSTM)           [(None, None, 200),  240800      ['dropout_3[0][0]',              \n",
      "                                 (None, 200),                     'input_8[0][0]',                \n",
      "                                 (None, 200)]                     'input_9[0][0]']                \n",
      "                                                                                                  \n",
      " attention_layer_1 (AttentionLa  (None, None, 400)   0           ['input_10[0][0]',               \n",
      " yer)                                                             'decoder_layer[1][0]']          \n",
      "                                                                                                  \n",
      " decoder_dense (Dense)          (None, None, 2506)   1004906     ['attention_layer_1[0][0]']      \n",
      "                                                                                                  \n",
      "==================================================================================================\n",
      "Total params: 1,496,306\n",
      "Trainable params: 1,496,306\n",
      "Non-trainable params: 0\n",
      "__________________________________________________________________________________________________\n",
      "None\n",
      "Starting training epoch 1/10\n",
      "240/240 [==============================] - 48s 182ms/step - loss: 2.0593 - accuracy: 0.2658\n",
      "Time used for epoch 1: 0 m 47 s\n",
      "Evaluating on dev set after epoch 1/10:\n",
      "Model BLEU score: 4.15\n",
      "Time used for evaluate on dev set: 0 m 9 s\n",
      "Starting training epoch 2/10\n",
      "240/240 [==============================] - 44s 185ms/step - loss: 1.5943 - accuracy: 0.3918\n",
      "Time used for epoch 2: 1 m 21 s\n",
      "Evaluating on dev set after epoch 2/10:\n",
      "Model BLEU score: 10.03\n",
      "Time used for evaluate on dev set: 0 m 8 s\n",
      "Starting training epoch 3/10\n",
      "240/240 [==============================] - 44s 183ms/step - loss: 1.3420 - accuracy: 0.4490\n",
      "Time used for epoch 3: 1 m 21 s\n",
      "Evaluating on dev set after epoch 3/10:\n",
      "Model BLEU score: 12.40\n",
      "Time used for evaluate on dev set: 0 m 8 s\n",
      "Starting training epoch 4/10\n",
      "240/240 [==============================] - 44s 183ms/step - loss: 1.1982 - accuracy: 0.4785\n",
      "Time used for epoch 4: 1 m 21 s\n",
      "Evaluating on dev set after epoch 4/10:\n",
      "Model BLEU score: 13.53\n",
      "Time used for evaluate on dev set: 0 m 8 s\n",
      "Starting training epoch 5/10\n",
      "240/240 [==============================] - 44s 182ms/step - loss: 1.1079 - accuracy: 0.4990\n",
      "Time used for epoch 5: 1 m 21 s\n",
      "Evaluating on dev set after epoch 5/10:\n",
      "Model BLEU score: 14.40\n",
      "Time used for evaluate on dev set: 0 m 8 s\n",
      "Starting training epoch 6/10\n",
      "240/240 [==============================] - 44s 182ms/step - loss: 1.0465 - accuracy: 0.5149\n",
      "Time used for epoch 6: 1 m 21 s\n",
      "Evaluating on dev set after epoch 6/10:\n",
      "Model BLEU score: 14.52\n",
      "Time used for evaluate on dev set: 0 m 8 s\n",
      "Starting training epoch 7/10\n",
      "240/240 [==============================] - 44s 183ms/step - loss: 1.0011 - accuracy: 0.5270\n",
      "Time used for epoch 7: 0 m 43 s\n",
      "Evaluating on dev set after epoch 7/10:\n",
      "Model BLEU score: 14.75\n",
      "Time used for evaluate on dev set: 0 m 8 s\n",
      "Starting training epoch 8/10\n",
      "240/240 [==============================] - 43s 181ms/step - loss: 0.9643 - accuracy: 0.5368\n",
      "Time used for epoch 8: 0 m 43 s\n",
      "Evaluating on dev set after epoch 8/10:\n",
      "Model BLEU score: 15.46\n",
      "Time used for evaluate on dev set: 0 m 8 s\n",
      "Starting training epoch 9/10\n",
      "240/240 [==============================] - 44s 183ms/step - loss: 0.9346 - accuracy: 0.5455\n",
      "Time used for epoch 9: 1 m 21 s\n",
      "Evaluating on dev set after epoch 9/10:\n",
      "Model BLEU score: 14.75\n",
      "Time used for evaluate on dev set: 0 m 8 s\n",
      "Starting training epoch 10/10\n",
      "240/240 [==============================] - 44s 183ms/step - loss: 0.9117 - accuracy: 0.5509\n",
      "Time used for epoch 10: 1 m 21 s\n",
      "Evaluating on dev set after epoch 10/10:\n",
      "Model BLEU score: 15.18\n",
      "Time used for evaluate on dev set: 0 m 8 s\n",
      "Training finished!\n",
      "Time used for training: 13 m 12 s\n",
      "Evaluating on test set:\n",
      "Model BLEU score: 15.41\n",
      "Time used for evaluate on test set: 0 m 8 s\n"
     ]
    }
   ],
   "source": [
    "nmt.main(SOURCE_PATH, TARGET_PATH, use_attention=True)"
   ]
  },
  {
   "cell_type": "markdown",
   "metadata": {},
   "source": [
    "### Encoder\n",
    "```Python\n",
    "# The train encoder need two Embedding layers (one for source language and one for target language)\n",
    "    # Then pass the embedding for the source language into a LSTM layer.\n",
    "\n",
    "    # (a.) Create two randomly initialized embedding lookups, one for the source, another for the target.\n",
    "    print('Task 1(a): Creating the embedding lookups...')\n",
    "    embeddings_source = Embedding(input_dim = self.vocab_source_size,\n",
    "                                        output_dim = self.embedding_size,\n",
    "                                        mask_zero = True)(source_words)\n",
    "\n",
    "    embeddings_target = Embedding(input_dim = self.vocab_target_size,\n",
    "                                        output_dim = self.embedding_size,\n",
    "                                        mask_zero = True)(target_words)\n",
    "\n",
    "    # (b.) Look up the embeddings for source words and for target words. Apply dropout to each encoded input\n",
    "    print('\\nTask 1(b): Looking up source and target words...')\n",
    "    source_word_embeddings = Dropout(self.embedding_dropout_rate)(embeddings_source)\n",
    "\n",
    "    target_words_embeddings = Dropout(self.embedding_dropout_rate)(embeddings_target)\n",
    "\n",
    "    # (c.) An encoder LSTM() with return sequences set to True\n",
    "    print('\\nTask 1(c): Creating an encoder')\n",
    "\n",
    "    encoder_lstm = LSTM(self.hidden_size,\n",
    "                        recurrent_dropout=self.hidden_dropout_rate,\n",
    "                        return_sequences=True,\n",
    "                        return_state=True,\n",
    "                        name = 'encoder_layer')\n",
    "\n",
    "    encoder_outputs, encoder_state_h, encoder_state_c = encoder_lstm(source_word_embeddings, initial_state = None)\n",
    "\n",
    "```"
   ]
  },
  {
   "cell_type": "markdown",
   "metadata": {},
   "source": [
    "### Decoder\n",
    "```Python\n",
    "# Get the decoded outputs\n",
    "    print('\\n Putting together the decoder states')\n",
    "\n",
    "    # get the inititial states for the decoder, decoder_states\n",
    "    # decoder states are the hidden and cell states from the training stage\n",
    "    decoder_states = [decoder_state_input_h, decoder_state_input_c]\n",
    "\n",
    "    # use decoder states as input to the decoder lstm to get the decoder outputs, h, and c for test time inference\n",
    "    # pass the target_word_embeddings and decoder_states to the decoder_lstm.\n",
    "    decoder_outputs_test, decoder_state_output_h, decoder_state_output_c = decoder_lstm(target_words_embeddings, initial_state = decoder_states)\n",
    "\n",
    "    # pass the attention layer into the decoder_dense to assign probabilities of the next tokens.\n",
    "    if self.use_attention:\n",
    "        decoder_attention = AttentionLayer()\n",
    "        decoder_outputs_test = decoder_attention([encoder_outputs_input,decoder_outputs_test])\n",
    "\n",
    "    # pass the output of the LSTM into the decoder_dense to assign probabilities of the next tokens.\n",
    "    decoder_outputs_test = decoder_dense(decoder_outputs_test)\n",
    "```"
   ]
  },
  {
   "cell_type": "markdown",
   "metadata": {},
   "source": [
    "###  Attention Decoder\n",
    "```Python\n",
    "    # attention decoder enables the decoder to access all encoder outputs\n",
    "    # focus on different parts of the encoder outputs during different steps.\n",
    "\n",
    "    # decoder_outputs has [batch_size, max_target_sent_len, hidden_size]\n",
    "    # encoder_outputs has [batch_size, max_source_sent_len, hidden_size]\n",
    "    # caculate the luong_score\n",
    "    luong_score = tf.matmul(decoder_outputs, encoder_outputs, transpose_b=True)\n",
    "\n",
    "    # apply a softmax to the dimension that have a size of max_sourse_sent_len\n",
    "    luong_score = tf.nn.softmax(luong_score, axis=2)\n",
    "\n",
    "    # prepare for element-wise multiplication\n",
    "    luong_score = K.expand_dims(luong_score, axis=2)\n",
    "    encoder_outputs = K.expand_dims(encoder_outputs, axis=1)\n",
    "    encoder_outputs = tf.matmul(luong_score, encoder_outputs)\n",
    "\n",
    "    # sum the max_source_sent_len dimension to create the encoder_vector\n",
    "    encoder_vector = K.squeeze(encoder_outputs,axis=2)\n",
    "```"
   ]
  },
  {
   "cell_type": "code",
   "execution_count": null,
   "metadata": {},
   "outputs": [],
   "source": []
  }
 ],
 "metadata": {
  "accelerator": "GPU",
  "colab": {
   "collapsed_sections": [],
   "name": "Lab5_6_Neural Machine Translation.ipynb",
   "provenance": []
  },
  "kernelspec": {
   "display_name": "Python 3 (ipykernel)",
   "language": "python",
   "name": "python3"
  },
  "language_info": {
   "codemirror_mode": {
    "name": "ipython",
    "version": 3
   },
   "file_extension": ".py",
   "mimetype": "text/x-python",
   "name": "python",
   "nbconvert_exporter": "python",
   "pygments_lexer": "ipython3",
   "version": "3.8.12"
  }
 },
 "nbformat": 4,
 "nbformat_minor": 1
}
