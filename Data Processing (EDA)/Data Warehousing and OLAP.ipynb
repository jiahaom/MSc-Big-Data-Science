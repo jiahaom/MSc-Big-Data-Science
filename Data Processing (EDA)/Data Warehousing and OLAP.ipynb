{
 "cells": [
  {
   "cell_type": "markdown",
   "metadata": {},
   "source": [
    "# 4: Data Warehousing and On-line Analytical Processing"
   ]
  },
  {
   "cell_type": "markdown",
   "metadata": {},
   "source": [
    "## What I can do:\n",
    "- Data Warehousing\n",
    "- On-line Analytical Processing (OLAP)"
   ]
  },
  {
   "cell_type": "markdown",
   "metadata": {},
   "source": [
    "## 1. Introduction to Cubes\n",
    "\n",
    "This chapter describes step-by-step how to use Cubes (http://cubes.databrewery.org/), a lightweight Python framework and set of tools for development of reporting and analytical applications, Online Analytical Processing (OLAP), multidimensional analysis and browsing of aggregated data. We will be working with v1.1 of Cubes. Cubes features:\n",
    "- a logical view of analysed data - how analysts look at data, how they think of data, not not how the data are physically implemented in the data stores\n",
    "- OLAP and aggregated browsing (default backend is for relational databse - ROLAP)\n",
    "- hierarchical dimensions (attributes that have hierarchical dependencies, such as category-subcategory or country-region)\n",
    "- multiple hierarchies in a dimension\n",
    "- localizable metadata and data (see Localization)\n",
    "- authentication and authorization of cubes and their data\n",
    "- pluggable data warehouse – plug-in other cube-like (multidimensional) data sources\n",
    "\n",
    "Cubes is meant to be used by application builders that want to provide analytical functionality. Cubes also relies on methods from SQLAlchemy (https://www.sqlalchemy.org/), an open-source SQL toolkit and object-relational mapper for Python."
   ]
  },
  {
   "cell_type": "markdown",
   "metadata": {},
   "source": [
    "## 2. Data Preparation\n",
    "\n",
    "The example data used here is the International Bank for Reconstruction and Development (IBRD) Balance Sheet. For this example we will be using the CSV file \"IBRD_Balance_Sheet__FY2010.csv\" which is provided in the supplementary material for the lab. The CSV file includes records which are characterised by a Category (and subcategories), Line Item, Fiscal Year, and Amount (in US$ millions). We first start with imports:"
   ]
  },
  {
   "cell_type": "code",
   "execution_count": 1,
   "metadata": {},
   "outputs": [],
   "source": [
    "from sqlalchemy import create_engine\n",
    "from cubes.tutorial.sql import create_table_from_csv"
   ]
  },
  {
   "cell_type": "markdown",
   "metadata": {},
   "source": [
    "We can now load the data, create a table and populate it with contents of the CSV file. Note the categories and subcategories created; check the CSV file to link the below commands with the contents of the dataset."
   ]
  },
  {
   "cell_type": "code",
   "execution_count": 2,
   "metadata": {},
   "outputs": [],
   "source": [
    "engine = create_engine('sqlite:///data.sqlite')\n",
    "create_table_from_csv(engine,\n",
    "                      \"IBRD_Balance_Sheet__FY2010.csv\",\n",
    "                      table_name=\"ibrd_balance\",\n",
    "                      fields=[\n",
    "                          (\"category\", \"string\"),\n",
    "                          (\"category_label\", \"string\"),\n",
    "                          (\"subcategory\", \"string\"),\n",
    "                          (\"subcategory_label\", \"string\"),\n",
    "                          (\"line_item\", \"string\"),\n",
    "                          (\"year\", \"integer\"),\n",
    "                          (\"amount\", \"integer\")],\n",
    "                      create_id=True\n",
    "                     )\n",
    "\n",
    "# create a table, and assign a name (ibrd_balance)\n",
    "# fields: our priginal dataset has the labels, here we just assign the type for them"
   ]
  },
  {
   "cell_type": "markdown",
   "metadata": {},
   "source": [
    "## 3. Creating a data cube\n",
    "\n",
    "Everything in Cubes happens in an *analytical workspace*. It contains cubes, maintains connections to the data stores (with cube data), provides connection to external cubes and more.\n",
    "\n",
    "The workspace properties are specified in a configuration file slicer.ini (default name). The first thing we have to do is to specify a data store – a database which will host the cube’s data:"
   ]
  },
  {
   "cell_type": "code",
   "execution_count": 3,
   "metadata": {},
   "outputs": [],
   "source": [
    "from cubes import Workspace\n",
    "\n",
    "workspace = Workspace()\n",
    "workspace.register_default_store(\"sql\", url=\"sqlite:///data.sqlite\")"
   ]
  },
  {
   "cell_type": "markdown",
   "metadata": {},
   "source": [
    "The structure of data cubes (in terms of dimensions, measures, and aggregates) is specified in JSON files. We now import file 'tutorial_model.json' (found in the lab supplementary material) which includes an example model of the data cube, dimension tables, and aggregate functions for the CSV file we loaded previously."
   ]
  },
  {
   "cell_type": "code",
   "execution_count": 4,
   "metadata": {},
   "outputs": [],
   "source": [
    "workspace.import_model(\"tutorial_model.json\")"
   ]
  },
  {
   "cell_type": "markdown",
   "metadata": {},
   "source": [
    "**Please make sure to inspect the structure of the above JSON file - this will be relevant for one of the assignment questions.**\n",
    "\n",
    "We can now create a data cube based on the above data cube model and data table:"
   ]
  },
  {
   "cell_type": "code",
   "execution_count": 5,
   "metadata": {},
   "outputs": [],
   "source": [
    "cube = workspace.cube(\"ibrd_balance\")\n",
    "# this is from the csv"
   ]
  },
  {
   "cell_type": "markdown",
   "metadata": {},
   "source": [
    "## 4. Aggregations and OLAP operations\n",
    "\n",
    "*Browser* is an object that does the actual aggregations and other data queries for a cube. To obtain one:"
   ]
  },
  {
   "cell_type": "code",
   "execution_count": 6,
   "metadata": {},
   "outputs": [],
   "source": [
    "browser = workspace.browser(cube)"
   ]
  },
  {
   "cell_type": "markdown",
   "metadata": {},
   "source": [
    "We can now compute aggregates of the data cube as specified by the data cube model. For computing the total count of records:"
   ]
  },
  {
   "cell_type": "code",
   "execution_count": 7,
   "metadata": {},
   "outputs": [
    {
     "data": {
      "text/plain": [
       "62"
      ]
     },
     "execution_count": 7,
     "metadata": {},
     "output_type": "execute_result"
    }
   ],
   "source": [
    "#len(row)\n",
    "\n",
    "result = browser.aggregate()\n",
    "result.summary[\"record_count\"]"
   ]
  },
  {
   "cell_type": "markdown",
   "metadata": {},
   "source": [
    "For computing a sum of the amount:"
   ]
  },
  {
   "cell_type": "code",
   "execution_count": 8,
   "metadata": {},
   "outputs": [
    {
     "data": {
      "text/plain": [
       "1116860"
      ]
     },
     "execution_count": 8,
     "metadata": {},
     "output_type": "execute_result"
    }
   ],
   "source": [
    "# from json, aggreates: name: amount_sum, function: sum, measure (data source): amount\n",
    "\n",
    "\n",
    "result.summary[\"amount_sum\"]"
   ]
  },
  {
   "cell_type": "markdown",
   "metadata": {},
   "source": [
    "Now we can try to compute aggregates by year:"
   ]
  },
  {
   "cell_type": "code",
   "execution_count": 9,
   "metadata": {},
   "outputs": [
    {
     "name": "stdout",
     "output_type": "stream",
     "text": [
      "{'year': 2009, 'amount_sum': 550840, 'amount_min': -1683, 'amount_max': 110040, 'record_count': 31}\n",
      "{'year': 2010, 'amount_sum': 566020, 'amount_min': -3043, 'amount_max': 128577, 'record_count': 31}\n"
     ]
    }
   ],
   "source": [
    "# QUESTION 3\n",
    "result = browser.aggregate(drilldown=[\"year\"])\n",
    "for record in result:\n",
    "    print(record)\n"
   ]
  },
  {
   "cell_type": "markdown",
   "metadata": {},
   "source": [
    "Or compute aggregates by item category:"
   ]
  },
  {
   "cell_type": "code",
   "execution_count": 10,
   "metadata": {},
   "outputs": [
    {
     "name": "stdout",
     "output_type": "stream",
     "text": [
      "{'item.category': 'a', 'item.category_label': 'Assets', 'amount_sum': 558430, 'amount_min': 0, 'amount_max': 118104, 'record_count': 32}\n",
      "{'item.category': 'e', 'item.category_label': 'Equity', 'amount_sum': 77592, 'amount_min': -3043, 'amount_max': 29870, 'record_count': 8}\n",
      "{'item.category': 'l', 'item.category_label': 'Liabilities', 'amount_sum': 480838, 'amount_min': 8, 'amount_max': 128577, 'record_count': 22}\n"
     ]
    }
   ],
   "source": [
    "result = browser.aggregate(drilldown=[\"item\"])\n",
    "for record in result:\n",
    "    print(record)"
   ]
  },
  {
   "cell_type": "markdown",
   "metadata": {},
   "source": [
    "We can also perform *slicing* and *dicing* operations on the data cube. The below example performs a slicing operation on the data cube by selecting only entries with the year being 2009, and displays aggregates according to the item category. Here, a *cell* defines a point of interest – portion of the cube to be aggergated or browsed."
   ]
  },
  {
   "cell_type": "code",
   "execution_count": 11,
   "metadata": {},
   "outputs": [
    {
     "name": "stdout",
     "output_type": "stream",
     "text": [
      "{'item.category': 'a', 'item.category_label': 'Assets', 'amount_sum': 275420, 'amount_min': 33, 'amount_max': 103657, 'record_count': 16}\n",
      "{'item.category': 'e', 'item.category_label': 'Equity', 'amount_sum': 40037, 'amount_min': -1683, 'amount_max': 29870, 'record_count': 4}\n",
      "{'item.category': 'l', 'item.category_label': 'Liabilities', 'amount_sum': 235383, 'amount_min': 57, 'amount_max': 110040, 'record_count': 11}\n"
     ]
    }
   ],
   "source": [
    "import cubes as cubes\n",
    "cuts = [cubes.PointCut(\"year\", [\"2009\"])]\n",
    "cell = cubes.Cell(cube, cuts)\n",
    "result = browser.aggregate(cell, drilldown=[\"item\"])\n",
    "for record in result:\n",
    "    print(record)"
   ]
  },
  {
   "cell_type": "markdown",
   "metadata": {},
   "source": [
    "It's worth noting that in Cubes, slicing operations can be created by either specifying a \"point cut\" which selects a single value of an attribute in a given dimension (called using the cubes.PointCut() function as above), or by specifying a \"range cut\", which selects a range of values for a given dimension. The range cut can be called using the cubes.RangeCut() function, which takes as input the attribute name, the minimum value of the specified range, and the maximum value of the range.\n",
    "\n",
    "Similarly, we can perform a *dicing* operation on the data cube by performing a selection on two or more dimensions. The below example performs a dicing operation on the data cube, selecting entries with the year being 2009 and the item category being \"a\", and displays the aggregate results:"
   ]
  },
  {
   "cell_type": "code",
   "execution_count": 12,
   "metadata": {},
   "outputs": [
    {
     "data": {
      "text/plain": [
       "{'amount_sum': 275420,\n",
       " 'amount_min': 33,\n",
       " 'amount_max': 103657,\n",
       " 'record_count': 16}"
      ]
     },
     "execution_count": 12,
     "metadata": {},
     "output_type": "execute_result"
    }
   ],
   "source": [
    "cuts = [cubes.PointCut(\"year\", [\"2009\"]),cubes.PointCut(\"item\", [\"a\"])]\n",
    "cell = cubes.Cell(cube, cuts)\n",
    "result = browser.aggregate(cell,drilldown=[\"item\"])\n",
    "result.summary"
   ]
  },
  {
   "cell_type": "markdown",
   "metadata": {},
   "source": [
    "We can also *drill down* lower in the Category hierarchy. Here, we perform a dicing operation to select records with year being 2009 and item category being \"a\" (corresponding to assets), and show aggregates for each subcategory level."
   ]
  },
  {
   "cell_type": "code",
   "execution_count": 13,
   "metadata": {},
   "outputs": [
    {
     "name": "stdout",
     "output_type": "stream",
     "text": [
      "{'item.category': 'a', 'item.category_label': 'Assets', 'item.subcategory': 'da', 'item.subcategory_label': 'Derivative Assets', 'amount_sum': 123065, 'amount_min': 2246, 'amount_max': 82793, 'record_count': 4}\n",
      "{'item.category': 'a', 'item.category_label': 'Assets', 'item.subcategory': 'dfb', 'item.subcategory_label': 'Due from Banks', 'amount_sum': 3044, 'amount_min': 664, 'amount_max': 2380, 'record_count': 2}\n",
      "{'item.category': 'a', 'item.category_label': 'Assets', 'item.subcategory': 'i', 'item.subcategory_label': 'Investments', 'amount_sum': 41012, 'amount_min': 41012, 'amount_max': 41012, 'record_count': 1}\n",
      "{'item.category': 'a', 'item.category_label': 'Assets', 'item.subcategory': 'lo', 'item.subcategory_label': 'Loans Outstanding', 'amount_sum': 103657, 'amount_min': 103657, 'amount_max': 103657, 'record_count': 1}\n",
      "{'item.category': 'a', 'item.category_label': 'Assets', 'item.subcategory': 'nn', 'item.subcategory_label': 'Nonnegotiable', 'amount_sum': 1202, 'amount_min': 1202, 'amount_max': 1202, 'record_count': 1}\n",
      "{'item.category': 'a', 'item.category_label': 'Assets', 'item.subcategory': 'oa', 'item.subcategory_label': 'Other Assets', 'amount_sum': 2247, 'amount_min': 325, 'amount_max': 1297, 'record_count': 3}\n",
      "{'item.category': 'a', 'item.category_label': 'Assets', 'item.subcategory': 'orcv', 'item.subcategory_label': 'Other Receivables', 'amount_sum': 984, 'amount_min': 95, 'amount_max': 889, 'record_count': 2}\n",
      "{'item.category': 'a', 'item.category_label': 'Assets', 'item.subcategory': 'rcv', 'item.subcategory_label': 'Receivables', 'amount_sum': 176, 'amount_min': 176, 'amount_max': 176, 'record_count': 1}\n",
      "{'item.category': 'a', 'item.category_label': 'Assets', 'item.subcategory': 's', 'item.subcategory_label': 'Securities', 'amount_sum': 33, 'amount_min': 33, 'amount_max': 33, 'record_count': 1}\n"
     ]
    }
   ],
   "source": [
    "cuts = [cubes.PointCut(\"year\", [\"2009\"]),cubes.PointCut(\"item\", [\"a\"])]\n",
    "cell = cubes.Cell(cube, cuts)\n",
    "result = browser.aggregate(cell,drilldown=[\"item:subcategory\"])\n",
    "for record in result:\n",
    "    print(record)"
   ]
  },
  {
   "cell_type": "markdown",
   "metadata": {},
   "source": [
    "1. We can use the same CSV file and data cube in the above tutorial, modify the \"tutorial_model.json\" file to include aggregate measures for the minimum and maximum amount per year in the data cube."
   ]
  },
  {
   "cell_type": "markdown",
   "metadata": {},
   "source": [
    "- JSON File:\n",
    "```\n",
    "{\n",
    "    \"dimensions\": [\n",
    "        {\n",
    "         \"name\":\"item\",\n",
    "         \"levels\": [\n",
    "                {\n",
    "                    \"name\":\"category\",\n",
    "                    \"label\":\"Category\",\n",
    "                    \"attributes\": [\"category\", \"category_label\"]\n",
    "                },\n",
    "                {\n",
    "                    \"name\":\"subcategory\",\n",
    "                    \"label\":\"Sub-category\",\n",
    "                    \"attributes\": [\"subcategory\", \"subcategory_label\"]\n",
    "                },\n",
    "                {\n",
    "                    \"name\":\"line_item\",\n",
    "                    \"label\":\"Line Item\",\n",
    "                    \"attributes\": [\"line_item\"]\n",
    "                }\n",
    "            ]\n",
    "        },\n",
    "        {\"name\":\"year\", \"role\": \"time\"}\n",
    "    ],\n",
    "    \"cubes\": [\n",
    "        {\n",
    "            \"name\": \"ibrd_balance\",\n",
    "            \"dimensions\": [\"item\", \"year\"],\n",
    "            \"measures\": [{\"name\":\"amount\", \"label\":\"Amount\"}],\n",
    "            \"aggregates\": [\n",
    "                    {\n",
    "                        \"name\": \"amount_sum\",\n",
    "                        \"function\": \"sum\",\n",
    "                        \"measure\": \"amount\"\n",
    "                    }, \n",
    "                    {\n",
    "                        \"name\": \"amount_min\",\n",
    "                        \"function\": \"min\",\n",
    "                        \"measure\": \"amount\"\n",
    "                    },\n",
    "                    {\n",
    "                        \"name\": \"amount_max\",\n",
    "                        \"function\": \"max\",\n",
    "                        \"measure\": \"amount\"\n",
    "                    },\n",
    "                    {\n",
    "                        \"name\": \"record_count\",\n",
    "                        \"function\": \"count\"\n",
    "                    }\n",
    "                ],\n",
    "            \"mappings\": {\n",
    "                          \"item.line_item\": \"line_item\",\n",
    "                          \"item.subcategory\": \"subcategory\",\n",
    "                          \"item.subcategory_label\": \"subcategory_label\",\n",
    "                          \"item.category\": \"category\",\n",
    "                          \"item.category_label\": \"category_label\"\n",
    "                         },\n",
    "            \"info\": {\n",
    "                \"min_date\": \"2010-01-01\",\n",
    "                \"max_date\": \"2010-12-31\"\n",
    "            }\n",
    "        }\n",
    "    ]\n",
    "}\n",
    "\n",
    "```\n",
    "\n"
   ]
  },
  {
   "cell_type": "markdown",
   "metadata": {},
   "source": [
    "> Using the same CSV file and data cube in the above lab tutorial, modify the \"tutorial_model.json\" file to \n",
    "- include aggregate measures for the minimum and maximum amount in the data cube. "
   ]
  },
  {
   "cell_type": "code",
   "execution_count": 14,
   "metadata": {},
   "outputs": [
    {
     "name": "stdout",
     "output_type": "stream",
     "text": [
      "{'amount_sum': 1116860, 'amount_min': -3043, 'amount_max': 128577, 'record_count': 62}\n"
     ]
    }
   ],
   "source": [
    "result = browser.aggregate()\n",
    "print (result.summary)"
   ]
  },
  {
   "cell_type": "markdown",
   "metadata": {},
   "source": [
    "- Using these implemented aggregate measures, produce the values for the minimum and maximum amount in the data per year."
   ]
  },
  {
   "cell_type": "code",
   "execution_count": 15,
   "metadata": {},
   "outputs": [
    {
     "name": "stdout",
     "output_type": "stream",
     "text": [
      "{'year': 2009, 'amount_sum': 550840, 'amount_min': -1683, 'amount_max': 110040, 'record_count': 31}\n",
      "{'year': 2010, 'amount_sum': 566020, 'amount_min': -3043, 'amount_max': 128577, 'record_count': 31}\n"
     ]
    }
   ],
   "source": [
    "result = browser.aggregate(drilldown=[\"year\"])\n",
    "for record in result:\n",
    "    print(record)"
   ]
  },
  {
   "cell_type": "markdown",
   "metadata": {},
   "source": [
    "2. We can also use the CSV file \"country-income.csv\", perform the following:\n",
    "  1. Load the CSV file using Cubes, create a JSON file for the data cube model, and create a data cube for the data. Use as dimensions the region, age, and online shopper fields. Use as measure the income. Define aggregate functions in the data cube model for the total, average, minimum, and maximum income.\n",
    "  2. Using the created data cube and data cube model, produce aggregate results for: the whole data cube; results per region; results per online shopping activity; and results for all people aged between 40 and 50. "
   ]
  },
  {
   "cell_type": "markdown",
   "metadata": {},
   "source": [
    "- JSON File:\n",
    "\n",
    "```{\n",
    "    \"dimensions\": [{\"name\":\"Region\"},\n",
    "                {\"name\":\"Age\"},\n",
    "                {\"name\":\"Online_shopper\"}],\n",
    "    \"cubes\": [\n",
    "        {\n",
    "            \"name\": \"country_income\",\n",
    "            \"dimensions\": [\"Region\", \"Age\", \"Online_shopper\"],\n",
    "            \"measures\": [{\"name\":\"Income\"}],\n",
    "            \"aggregates\": [\n",
    "                    {\n",
    "                        \"name\": \"amount_total\",\n",
    "                        \"function\": \"sum\",\n",
    "                        \"measure\": \"Income\"\n",
    "                    }, \n",
    "                    {\n",
    "                        \"name\": \"amount_average\",\n",
    "                        \"function\": \"avg\",\n",
    "                        \"measure\": \"Income\"\n",
    "                    },\n",
    "                    {\n",
    "                        \"name\": \"amount_min\",\n",
    "                        \"function\": \"min\",\n",
    "                        \"measure\": \"Income\"\n",
    "                    },\n",
    "                    {\n",
    "                        \"name\": \"amount_max\",\n",
    "                        \"function\": \"max\",\n",
    "                        \"measure\": \"Income\"\n",
    "                    }\n",
    "                ],\n",
    "            \"mappings\": {},\n",
    "            \"info\": {}\n",
    "    }\n",
    "    ]\n",
    "}\n",
    "```\n",
    "\n",
    "> Load the CSV file using Cubes, create a JSON file for the data cube model, and create a data cube for the data.\n",
    "1. Use as dimensions the region, age, and online shopper fields. \n",
    "2. Use as measure the income. "
   ]
  },
  {
   "cell_type": "code",
   "execution_count": 19,
   "metadata": {},
   "outputs": [],
   "source": [
    "create_table_from_csv(engine,\n",
    "                      \"country-income.csv\",\n",
    "                      table_name=\"country_income\",\n",
    "                      fields=[\n",
    "                          (\"Region\", \"string\"),\n",
    "                          (\"Age\", \"integer\"),\n",
    "                          (\"Income\", \"integer\"),\n",
    "                          (\"Online_shopper\", \"boolean\")],\n",
    "                      create_id=True\n",
    "                     )\n",
    "\n",
    "workspace.import_model(\"income_model.json\")\n",
    "cube = workspace.cube(\"country_income\")\n",
    "browser = workspace.browser(cube)"
   ]
  },
  {
   "cell_type": "markdown",
   "metadata": {},
   "source": [
    "> Using the created data cube and data cube model:  \n",
    "1. Define aggregate functions in the data cube model for the total, average, minimum, and maximum income. \n",
    "2. Using the created data cube and data cube model, produce aggregate results for: "
   ]
  },
  {
   "cell_type": "code",
   "execution_count": 21,
   "metadata": {},
   "outputs": [
    {
     "name": "stdout",
     "output_type": "stream",
     "text": [
      "{'amount_total': 768200, 'amount_average': 76820.0, 'amount_min': 57600, 'amount_max': 99600}\n"
     ]
    }
   ],
   "source": [
    "# the whole data cube;\n",
    "result = browser.aggregate()\n",
    "print (result.summary)"
   ]
  },
  {
   "cell_type": "code",
   "execution_count": 22,
   "metadata": {},
   "outputs": [
    {
     "name": "stdout",
     "output_type": "stream",
     "text": [
      "{'Region': 'Brazil', 'amount_total': 193200, 'amount_average': 64400.0, 'amount_min': 57600, 'amount_max': 73200}\n",
      "{'Region': 'India', 'amount_total': 331200, 'amount_average': 82800.0, 'amount_min': 69600, 'amount_max': 94800}\n",
      "{'Region': 'USA', 'amount_total': 243800, 'amount_average': 81266.66666666667, 'amount_min': 64800, 'amount_max': 99600}\n"
     ]
    }
   ],
   "source": [
    "# results per region; \n",
    "result = browser.aggregate(drilldown=[\"Region\"])\n",
    "for record in result:\n",
    "    print(record)"
   ]
  },
  {
   "cell_type": "code",
   "execution_count": 23,
   "metadata": {},
   "outputs": [
    {
     "name": "stdout",
     "output_type": "stream",
     "text": [
      "{'Online_shopper': 'No', 'amount_total': 386400, 'amount_average': 77280.0, 'amount_min': 62400, 'amount_max': 99600}\n",
      "{'Online_shopper': 'Yes', 'amount_total': 381800, 'amount_average': 76360.0, 'amount_min': 57600, 'amount_max': 94800}\n"
     ]
    }
   ],
   "source": [
    "# results per online shopping activity; \n",
    "result = browser.aggregate(drilldown=[\"Online_shopper\"])\n",
    "for record in result:\n",
    "    print(record)"
   ]
  },
  {
   "cell_type": "code",
   "execution_count": 24,
   "metadata": {},
   "outputs": [
    {
     "name": "stdout",
     "output_type": "stream",
     "text": [
      "{'amount_total': 451400, 'amount_average': 75233.33333333333, 'amount_min': 62400, 'amount_max': 86400}\n"
     ]
    }
   ],
   "source": [
    "# results for all people aged between 40 and 50.\n",
    "import cubes as cubes\n",
    "\n",
    "cuts = [\n",
    "    cubes.RangeCut(\"Age\",[40], [50])\n",
    "]\n",
    "\n",
    "cell = cubes.Cell(cube, cuts)\n",
    "result = browser.aggregate(cell, drilldown=[\"Age\"])\n",
    "    \n",
    "print(result.summary)"
   ]
  },
  {
   "cell_type": "code",
   "execution_count": null,
   "metadata": {},
   "outputs": [],
   "source": []
  }
 ],
 "metadata": {
  "kernelspec": {
   "display_name": "Python 3",
   "language": "python",
   "name": "python3"
  },
  "language_info": {
   "codemirror_mode": {
    "name": "ipython",
    "version": 3
   },
   "file_extension": ".py",
   "mimetype": "text/x-python",
   "name": "python",
   "nbconvert_exporter": "python",
   "pygments_lexer": "ipython3",
   "version": "3.8.8"
  }
 },
 "nbformat": 4,
 "nbformat_minor": 2
}
